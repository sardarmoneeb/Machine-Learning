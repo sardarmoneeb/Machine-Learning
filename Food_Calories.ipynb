{
  "cells": [
    {
      "cell_type": "markdown",
      "metadata": {
        "id": "view-in-github",
        "colab_type": "text"
      },
      "source": [
        "<a href=\"https://colab.research.google.com/github/sardarmoneeb/Machine-Learning/blob/main/Food_Calories.ipynb\" target=\"_parent\"><img src=\"https://colab.research.google.com/assets/colab-badge.svg\" alt=\"Open In Colab\"/></a>"
      ]
    },
    {
      "cell_type": "code",
      "execution_count": null,
      "metadata": {
        "id": "tNo01yOZj77G"
      },
      "outputs": [],
      "source": [
        "!kill -9 -1\n"
      ]
    },
    {
      "cell_type": "code",
      "execution_count": 2,
      "metadata": {
        "colab": {
          "base_uri": "https://localhost:8080/"
        },
        "id": "jYAy1c35g7b2",
        "outputId": "e41999a4-8ea9-412f-b190-b8527ea8e930"
      },
      "outputs": [
        {
          "output_type": "stream",
          "name": "stdout",
          "text": [
            "Mounted at /content/drive\n"
          ]
        }
      ],
      "source": [
        "from google.colab import drive\n",
        "drive.mount('/content/drive')\n"
      ]
    },
    {
      "cell_type": "code",
      "execution_count": null,
      "metadata": {
        "colab": {
          "base_uri": "https://localhost:8080/"
        },
        "id": "9SiGtXYVhOW3",
        "outputId": "e7a3f17f-ffb4-4380-e065-241ea2a04dc9"
      },
      "outputs": [
        {
          "name": "stdout",
          "output_type": "stream",
          "text": [
            "Collecting opendatasets\n",
            "  Downloading opendatasets-0.1.22-py3-none-any.whl.metadata (9.2 kB)\n",
            "Requirement already satisfied: tqdm in /usr/local/lib/python3.12/dist-packages (from opendatasets) (4.67.1)\n",
            "Requirement already satisfied: kaggle in /usr/local/lib/python3.12/dist-packages (from opendatasets) (1.7.4.5)\n",
            "Requirement already satisfied: click in /usr/local/lib/python3.12/dist-packages (from opendatasets) (8.3.0)\n",
            "Requirement already satisfied: bleach in /usr/local/lib/python3.12/dist-packages (from kaggle->opendatasets) (6.3.0)\n",
            "Requirement already satisfied: certifi>=14.05.14 in /usr/local/lib/python3.12/dist-packages (from kaggle->opendatasets) (2025.10.5)\n",
            "Requirement already satisfied: charset-normalizer in /usr/local/lib/python3.12/dist-packages (from kaggle->opendatasets) (3.4.4)\n",
            "Requirement already satisfied: idna in /usr/local/lib/python3.12/dist-packages (from kaggle->opendatasets) (3.11)\n",
            "Requirement already satisfied: protobuf in /usr/local/lib/python3.12/dist-packages (from kaggle->opendatasets) (5.29.5)\n",
            "Requirement already satisfied: python-dateutil>=2.5.3 in /usr/local/lib/python3.12/dist-packages (from kaggle->opendatasets) (2.9.0.post0)\n",
            "Requirement already satisfied: python-slugify in /usr/local/lib/python3.12/dist-packages (from kaggle->opendatasets) (8.0.4)\n",
            "Requirement already satisfied: requests in /usr/local/lib/python3.12/dist-packages (from kaggle->opendatasets) (2.32.4)\n",
            "Requirement already satisfied: setuptools>=21.0.0 in /usr/local/lib/python3.12/dist-packages (from kaggle->opendatasets) (75.2.0)\n",
            "Requirement already satisfied: six>=1.10 in /usr/local/lib/python3.12/dist-packages (from kaggle->opendatasets) (1.17.0)\n",
            "Requirement already satisfied: text-unidecode in /usr/local/lib/python3.12/dist-packages (from kaggle->opendatasets) (1.3)\n",
            "Requirement already satisfied: urllib3>=1.15.1 in /usr/local/lib/python3.12/dist-packages (from kaggle->opendatasets) (2.5.0)\n",
            "Requirement already satisfied: webencodings in /usr/local/lib/python3.12/dist-packages (from kaggle->opendatasets) (0.5.1)\n",
            "Downloading opendatasets-0.1.22-py3-none-any.whl (15 kB)\n",
            "Installing collected packages: opendatasets\n",
            "Successfully installed opendatasets-0.1.22\n"
          ]
        }
      ],
      "source": [
        "!pip install opendatasets"
      ]
    },
    {
      "cell_type": "code",
      "execution_count": null,
      "metadata": {
        "colab": {
          "base_uri": "https://localhost:8080/"
        },
        "id": "ooqtKQHzhcpO",
        "outputId": "78aa85f3-44ba-4986-e7b5-d3ed96d61392"
      },
      "outputs": [
        {
          "name": "stdout",
          "output_type": "stream",
          "text": [
            "Please provide your Kaggle credentials to download this dataset. Learn more: http://bit.ly/kaggle-creds\n",
            "Your Kaggle username: moneebmushtaq\n",
            "Your Kaggle Key: ··········\n",
            "Dataset URL: https://www.kaggle.com/datasets/iamsouravbanerjee/indian-food-images-dataset\n",
            "Downloading indian-food-images-dataset.zip to /content/drive/MyDrive/indian-food-images-dataset/indian-food-images-dataset\n"
          ]
        },
        {
          "name": "stderr",
          "output_type": "stream",
          "text": [
            "100%|██████████| 355M/355M [00:03<00:00, 117MB/s] \n"
          ]
        },
        {
          "name": "stdout",
          "output_type": "stream",
          "text": [
            "\n"
          ]
        }
      ],
      "source": [
        "import opendatasets as od\n",
        "\n",
        "dataset_url = 'https://www.kaggle.com/datasets/iamsouravbanerjee/indian-food-images-dataset'\n",
        "target_path = '/content/drive/MyDrive/indian-food-images-dataset'\n",
        "\n",
        "od.download(dataset_url, data_dir=target_path)"
      ]
    },
    {
      "cell_type": "code",
      "execution_count": null,
      "metadata": {
        "colab": {
          "base_uri": "https://localhost:8080/"
        },
        "id": "K92HGviCh2ak",
        "outputId": "e0d25537-95e2-46ee-fcf6-1f8cf6236fe4"
      },
      "outputs": [
        {
          "name": "stdout",
          "output_type": "stream",
          "text": [
            "✅ Dataset structure fixed! Classes moved to: /content/drive/MyDrive/Indian_Food_Images_Dataset\n"
          ]
        }
      ],
      "source": [
        "import shutil\n",
        "import os\n",
        "\n",
        "# Current (nested) path\n",
        "src = \"/content/drive/MyDrive/indian-food-images-dataset/indian-food-images-dataset/Indian Food Images/Indian Food Images\"\n",
        "dst = \"/content/drive/MyDrive/Indian_Food_Images_Dataset\"\n",
        "\n",
        "# Move all class folders (e.g., adhirasam, dosa, etc.)\n",
        "for folder in os.listdir(src):\n",
        "    shutil.move(os.path.join(src, folder), dst)\n",
        "\n",
        "print(\"✅ Dataset structure fixed! Classes moved to:\", dst)\n"
      ]
    },
    {
      "cell_type": "code",
      "execution_count": null,
      "metadata": {
        "colab": {
          "base_uri": "https://localhost:8080/"
        },
        "id": "k2TM7WcqnkRZ",
        "outputId": "9ec9aee5-4d76-417b-a923-108253a9dd03"
      },
      "outputs": [
        {
          "name": "stdout",
          "output_type": "stream",
          "text": [
            "Total classes: 129\n",
            "Example classes: ['02d09e872d.jpg', '02f2e49039.jpg', '06c639bab2.jpg', '08b8f8efc1.jpg', '09a37d7cc7.jpg', '0cd70ffc10.jpg', '0d09b0e580.jpg', '0e84c2b7fd.jpg', '10f608ecc4.jpg', '12b1eb8026.jpg']\n"
          ]
        }
      ],
      "source": [
        "import os\n",
        "\n",
        "data_dir = \"/content/drive/MyDrive/Indian_Food_Images_Dataset\"\n",
        "print(\"Total classes:\", len(os.listdir(data_dir)))\n",
        "print(\"Example classes:\", os.listdir(data_dir)[:10])\n"
      ]
    },
    {
      "cell_type": "code",
      "execution_count": null,
      "metadata": {
        "colab": {
          "base_uri": "https://localhost:8080/"
        },
        "id": "37o_bhWVoNVa",
        "outputId": "425411d9-b903-4400-8945-82a0bbc3e4b9"
      },
      "outputs": [
        {
          "name": "stdout",
          "output_type": "stream",
          "text": [
            "Total classes: 129\n",
            "Example classes: ['02d09e872d.jpg', '02f2e49039.jpg', '06c639bab2.jpg', '08b8f8efc1.jpg', '09a37d7cc7.jpg', '0cd70ffc10.jpg', '0d09b0e580.jpg', '0e84c2b7fd.jpg', '10f608ecc4.jpg', '12b1eb8026.jpg']\n"
          ]
        }
      ],
      "source": [
        "import os\n",
        "\n",
        "dataset_path = \"/content/drive/MyDrive/Indian_Food_Images_Dataset\"\n",
        "\n",
        "classes = os.listdir(dataset_path)\n",
        "print(\"Total classes:\", len(classes))\n",
        "print(\"Example classes:\", classes[:10])\n"
      ]
    },
    {
      "cell_type": "code",
      "execution_count": null,
      "metadata": {
        "colab": {
          "base_uri": "https://localhost:8080/"
        },
        "id": "pEQlz2wLo8YH",
        "outputId": "925d0a92-1ef8-4ec8-d193-16080492a88d"
      },
      "outputs": [
        {
          "name": "stdout",
          "output_type": "stream",
          "text": [
            "✅ Correct dataset path found at: /content/drive/MyDrive/Indian_Food_Images_Dataset/aloo_gobi\n"
          ]
        }
      ],
      "source": [
        "import os\n",
        "\n",
        "# Adjust this if needed\n",
        "base_path = \"/content\"\n",
        "\n",
        "for root, dirs, files in os.walk(base_path):\n",
        "    if 'aloo_gobi' in dirs:\n",
        "        print(\"✅ Correct dataset path found at:\", os.path.join(root, 'aloo_gobi'))\n",
        "        break\n"
      ]
    },
    {
      "cell_type": "code",
      "execution_count": null,
      "metadata": {
        "colab": {
          "base_uri": "https://localhost:8080/"
        },
        "id": "J3Rp6dhdpQyY",
        "outputId": "6829dfda-2a82-45d0-cdb0-90af50421cf3"
      },
      "outputs": [
        {
          "name": "stdout",
          "output_type": "stream",
          "text": [
            "Total classes: 79\n",
            "Example classes: ['aloo_gobi', 'aloo_matar', 'aloo_methi', 'aloo_shimla_mirch', 'aloo_tikki', 'anarsa', 'ariselu', 'bandar_laddu', 'basundi', 'bhatura']\n",
            "Total images: 4000\n"
          ]
        }
      ],
      "source": [
        "import os\n",
        "\n",
        "# ✅ Set dataset path (root folder containing all food categories)\n",
        "dataset_path = \"/content/drive/MyDrive/Indian_Food_Images_Dataset\"\n",
        "\n",
        "# Get class folders (each folder = one food type)\n",
        "classes = [d for d in os.listdir(dataset_path) if os.path.isdir(os.path.join(dataset_path, d))]\n",
        "\n",
        "print(\"Total classes:\", len(classes))\n",
        "print(\"Example classes:\", classes[:10])\n",
        "\n",
        "# Count total images\n",
        "total_images = sum([len(files) for _, _, files in os.walk(dataset_path)])\n",
        "print(\"Total images:\", total_images)\n"
      ]
    },
    {
      "cell_type": "code",
      "execution_count": null,
      "metadata": {
        "colab": {
          "base_uri": "https://localhost:8080/"
        },
        "id": "5ofHF-v5peta",
        "outputId": "69a867c0-6db8-4418-d151-6bb3070711dd"
      },
      "outputs": [
        {
          "name": "stdout",
          "output_type": "stream",
          "text": [
            "✅ Total images analyzed: 3950\n",
            "📏 Average Width: 610.61\n",
            "📏 Average Height: 550.67\n",
            "🔹 Min Width: 129, Max Width: 4264\n",
            "🔹 Min Height: 117, Max Height: 4032\n"
          ]
        }
      ],
      "source": [
        "from PIL import Image\n",
        "import os\n",
        "import numpy as np\n",
        "from tqdm import tqdm\n",
        "\n",
        "dataset_path = \"/content/drive/MyDrive/Indian_Food_Images_Dataset\"\n",
        "\n",
        "widths = []\n",
        "heights = []\n",
        "\n",
        "# Collect image dimensions\n",
        "for class_name in os.listdir(dataset_path):\n",
        "    class_folder = os.path.join(dataset_path, class_name)\n",
        "    if os.path.isdir(class_folder):\n",
        "        for img_name in os.listdir(class_folder):\n",
        "            img_path = os.path.join(class_folder, img_name)\n",
        "            try:\n",
        "                with Image.open(img_path) as img:\n",
        "                    width, height = img.size\n",
        "                    widths.append(width)\n",
        "                    heights.append(height)\n",
        "            except:\n",
        "                pass  # skip corrupted images\n",
        "\n",
        "print(f\"✅ Total images analyzed: {len(widths)}\")\n",
        "print(f\"📏 Average Width: {np.mean(widths):.2f}\")\n",
        "print(f\"📏 Average Height: {np.mean(heights):.2f}\")\n",
        "print(f\"🔹 Min Width: {np.min(widths)}, Max Width: {np.max(widths)}\")\n",
        "print(f\"🔹 Min Height: {np.min(heights)}, Max Height: {np.max(heights)}\")\n"
      ]
    },
    {
      "cell_type": "code",
      "execution_count": null,
      "metadata": {
        "id": "H2qmqacGpwcq"
      },
      "outputs": [],
      "source": [
        "IMG_HEIGHT = 224\n",
        "IMG_WIDTH = 224\n"
      ]
    },
    {
      "cell_type": "code",
      "execution_count": null,
      "metadata": {
        "colab": {
          "base_uri": "https://localhost:8080/",
          "height": 428
        },
        "id": "R2IOFWQ1qIdP",
        "outputId": "5c96dbcb-83f3-40ac-ea30-2f0557a129ad"
      },
      "outputs": [
        {
          "data": {
            "image/png": "[encoded data removed]",
            "text/plain": [
              "<Figure size 640x480 with 1 Axes>"
            ]
          },
          "metadata": {},
          "output_type": "display_data"
        }
      ],
      "source": [
        "from PIL import Image\n",
        "import matplotlib.pyplot as plt\n",
        "import random\n",
        "import os\n",
        "\n",
        "dataset_path = \"/content/drive/MyDrive/Indian_Food_Images_Dataset\"\n",
        "classes = os.listdir(dataset_path)\n",
        "\n",
        "sample_class = random.choice(classes)\n",
        "sample_folder = os.path.join(dataset_path, sample_class)\n",
        "sample_image = random.choice(os.listdir(sample_folder))\n",
        "\n",
        "img_path = os.path.join(sample_folder, sample_image)\n",
        "img = Image.open(img_path).resize((IMG_WIDTH, IMG_HEIGHT))\n",
        "\n",
        "plt.imshow(img)\n",
        "plt.title(f\"{sample_class} - resized to {IMG_WIDTH}x{IMG_HEIGHT}\")\n",
        "plt.axis(\"off\")\n",
        "plt.show()\n"
      ]
    },
    {
      "cell_type": "code",
      "execution_count": null,
      "metadata": {
        "colab": {
          "base_uri": "https://localhost:8080/",
          "height": 441
        },
        "id": "bM5DoGjaqKjV",
        "outputId": "adb9f563-dc01-439d-fc37-f049ea4a0cef"
      },
      "outputs": [
        {
          "name": "stdout",
          "output_type": "stream",
          "text": [
            "✅ Total Classes: 79\n"
          ]
        },
        {
          "data": {
            "application/vnd.google.colaboratory.intrinsic+json": {
              "summary": "{\n  \"name\": \"df_counts\",\n  \"rows\": 79,\n  \"fields\": [\n    {\n      \"column\": \"Class\",\n      \"properties\": {\n        \"dtype\": \"string\",\n        \"num_unique_values\": 79,\n        \"samples\": [\n          \"dum_aloo\",\n          \"aloo_gobi\",\n          \"chikki\"\n        ],\n        \"semantic_type\": \"\",\n        \"description\": \"\"\n      }\n    },\n    {\n      \"column\": \"Image_Count\",\n      \"properties\": {\n        \"dtype\": \"number\",\n        \"std\": 0,\n        \"min\": 50,\n        \"max\": 50,\n        \"num_unique_values\": 1,\n        \"samples\": [\n          50\n        ],\n        \"semantic_type\": \"\",\n        \"description\": \"\"\n      }\n    }\n  ]\n}",
              "type": "dataframe",
              "variable_name": "df_counts"
            },
            "text/html": [
              "\n",
              "  <div id=\"df-a39e67e0-5c2c-45ff-ada9-abed943fdfe6\" class=\"colab-df-container\">\n",
              "    <div>\n",
              "<style scoped>\n",
              "    .dataframe tbody tr th:only-of-type {\n",
              "        vertical-align: middle;\n",
              "    }\n",
              "\n",
              "    .dataframe tbody tr th {\n",
              "        vertical-align: top;\n",
              "    }\n",
              "\n",
              "    .dataframe thead th {\n",
              "        text-align: right;\n",
              "    }\n",
              "</style>\n",
              "<table border=\"1\" class=\"dataframe\">\n",
              "  <thead>\n",
              "    <tr style=\"text-align: right;\">\n",
              "      <th></th>\n",
              "      <th>Class</th>\n",
              "      <th>Image_Count</th>\n",
              "    </tr>\n",
              "  </thead>\n",
              "  <tbody>\n",
              "    <tr>\n",
              "      <th>0</th>\n",
              "      <td>aloo_gobi</td>\n",
              "      <td>50</td>\n",
              "    </tr>\n",
              "    <tr>\n",
              "      <th>1</th>\n",
              "      <td>aloo_matar</td>\n",
              "      <td>50</td>\n",
              "    </tr>\n",
              "    <tr>\n",
              "      <th>2</th>\n",
              "      <td>aloo_methi</td>\n",
              "      <td>50</td>\n",
              "    </tr>\n",
              "    <tr>\n",
              "      <th>3</th>\n",
              "      <td>aloo_shimla_mirch</td>\n",
              "      <td>50</td>\n",
              "    </tr>\n",
              "    <tr>\n",
              "      <th>4</th>\n",
              "      <td>aloo_tikki</td>\n",
              "      <td>50</td>\n",
              "    </tr>\n",
              "    <tr>\n",
              "      <th>...</th>\n",
              "      <td>...</td>\n",
              "      <td>...</td>\n",
              "    </tr>\n",
              "    <tr>\n",
              "      <th>74</th>\n",
              "      <td>shrikhand</td>\n",
              "      <td>50</td>\n",
              "    </tr>\n",
              "    <tr>\n",
              "      <th>75</th>\n",
              "      <td>sohan_halwa</td>\n",
              "      <td>50</td>\n",
              "    </tr>\n",
              "    <tr>\n",
              "      <th>76</th>\n",
              "      <td>sohan_papdi</td>\n",
              "      <td>50</td>\n",
              "    </tr>\n",
              "    <tr>\n",
              "      <th>77</th>\n",
              "      <td>sutar_feni</td>\n",
              "      <td>50</td>\n",
              "    </tr>\n",
              "    <tr>\n",
              "      <th>78</th>\n",
              "      <td>unni_appam</td>\n",
              "      <td>50</td>\n",
              "    </tr>\n",
              "  </tbody>\n",
              "</table>\n",
              "<p>79 rows × 2 columns</p>\n",
              "</div>\n",
              "    <div class=\"colab-df-buttons\">\n",
              "\n",
              "  <div class=\"colab-df-container\">\n",
              "    <button class=\"colab-df-convert\" onclick=\"convertToInteractive('df-a39e67e0-5c2c-45ff-ada9-abed943fdfe6')\"\n",
              "            title=\"Convert this dataframe to an interactive table.\"\n",
              "            style=\"display:none;\">\n",
              "\n",
              "  <svg xmlns=\"http://www.w3.org/2000/svg\" height=\"24px\" viewBox=\"0 -960 960 960\">\n",
              "    <path d=\"M120-120v-720h720v720H120Zm60-500h600v-160H180v160Zm220 220h160v-160H400v160Zm0 220h160v-160H400v160ZM180-400h160v-160H180v160Zm440 0h160v-160H620v160ZM180-180h160v-160H180v160Zm440 0h160v-160H620v160Z\"/>\n",
              "  </svg>\n",
              "    </button>\n",
              "\n",
              "  <style>\n",
              "    .colab-df-container {\n",
              "      display:flex;\n",
              "      gap: 12px;\n",
              "    }\n",
              "\n",
              "    .colab-df-convert {\n",
              "      background-color: #E8F0FE;\n",
              "      border: none;\n",
              "      border-radius: 50%;\n",
              "      cursor: pointer;\n",
              "      display: none;\n",
              "      fill: #1967D2;\n",
              "      height: 32px;\n",
              "      padding: 0 0 0 0;\n",
              "      width: 32px;\n",
              "    }\n",
              "\n",
              "    .colab-df-convert:hover {\n",
              "      background-color: #E2EBFA;\n",
              "      box-shadow: 0px 1px 2px rgba(60, 64, 67, 0.3), 0px 1px 3px 1px rgba(60, 64, 67, 0.15);\n",
              "      fill: #174EA6;\n",
              "    }\n",
              "\n",
              "    .colab-df-buttons div {\n",
              "      margin-bottom: 4px;\n",
              "    }\n",
              "\n",
              "    [theme=dark] .colab-df-convert {\n",
              "      background-color: #3B4455;\n",
              "      fill: #D2E3FC;\n",
              "    }\n",
              "\n",
              "    [theme=dark] .colab-df-convert:hover {\n",
              "      background-color: #434B5C;\n",
              "      box-shadow: 0px 1px 3px 1px rgba(0, 0, 0, 0.15);\n",
              "      filter: drop-shadow(0px 1px 2px rgba(0, 0, 0, 0.3));\n",
              "      fill: #FFFFFF;\n",
              "    }\n",
              "  </style>\n",
              "\n",
              "    <script>\n",
              "      const buttonEl =\n",
              "        document.querySelector('#df-a39e67e0-5c2c-45ff-ada9-abed943fdfe6 button.colab-df-convert');\n",
              "      buttonEl.style.display =\n",
              "        google.colab.kernel.accessAllowed ? 'block' : 'none';\n",
              "\n",
              "      async function convertToInteractive(key) {\n",
              "        const element = document.querySelector('#df-a39e67e0-5c2c-45ff-ada9-abed943fdfe6');\n",
              "        const dataTable =\n",
              "          await google.colab.kernel.invokeFunction('convertToInteractive',\n",
              "                                                    [key], {});\n",
              "        if (!dataTable) return;\n",
              "\n",
              "        const docLinkHtml = 'Like what you see? Visit the ' +\n",
              "          '<a target=\"_blank\" href=https://colab.research.google.com/notebooks/data_table.ipynb>data table notebook</a>'\n",
              "          + ' to learn more about interactive tables.';\n",
              "        element.innerHTML = '';\n",
              "        dataTable['output_type'] = 'display_data';\n",
              "        await google.colab.output.renderOutput(dataTable, element);\n",
              "        const docLink = document.createElement('div');\n",
              "        docLink.innerHTML = docLinkHtml;\n",
              "        element.appendChild(docLink);\n",
              "      }\n",
              "    </script>\n",
              "  </div>\n",
              "\n",
              "\n",
              "    <div id=\"df-02c9b84d-0e82-4d3d-8348-0405e9d09fc5\">\n",
              "      <button class=\"colab-df-quickchart\" onclick=\"quickchart('df-02c9b84d-0e82-4d3d-8348-0405e9d09fc5')\"\n",
              "                title=\"Suggest charts\"\n",
              "                style=\"display:none;\">\n",
              "\n",
              "<svg xmlns=\"http://www.w3.org/2000/svg\" height=\"24px\"viewBox=\"0 0 24 24\"\n",
              "     width=\"24px\">\n",
              "    <g>\n",
              "        <path d=\"M19 3H5c-1.1 0-2 .9-2 2v14c0 1.1.9 2 2 2h14c1.1 0 2-.9 2-2V5c0-1.1-.9-2-2-2zM9 17H7v-7h2v7zm4 0h-2V7h2v10zm4 0h-2v-4h2v4z\"/>\n",
              "    </g>\n",
              "</svg>\n",
              "      </button>\n",
              "\n",
              "<style>\n",
              "  .colab-df-quickchart {\n",
              "      --bg-color: #E8F0FE;\n",
              "      --fill-color: #1967D2;\n",
              "      --hover-bg-color: #E2EBFA;\n",
              "      --hover-fill-color: #174EA6;\n",
              "      --disabled-fill-color: #AAA;\n",
              "      --disabled-bg-color: #DDD;\n",
              "  }\n",
              "\n",
              "  [theme=dark] .colab-df-quickchart {\n",
              "      --bg-color: #3B4455;\n",
              "      --fill-color: #D2E3FC;\n",
              "      --hover-bg-color: #434B5C;\n",
              "      --hover-fill-color: #FFFFFF;\n",
              "      --disabled-bg-color: #3B4455;\n",
              "      --disabled-fill-color: #666;\n",
              "  }\n",
              "\n",
              "  .colab-df-quickchart {\n",
              "    background-color: var(--bg-color);\n",
              "    border: none;\n",
              "    border-radius: 50%;\n",
              "    cursor: pointer;\n",
              "    display: none;\n",
              "    fill: var(--fill-color);\n",
              "    height: 32px;\n",
              "    padding: 0;\n",
              "    width: 32px;\n",
              "  }\n",
              "\n",
              "  .colab-df-quickchart:hover {\n",
              "    background-color: var(--hover-bg-color);\n",
              "    box-shadow: 0 1px 2px rgba(60, 64, 67, 0.3), 0 1px 3px 1px rgba(60, 64, 67, 0.15);\n",
              "    fill: var(--button-hover-fill-color);\n",
              "  }\n",
              "\n",
              "  .colab-df-quickchart-complete:disabled,\n",
              "  .colab-df-quickchart-complete:disabled:hover {\n",
              "    background-color: var(--disabled-bg-color);\n",
              "    fill: var(--disabled-fill-color);\n",
              "    box-shadow: none;\n",
              "  }\n",
              "\n",
              "  .colab-df-spinner {\n",
              "    border: 2px solid var(--fill-color);\n",
              "    border-color: transparent;\n",
              "    border-bottom-color: var(--fill-color);\n",
              "    animation:\n",
              "      spin 1s steps(1) infinite;\n",
              "  }\n",
              "\n",
              "  @keyframes spin {\n",
              "    0% {\n",
              "      border-color: transparent;\n",
              "      border-bottom-color: var(--fill-color);\n",
              "      border-left-color: var(--fill-color);\n",
              "    }\n",
              "    20% {\n",
              "      border-color: transparent;\n",
              "      border-left-color: var(--fill-color);\n",
              "      border-top-color: var(--fill-color);\n",
              "    }\n",
              "    30% {\n",
              "      border-color: transparent;\n",
              "      border-left-color: var(--fill-color);\n",
              "      border-top-color: var(--fill-color);\n",
              "      border-right-color: var(--fill-color);\n",
              "    }\n",
              "    40% {\n",
              "      border-color: transparent;\n",
              "      border-right-color: var(--fill-color);\n",
              "      border-top-color: var(--fill-color);\n",
              "    }\n",
              "    60% {\n",
              "      border-color: transparent;\n",
              "      border-right-color: var(--fill-color);\n",
              "    }\n",
              "    80% {\n",
              "      border-color: transparent;\n",
              "      border-right-color: var(--fill-color);\n",
              "      border-bottom-color: var(--fill-color);\n",
              "    }\n",
              "    90% {\n",
              "      border-color: transparent;\n",
              "      border-bottom-color: var(--fill-color);\n",
              "    }\n",
              "  }\n",
              "</style>\n",
              "\n",
              "      <script>\n",
              "        async function quickchart(key) {\n",
              "          const quickchartButtonEl =\n",
              "            document.querySelector('#' + key + ' button');\n",
              "          quickchartButtonEl.disabled = true;  // To prevent multiple clicks.\n",
              "          quickchartButtonEl.classList.add('colab-df-spinner');\n",
              "          try {\n",
              "            const charts = await google.colab.kernel.invokeFunction(\n",
              "                'suggestCharts', [key], {});\n",
              "          } catch (error) {\n",
              "            console.error('Error during call to suggestCharts:', error);\n",
              "          }\n",
              "          quickchartButtonEl.classList.remove('colab-df-spinner');\n",
              "          quickchartButtonEl.classList.add('colab-df-quickchart-complete');\n",
              "        }\n",
              "        (() => {\n",
              "          let quickchartButtonEl =\n",
              "            document.querySelector('#df-02c9b84d-0e82-4d3d-8348-0405e9d09fc5 button');\n",
              "          quickchartButtonEl.style.display =\n",
              "            google.colab.kernel.accessAllowed ? 'block' : 'none';\n",
              "        })();\n",
              "      </script>\n",
              "    </div>\n",
              "\n",
              "    </div>\n",
              "  </div>\n"
            ],
            "text/plain": [
              "                Class  Image_Count\n",
              "0           aloo_gobi           50\n",
              "1          aloo_matar           50\n",
              "2          aloo_methi           50\n",
              "3   aloo_shimla_mirch           50\n",
              "4          aloo_tikki           50\n",
              "..                ...          ...\n",
              "74          shrikhand           50\n",
              "75        sohan_halwa           50\n",
              "76        sohan_papdi           50\n",
              "77         sutar_feni           50\n",
              "78         unni_appam           50\n",
              "\n",
              "[79 rows x 2 columns]"
            ]
          },
          "execution_count": 18,
          "metadata": {},
          "output_type": "execute_result"
        }
      ],
      "source": [
        "import os\n",
        "import pandas as pd\n",
        "import matplotlib.pyplot as plt\n",
        "\n",
        "dataset_path = \"/content/drive/MyDrive/Indian_Food_Images_Dataset\"\n",
        "\n",
        "# Count images in each class\n",
        "class_counts = {}\n",
        "for class_name in os.listdir(dataset_path):\n",
        "    class_folder = os.path.join(dataset_path, class_name)\n",
        "    if os.path.isdir(class_folder):\n",
        "        class_counts[class_name] = len(os.listdir(class_folder))\n",
        "\n",
        "# Convert to DataFrame for analysis\n",
        "df_counts = pd.DataFrame(list(class_counts.items()), columns=[\"Class\", \"Image_Count\"])\n",
        "df_counts = df_counts.sort_values(by=\"Image_Count\", ascending=False)\n",
        "\n",
        "print(\"✅ Total Classes:\", len(df_counts))\n",
        "df_counts.head(500)\n"
      ]
    },
    {
      "cell_type": "code",
      "execution_count": null,
      "metadata": {
        "colab": {
          "base_uri": "https://localhost:8080/"
        },
        "id": "QLAbf0lhqhfT",
        "outputId": "6ecbe20d-3e24-4837-b971-07800421a4b4"
      },
      "outputs": [
        {
          "name": "stdout",
          "output_type": "stream",
          "text": [
            "📊 Max images in a class: 50\n",
            "📉 Min images in a class: 50\n",
            "📈 Average images per class: 50.0\n"
          ]
        }
      ],
      "source": [
        "print(\"📊 Max images in a class:\", df_counts['Image_Count'].max())\n",
        "print(\"📉 Min images in a class:\", df_counts['Image_Count'].min())\n",
        "print(\"📈 Average images per class:\", df_counts['Image_Count'].mean())\n"
      ]
    },
    {
      "cell_type": "code",
      "execution_count": null,
      "metadata": {
        "colab": {
          "base_uri": "https://localhost:8080/"
        },
        "id": "QJbYLvHtqzSY",
        "outputId": "177fa674-19fd-42f6-a390-1822bc8798f5"
      },
      "outputs": [
        {
          "name": "stdout",
          "output_type": "stream",
          "text": [
            "AUTHENTIC INDIAN FOOD CALORIES\n",
            "============================================================\n",
            "Food Item                 Calories   Portion             \n",
            "------------------------------------------------------------\n",
            "bandar_laddu              180        per piece/bowl      \n",
            "basundi                   300        per serving         \n",
            "bhatura                   220        per piece           \n",
            "bhindi_masala             120        per serving         \n",
            "biryani                   400        per plate           \n",
            "boondi                    140        per serving         \n",
            "butter_chicken            450        per bowl            \n",
            "chak_hao_kheer            250        per piece/bowl      \n",
            "cham_cham                 160        per serving         \n",
            "chana_masala              200        per serving         \n",
            "chapati                   70         per piece           \n",
            "chhena_kheeri             280        per piece/bowl      \n",
            "chicken_razala            320        per bowl            \n",
            "chicken_tikka             200        per bowl            \n",
            "chicken_tikka_masala      380        per bowl            \n",
            "chikki                    150        per serving         \n",
            "daal_baati_churma         500        per serving         \n",
            "daal_puri                 200        per piece           \n",
            "dal_makhani               320        per bowl            \n",
            "dal_tadka                 180        per bowl            \n",
            "dharwad_pedha             130        per serving         \n",
            "doodhpak                  220        per serving         \n",
            "double_ka_meetha          280        per serving         \n",
            "dum_aloo                  200        per serving         \n",
            "gajar_ka_halwa            280        per piece/bowl      \n",
            "gavvalu                   100        per serving         \n",
            "ghevar                    250        per serving         \n",
            "gulab_jamun               150        per piece/bowl      \n",
            "imarti                    170        per serving         \n",
            "jalebi                    160        per serving         \n",
            "kalakand                  180        per serving         \n",
            "karela_bharta             80         per serving         \n",
            "kofta                     220        per serving         \n",
            "kuzhi_paniyaram           80         per serving         \n",
            "lassi                     160        per serving         \n",
            "ledikeni                  200        per serving         \n",
            "litti_chokha              300        per serving         \n",
            "maach_jhol                220        per serving         \n",
            "makki_di_roti_sarson_da_saag 350        per piece           \n",
            "malapua                   180        per serving         \n",
            "misi_roti                 180        per piece           \n",
            "misti_doi                 150        per serving         \n",
            "modak                     120        per serving         \n",
            "mysore_pak                220        per serving         \n",
            "naan                      280        per piece           \n",
            "navrattan_korma           320        per serving         \n",
            "palak_paneer              280        per bowl            \n",
            "paneer_butter_masala      380        per bowl            \n",
            "phirni                    200        per serving         \n",
            "pithe                     150        per serving         \n",
            "poha                      180        per serving         \n",
            "poornalu                  140        per serving         \n",
            "pootharekulu              130        per serving         \n",
            "qubani_ka_meetha          210        per serving         \n",
            "rabri                     320        per serving         \n",
            "ras_malai                 190        per serving         \n",
            "rasgulla                  150        per piece/bowl      \n",
            "sandesh                   120        per piece/bowl      \n",
            "shankarpali               90         per serving         \n",
            "sheer_korma               350        per serving         \n",
            "sheera                    250        per serving         \n",
            "shrikhand                 180        per serving         \n",
            "sohan_halwa               240        per piece/bowl      \n",
            "sohan_papdi               120        per serving         \n",
            "sutar_feni                140        per serving         \n",
            "unni_appam                110        per serving         \n",
            "yangcha                   160        per serving         \n",
            "------------------------------------------------------------\n",
            "Total items: 67\n",
            "\n",
            "============================================================\n",
            "EXAMPLE MEAL CALCULATIONS\n",
            "============================================================\n",
            "\n",
            "Meal 1 (Vegetarian):\n",
            "\n",
            "MEAL CALORIE CALCULATION:\n",
            "----------------------------------------\n",
            "✓ chapati: 70 calories\n",
            "✓ dal_tadka: 180 calories\n",
            "✓ bhindi_masala: 120 calories\n",
            "✓ rasgulla: 150 calories\n",
            "Total: 520 calories\n",
            "\n",
            "CALORIE ANALYSIS:\n",
            "✅ Moderate meal - Balanced intake\n",
            "\n",
            "Meal 2 (Non-vegetarian):\n",
            "\n",
            "MEAL CALORIE CALCULATION:\n",
            "----------------------------------------\n",
            "✓ biryani: 400 calories\n",
            "✓ butter_chicken: 450 calories\n",
            "✓ naan: 280 calories\n",
            "✓ gulab_jamun: 150 calories\n",
            "Total: 1280 calories\n",
            "\n",
            "CALORIE ANALYSIS:\n",
            "❌ Very high calorie - Might exceed daily needs\n",
            "\n",
            "✅ Database exported with 67 authentic items\n",
            "\n",
            "💡 Note: Calories are estimates for standard portions.\n",
            "Actual values may vary based on recipe and serving size.\n"
          ]
        }
      ],
      "source": [
        "# Authentic Indian Food Calorie Database\n",
        "# Based on standard portion sizes and nutritional facts\n",
        "\n",
        "food_calories_authentic = {\n",
        "    # SWEETS & DESSERTS (per piece unless specified)\n",
        "    \"gulab_jamun\": 150,  # 1 piece\n",
        "    \"jalebi\": 125,       # 50g serving\n",
        "    \"rasgulla\": 150,     # 1 piece\n",
        "    \"ras_malai\": 180,    # 1 piece\n",
        "    \"sandesh\": 80,       # 1 piece\n",
        "    \"barfi\": 120,        # 1 piece\n",
        "    \"mysore_pak\": 140,   # 1 piece\n",
        "    \"gajar_ka_halwa\": 250,  # 1 bowl (150g)\n",
        "    \"kheer\": 200,        # 1 bowl\n",
        "    \"shrikhand\": 180,    # 1 bowl (100g)\n",
        "    \"balushahi\": 200,    # 1 piece\n",
        "    \"imarti\": 150,       # 1 piece\n",
        "    \"malpua\": 180,       # 1 piece\n",
        "    \"soan_papdi\": 120,   # 1 piece\n",
        "    \"laddoo\": 150,       # 1 piece\n",
        "    \"halwa\": 200,        # 1 bowl\n",
        "\n",
        "    # BREADS (per piece)\n",
        "    \"roti\": 70,\n",
        "    \"chapati\": 70,\n",
        "    \"naan\": 260,\n",
        "    \"paratha\": 200,\n",
        "    \"puri\": 100,\n",
        "    \"bhatura\": 200,\n",
        "    \"kulcha\": 150,\n",
        "\n",
        "    # RICE DISHES (per plate)\n",
        "    \"biryani\": 400,\n",
        "    \"pulao\": 300,\n",
        "    \"plain_rice\": 200,\n",
        "    \"khichdi\": 250,\n",
        "\n",
        "    # VEGETARIAN MAIN COURSE (per bowl)\n",
        "    \"palak_paneer\": 280,\n",
        "    \"paneer_butter_masala\": 350,\n",
        "    \"matar_paneer\": 250,\n",
        "    \"chana_masala\": 200,\n",
        "    \"dal_makhani\": 300,\n",
        "    \"dal_tadka\": 180,\n",
        "    \"aloo_gobi\": 150,\n",
        "    \"bhindi_masala\": 120,\n",
        "    \"baingan_bharta\": 180,\n",
        "\n",
        "    # NON-VEGETARIAN (per bowl)\n",
        "    \"butter_chicken\": 450,\n",
        "    \"chicken_tikka\": 180,    # 2 pieces\n",
        "    \"chicken_curry\": 300,\n",
        "    \"fish_curry\": 250,\n",
        "    \"mutton_curry\": 350,\n",
        "    \"egg_curry\": 200,\n",
        "\n",
        "    # SNACKS & APPETIZERS\n",
        "    \"samosa\": 150,       # 1 piece\n",
        "    \"pakora\": 100,       # 1 piece\n",
        "    \"kachori\": 150,      # 1 piece\n",
        "    \"dahi_vada\": 150,    # 1 piece\n",
        "    \"pav_bhaji\": 400,    # 1 plate\n",
        "    \"chole_bhature\": 500, # 1 plate\n",
        "    \"vada_pav\": 250,     # 1 piece\n",
        "    \"dosa\": 150,         # 1 piece\n",
        "    \"idli\": 50,          # 1 piece\n",
        "\n",
        "    # BEVERAGES\n",
        "    \"lassi\": 160,        # 1 glass\n",
        "    \"chai\": 60,          # 1 cup\n",
        "    \"masala_chai\": 80,   # 1 cup\n",
        "}\n",
        "\n",
        "# Your specific foods with realistic calories\n",
        "your_foods = {\n",
        "    # From your lists with realistic estimates\n",
        "    \"bandar_laddu\": 180,\n",
        "    \"basundi\": 300,      # Rich milk dessert\n",
        "    \"bhatura\": 220,\n",
        "    \"bhindi_masala\": 120,\n",
        "    \"biryani\": 400,\n",
        "    \"boondi\": 140,\n",
        "    \"butter_chicken\": 450,\n",
        "    \"chak_hao_kheer\": 250,  # Black rice kheer\n",
        "    \"cham_cham\": 160,\n",
        "    \"chana_masala\": 200,\n",
        "    \"chapati\": 70,\n",
        "    \"chhena_kheeri\": 280,   # Rich cheese dessert\n",
        "    \"chicken_razala\": 320,\n",
        "    \"chicken_tikka\": 200,\n",
        "    \"chicken_tikka_masala\": 380,\n",
        "    \"chikki\": 150,\n",
        "    \"daal_baati_churma\": 500,  # Heavy Rajasthani dish\n",
        "    \"daal_puri\": 200,\n",
        "    \"dal_makhani\": 320,\n",
        "    \"dal_tadka\": 180,\n",
        "    \"dharwad_pedha\": 130,\n",
        "    \"doodhpak\": 220,\n",
        "    \"double_ka_meetha\": 280,\n",
        "    \"dum_aloo\": 200,\n",
        "    \"gajar_ka_halwa\": 280,\n",
        "    \"gavvalu\": 100,      # Sweet shells\n",
        "    \"ghevar\": 250,       # Festival sweet\n",
        "    \"gulab_jamun\": 150,\n",
        "    \"imarti\": 170,\n",
        "    \"jalebi\": 160,\n",
        "    \"kalakand\": 180,\n",
        "    \"karela_bharta\": 80, # Bitter gourd - low calorie\n",
        "    \"kofta\": 220,\n",
        "    \"kuzhi_paniyaram\": 80,\n",
        "    \"lassi\": 160,\n",
        "    \"ledikeni\": 200,\n",
        "    \"litti_chokha\": 300,\n",
        "    \"maach_jhol\": 220,\n",
        "    \"makki_di_roti_sarson_da_saag\": 350,\n",
        "    \"malapua\": 180,\n",
        "    \"misi_roti\": 180,\n",
        "    \"misti_doi\": 150,\n",
        "    \"modak\": 120,\n",
        "    \"mysore_pak\": 220,\n",
        "    \"naan\": 280,\n",
        "    \"navrattan_korma\": 320,\n",
        "    \"palak_paneer\": 280,\n",
        "    \"paneer_butter_masala\": 380,\n",
        "    \"phirni\": 200,\n",
        "    \"pithe\": 150,\n",
        "    \"poha\": 180,\n",
        "    \"poornalu\": 140,\n",
        "    \"pootharekulu\": 130,\n",
        "    \"qubani_ka_meetha\": 210,\n",
        "    \"rabri\": 320,\n",
        "    \"ras_malai\": 190,\n",
        "    \"rasgulla\": 150,\n",
        "    \"sandesh\": 120,\n",
        "    \"shankarpali\": 90,\n",
        "    \"sheer_korma\": 350,  # Rich vermicelli dessert\n",
        "    \"sheera\": 250,\n",
        "    \"shrikhand\": 180,\n",
        "    \"sohan_halwa\": 240,\n",
        "    \"sohan_papdi\": 120,\n",
        "    \"sutar_feni\": 140,\n",
        "    \"unni_appam\": 110,\n",
        "    \"yangcha\": 160\n",
        "}\n",
        "\n",
        "def display_realistic_calories():\n",
        "    print(\"AUTHENTIC INDIAN FOOD CALORIES\")\n",
        "    print(\"=\" * 60)\n",
        "    print(f\"{'Food Item':<25} {'Calories':<10} {'Portion':<20}\")\n",
        "    print(\"-\" * 60)\n",
        "\n",
        "    # Display with portion information\n",
        "    portion_info = {\n",
        "        \"sweets\": \"per piece\",\n",
        "        \"breads\": \"per piece\",\n",
        "        \"rice\": \"per plate\",\n",
        "        \"curries\": \"per bowl\",\n",
        "        \"snacks\": \"per piece\"\n",
        "    }\n",
        "\n",
        "    for food, calories in sorted(your_foods.items()):\n",
        "        # Determine portion type\n",
        "        if any(keyword in food for keyword in ['laddu', 'jamun', 'rasgulla', 'barfi', 'sandesh', 'halwa', 'kheer']):\n",
        "            portion = \"per piece/bowl\"\n",
        "        elif any(keyword in food for keyword in ['roti', 'naan', 'chapati', 'bhatura', 'puri']):\n",
        "            portion = \"per piece\"\n",
        "        elif any(keyword in food for keyword in ['biryani', 'pulao', 'rice']):\n",
        "            portion = \"per plate\"\n",
        "        elif any(keyword in food for keyword in ['chicken', 'mutton', 'fish', 'paneer', 'dal', 'curry']):\n",
        "            portion = \"per bowl\"\n",
        "        else:\n",
        "            portion = \"per serving\"\n",
        "\n",
        "        print(f\"{food:<25} {calories:<10} {portion:<20}\")\n",
        "\n",
        "    print(\"-\" * 60)\n",
        "    print(f\"Total items: {len(your_foods)}\")\n",
        "\n",
        "def calculate_meal_calories(meal_items):\n",
        "    \"\"\"Calculate total calories for a meal\"\"\"\n",
        "    total = 0\n",
        "    print(\"\\nMEAL CALORIE CALCULATION:\")\n",
        "    print(\"-\" * 40)\n",
        "    for item in meal_items:\n",
        "        if item in your_foods:\n",
        "            print(f\"✓ {item}: {your_foods[item]} calories\")\n",
        "            total += your_foods[item]\n",
        "        else:\n",
        "            print(f\"✗ {item}: Not in database\")\n",
        "    print(f\"Total: {total} calories\")\n",
        "    return total\n",
        "\n",
        "def get_calorie_advice(total_calories):\n",
        "    \"\"\"Provide advice based on total calories\"\"\"\n",
        "    print(f\"\\nCALORIE ANALYSIS:\")\n",
        "    if total_calories < 500:\n",
        "        print(\"✅ Light meal - Good for weight loss\")\n",
        "    elif 500 <= total_calories <= 800:\n",
        "        print(\"✅ Moderate meal - Balanced intake\")\n",
        "    elif 800 < total_calories <= 1200:\n",
        "        print(\"⚠️  Heavy meal - Consider portion control\")\n",
        "    else:\n",
        "        print(\"❌ Very high calorie - Might exceed daily needs\")\n",
        "\n",
        "# Display the database\n",
        "display_realistic_calories()\n",
        "\n",
        "# Example usage\n",
        "print(\"\\n\" + \"=\" * 60)\n",
        "print(\"EXAMPLE MEAL CALCULATIONS\")\n",
        "print(\"=\" * 60)\n",
        "\n",
        "# Sample meals\n",
        "meal_1 = [\"chapati\", \"dal_tadka\", \"bhindi_masala\", \"rasgulla\"]\n",
        "meal_2 = [\"biryani\", \"butter_chicken\", \"naan\", \"gulab_jamun\"]\n",
        "\n",
        "print(\"\\nMeal 1 (Vegetarian):\")\n",
        "total1 = calculate_meal_calories(meal_1)\n",
        "get_calorie_advice(total1)\n",
        "\n",
        "print(\"\\nMeal 2 (Non-vegetarian):\")\n",
        "total2 = calculate_meal_calories(meal_2)\n",
        "get_calorie_advice(total2)\n",
        "\n",
        "# Export to CSV\n",
        "import pandas as pd\n",
        "\n",
        "def export_database():\n",
        "    df = pd.DataFrame([\n",
        "        {\"food_item\": k, \"calories\": v, \"category\": \"sweet\" if any(x in k for x in ['laddu', 'jamun', 'halwa', 'kheer']) else \"main_course\"}\n",
        "        for k, v in your_foods.items()\n",
        "    ])\n",
        "    df.to_csv('authentic_indian_food_calories.csv', index=False)\n",
        "    print(f\"\\n✅ Database exported with {len(your_foods)} authentic items\")\n",
        "\n",
        "export_database()\n",
        "\n",
        "print(f\"\\n💡 Note: Calories are estimates for standard portions.\")\n",
        "print(\"Actual values may vary based on recipe and serving size.\")"
      ]
    },
    {
      "cell_type": "code",
      "execution_count": null,
      "metadata": {
        "colab": {
          "base_uri": "https://localhost:8080/"
        },
        "id": "JrBehsjMxpsy",
        "outputId": "3b87bc86-e098-4c85-9259-8dedd97a0e38"
      },
      "outputs": [
        {
          "name": "stdout",
          "output_type": "stream",
          "text": [
            "✅ CSV created with 0 images and calorie values\n"
          ]
        }
      ],
      "source": [
        "import os\n",
        "import pandas as pd\n",
        "\n",
        "# Path to your dataset\n",
        "dataset_path = \"Indian_Food_Images_Dataset\"\n",
        "\n",
        "# Your existing calorie dictionary\n",
        "your_foods = {\n",
        "    \"bandar_laddu\": 180, \"basundi\": 300, \"bhatura\": 220, \"bhindi_masala\": 120,\n",
        "    \"biryani\": 400, \"boondi\": 140, \"butter_chicken\": 450, \"chak_hao_kheer\": 250,\n",
        "    \"cham_cham\": 160, \"chana_masala\": 200, \"chapati\": 70, \"chhena_kheeri\": 280,\n",
        "    \"chicken_razala\": 320, \"chicken_tikka\": 200, \"chicken_tikka_masala\": 380,\n",
        "    \"chikki\": 150, \"daal_baati_churma\": 500, \"daal_puri\": 200, \"dal_makhani\": 320,\n",
        "    \"dal_tadka\": 180, \"dharwad_pedha\": 130, \"doodhpak\": 220, \"double_ka_meetha\": 280,\n",
        "    \"dum_aloo\": 200, \"gajar_ka_halwa\": 280, \"gavvalu\": 100, \"ghevar\": 250,\n",
        "    \"gulab_jamun\": 150, \"imarti\": 170, \"jalebi\": 160, \"kalakand\": 180,\n",
        "    \"karela_bharta\": 80, \"kofta\": 220, \"kuzhi_paniyaram\": 80, \"lassi\": 160,\n",
        "    \"ledikeni\": 200, \"litti_chokha\": 300, \"maach_jhol\": 220,\n",
        "    \"makki_di_roti_sarson_da_saag\": 350, \"malapua\": 180, \"misi_roti\": 180,\n",
        "    \"misti_doi\": 150, \"modak\": 120, \"mysore_pak\": 220, \"naan\": 280,\n",
        "    \"navrattan_korma\": 320, \"palak_paneer\": 280, \"paneer_butter_masala\": 380,\n",
        "    \"phirni\": 200, \"pithe\": 150, \"poha\": 180, \"poornalu\": 140,\n",
        "    \"pootharekulu\": 130, \"qubani_ka_meetha\": 210, \"rabri\": 320, \"ras_malai\": 190,\n",
        "    \"rasgulla\": 150, \"sandesh\": 120, \"shankarpali\": 90, \"sheer_korma\": 350,\n",
        "    \"sheera\": 250, \"shrikhand\": 180, \"sohan_halwa\": 240, \"sohan_papdi\": 120,\n",
        "    \"sutar_feni\": 140, \"unni_appam\": 110, \"yangcha\": 160\n",
        "}\n",
        "\n",
        "data = []\n",
        "for food, cal in your_foods.items():\n",
        "    folder_path = os.path.join(dataset_path, food)\n",
        "    if os.path.exists(folder_path):\n",
        "        for img in os.listdir(folder_path):\n",
        "            if img.lower().endswith(('.jpg', '.jpeg', '.png')):\n",
        "                data.append([os.path.join(folder_path, img), cal])\n",
        "\n",
        "# Create a dataframe\n",
        "df = pd.DataFrame(data, columns=[\"filename\", \"calories\"])\n",
        "df.to_csv(\"indian_food_calorie_labels.csv\", index=False)\n",
        "print(f\"✅ CSV created with {len(df)} images and calorie values\")\n"
      ]
    },
    {
      "cell_type": "code",
      "execution_count": null,
      "metadata": {
        "colab": {
          "base_uri": "https://localhost:8080/"
        },
        "id": "iTRa_vE872j4",
        "outputId": "f6bf684e-8bc1-4a01-e492-8daffae212a4"
      },
      "outputs": [
        {
          "name": "stdout",
          "output_type": "stream",
          "text": [
            "/content\n"
          ]
        }
      ],
      "source": [
        "import os\n",
        "print(os.getcwd())\n"
      ]
    },
    {
      "cell_type": "code",
      "execution_count": null,
      "metadata": {
        "colab": {
          "base_uri": "https://localhost:8080/"
        },
        "id": "uRaAjLaT8b8N",
        "outputId": "4156ddf1-c148-40f0-ec5c-0424c301e2e4"
      },
      "outputs": [
        {
          "data": {
            "text/plain": [
              "['.config',\n",
              " 'drive',\n",
              " 'authentic_indian_food_calories.csv',\n",
              " 'indian_food_calorie_labels.csv',\n",
              " 'sample_data']"
            ]
          },
          "execution_count": 32,
          "metadata": {},
          "output_type": "execute_result"
        }
      ],
      "source": [
        "import os\n",
        "os.listdir(\"/content\")\n"
      ]
    },
    {
      "cell_type": "code",
      "execution_count": null,
      "metadata": {
        "colab": {
          "base_uri": "https://localhost:8080/"
        },
        "id": "3AM1l4LcDKhI",
        "outputId": "49215200-8c07-4108-dc6b-fe3af70789c8"
      },
      "outputs": [
        {
          "name": "stdout",
          "output_type": "stream",
          "text": [
            "✅ CSV saved inside dataset folder: /content/drive/MyDrive/Indian_Food_Images_Dataset/indian_food_calorie_labels.csv\n"
          ]
        }
      ],
      "source": [
        "import os\n",
        "import pandas as pd\n",
        "\n",
        "# Google Drive path to your dataset folder\n",
        "dataset_path = \"/content/drive/MyDrive/Indian_Food_Images_Dataset\"\n",
        "\n",
        "# Assuming you already have your 'df' dataframe ready\n",
        "csv_save_path = os.path.join(dataset_path, \"indian_food_calorie_labels.csv\")\n",
        "\n",
        "df.to_csv(csv_save_path, index=False)\n",
        "print(f\"✅ CSV saved inside dataset folder: {csv_save_path}\")\n"
      ]
    },
    {
      "cell_type": "code",
      "execution_count": null,
      "metadata": {
        "colab": {
          "base_uri": "https://localhost:8080/"
        },
        "id": "WlUFFR7e9XUn",
        "outputId": "43d8ff29-42ae-4811-9ba4-46c9f53ce9f5"
      },
      "outputs": [
        {
          "name": "stdout",
          "output_type": "stream",
          "text": [
            "['02d09e872d.jpg', '02f2e49039.jpg', '06c639bab2.jpg', '08b8f8efc1.jpg', '09a37d7cc7.jpg', '0cd70ffc10.jpg', '0d09b0e580.jpg', '0e84c2b7fd.jpg', '10f608ecc4.jpg', '12b1eb8026.jpg', '13a2cfd13f.jpg', '13d63deed2.jpg', '14a2340ece.jpg', '14d893495c.jpg', '1a77e9cec2.jpg', '1a9346fd1e.jpg', '1d8712cb99.jpg', '1fe5414330.jpg', '2f6cc87911.jpg', '3a38984b2b.jpg', '3a804a31ab.jpg', '3bfa35cec4.jpg', '3c92b54e3f.jpg', '3d7b2d49d0.jpg', '3d959a621f.jpg', '4a16219bba.jpg', '4b4cdebe22.jpg', '4ba54c8c49.jpg', '4dc22aeaa4.jpg', '4df2abf698.jpg', '4e9dd787c7.jpg', '5b3f7359b7.jpg', '5f7df33e72.jpg', '5f8b688ebc.jpg', '5fc5acb884.jpg', '6b51759dac.jpg', '6b7aa00d7d.jpg', '6fd85e0d12.jpg', '7bc5fab65b.jpg', '7d120ae799.jpg', '7dd072e690.jpg', '7e1919ccbf.jpg', '8ac8bbff12.jpg', '8b184989c0.jpg', '8d63c56cdc.jpg', '8e1361fc0a.jpg', '8f0fce678c.jpg', '9aa8de6d09.jpg', '9d7f91c812.jpg', '9fb6ec6325.jpg', 'aloo_gobi', 'aloo_matar', 'aloo_methi', 'aloo_shimla_mirch', 'aloo_tikki', 'anarsa', 'ariselu', 'bandar_laddu', 'basundi', 'bhatura', 'bhindi_masala', 'biryani', 'boondi', 'butter_chicken', 'chak_hao_kheer', 'cham_cham', 'chana_masala', 'chapati', 'chhena_kheeri', 'chicken_razala', 'chicken_tikka', 'chicken_tikka_masala', 'chikki', 'daal_baati_churma', 'daal_puri', 'dal_makhani', 'dal_tadka', 'dharwad_pedha', 'doodhpak', 'double_ka_meetha', 'dum_aloo', 'gajar_ka_halwa', 'gavvalu', 'ghevar', 'gulab_jamun', 'imarti', 'jalebi', 'kachori', 'kadai_paneer', 'kadhi_pakoda', 'kajjikaya', 'kakinada_khaja', 'kalakand', 'karela_bharta', 'kofta', 'kuzhi_paniyaram', 'lassi', 'ledikeni', 'litti_chokha', 'lyangcha', 'maach_jhol', 'makki_di_roti_sarson_da_saag', 'malapua', 'misi_roti', 'misti_doi', 'modak', 'mysore_pak', 'naan', 'navrattan_korma', 'palak_paneer', 'paneer_butter_masala', 'phirni', 'pithe', 'poha', 'poornalu', 'pootharekulu', 'qubani_ka_meetha', 'rabri', 'ras_malai', 'rasgulla', 'sandesh', 'shankarpali', 'sheer_korma', 'sheera', 'shrikhand', 'sohan_halwa', 'sohan_papdi', 'sutar_feni', 'unni_appam', 'indian_food_calorie_labels.csv']\n"
          ]
        }
      ],
      "source": [
        "print(os.listdir(dataset_path))\n"
      ]
    },
    {
      "cell_type": "code",
      "execution_count": 6,
      "metadata": {
        "colab": {
          "base_uri": "https://localhost:8080/",
          "height": 223
        },
        "id": "Oex0KiOoEVgq",
        "outputId": "0aa14ac6-45f0-419b-ad31-57ac7ccd976c"
      },
      "outputs": [
        {
          "output_type": "stream",
          "name": "stdout",
          "text": [
            "Index(['filename', 'calories'], dtype='object')\n"
          ]
        },
        {
          "output_type": "execute_result",
          "data": {
            "text/plain": [
              "                                            filename  calories\n",
              "0  /content/drive/MyDrive/Indian_Food_Images_Data...       180\n",
              "1  /content/drive/MyDrive/Indian_Food_Images_Data...       180\n",
              "2  /content/drive/MyDrive/Indian_Food_Images_Data...       180\n",
              "3  /content/drive/MyDrive/Indian_Food_Images_Data...       180\n",
              "4  /content/drive/MyDrive/Indian_Food_Images_Data...       180"
            ],
            "text/html": [
              "\n",
              "  <div id=\"df-fec70a45-c9b1-412c-9230-74f41f6caba1\" class=\"colab-df-container\">\n",
              "    <div>\n",
              "<style scoped>\n",
              "    .dataframe tbody tr th:only-of-type {\n",
              "        vertical-align: middle;\n",
              "    }\n",
              "\n",
              "    .dataframe tbody tr th {\n",
              "        vertical-align: top;\n",
              "    }\n",
              "\n",
              "    .dataframe thead th {\n",
              "        text-align: right;\n",
              "    }\n",
              "</style>\n",
              "<table border=\"1\" class=\"dataframe\">\n",
              "  <thead>\n",
              "    <tr style=\"text-align: right;\">\n",
              "      <th></th>\n",
              "      <th>filename</th>\n",
              "      <th>calories</th>\n",
              "    </tr>\n",
              "  </thead>\n",
              "  <tbody>\n",
              "    <tr>\n",
              "      <th>0</th>\n",
              "      <td>/content/drive/MyDrive/Indian_Food_Images_Data...</td>\n",
              "      <td>180</td>\n",
              "    </tr>\n",
              "    <tr>\n",
              "      <th>1</th>\n",
              "      <td>/content/drive/MyDrive/Indian_Food_Images_Data...</td>\n",
              "      <td>180</td>\n",
              "    </tr>\n",
              "    <tr>\n",
              "      <th>2</th>\n",
              "      <td>/content/drive/MyDrive/Indian_Food_Images_Data...</td>\n",
              "      <td>180</td>\n",
              "    </tr>\n",
              "    <tr>\n",
              "      <th>3</th>\n",
              "      <td>/content/drive/MyDrive/Indian_Food_Images_Data...</td>\n",
              "      <td>180</td>\n",
              "    </tr>\n",
              "    <tr>\n",
              "      <th>4</th>\n",
              "      <td>/content/drive/MyDrive/Indian_Food_Images_Data...</td>\n",
              "      <td>180</td>\n",
              "    </tr>\n",
              "  </tbody>\n",
              "</table>\n",
              "</div>\n",
              "    <div class=\"colab-df-buttons\">\n",
              "\n",
              "  <div class=\"colab-df-container\">\n",
              "    <button class=\"colab-df-convert\" onclick=\"convertToInteractive('df-fec70a45-c9b1-412c-9230-74f41f6caba1')\"\n",
              "            title=\"Convert this dataframe to an interactive table.\"\n",
              "            style=\"display:none;\">\n",
              "\n",
              "  <svg xmlns=\"http://www.w3.org/2000/svg\" height=\"24px\" viewBox=\"0 -960 960 960\">\n",
              "    <path d=\"M120-120v-720h720v720H120Zm60-500h600v-160H180v160Zm220 220h160v-160H400v160Zm0 220h160v-160H400v160ZM180-400h160v-160H180v160Zm440 0h160v-160H620v160ZM180-180h160v-160H180v160Zm440 0h160v-160H620v160Z\"/>\n",
              "  </svg>\n",
              "    </button>\n",
              "\n",
              "  <style>\n",
              "    .colab-df-container {\n",
              "      display:flex;\n",
              "      gap: 12px;\n",
              "    }\n",
              "\n",
              "    .colab-df-convert {\n",
              "      background-color: #E8F0FE;\n",
              "      border: none;\n",
              "      border-radius: 50%;\n",
              "      cursor: pointer;\n",
              "      display: none;\n",
              "      fill: #1967D2;\n",
              "      height: 32px;\n",
              "      padding: 0 0 0 0;\n",
              "      width: 32px;\n",
              "    }\n",
              "\n",
              "    .colab-df-convert:hover {\n",
              "      background-color: #E2EBFA;\n",
              "      box-shadow: 0px 1px 2px rgba(60, 64, 67, 0.3), 0px 1px 3px 1px rgba(60, 64, 67, 0.15);\n",
              "      fill: #174EA6;\n",
              "    }\n",
              "\n",
              "    .colab-df-buttons div {\n",
              "      margin-bottom: 4px;\n",
              "    }\n",
              "\n",
              "    [theme=dark] .colab-df-convert {\n",
              "      background-color: #3B4455;\n",
              "      fill: #D2E3FC;\n",
              "    }\n",
              "\n",
              "    [theme=dark] .colab-df-convert:hover {\n",
              "      background-color: #434B5C;\n",
              "      box-shadow: 0px 1px 3px 1px rgba(0, 0, 0, 0.15);\n",
              "      filter: drop-shadow(0px 1px 2px rgba(0, 0, 0, 0.3));\n",
              "      fill: #FFFFFF;\n",
              "    }\n",
              "  </style>\n",
              "\n",
              "    <script>\n",
              "      const buttonEl =\n",
              "        document.querySelector('#df-fec70a45-c9b1-412c-9230-74f41f6caba1 button.colab-df-convert');\n",
              "      buttonEl.style.display =\n",
              "        google.colab.kernel.accessAllowed ? 'block' : 'none';\n",
              "\n",
              "      async function convertToInteractive(key) {\n",
              "        const element = document.querySelector('#df-fec70a45-c9b1-412c-9230-74f41f6caba1');\n",
              "        const dataTable =\n",
              "          await google.colab.kernel.invokeFunction('convertToInteractive',\n",
              "                                                    [key], {});\n",
              "        if (!dataTable) return;\n",
              "\n",
              "        const docLinkHtml = 'Like what you see? Visit the ' +\n",
              "          '<a target=\"_blank\" href=https://colab.research.google.com/notebooks/data_table.ipynb>data table notebook</a>'\n",
              "          + ' to learn more about interactive tables.';\n",
              "        element.innerHTML = '';\n",
              "        dataTable['output_type'] = 'display_data';\n",
              "        await google.colab.output.renderOutput(dataTable, element);\n",
              "        const docLink = document.createElement('div');\n",
              "        docLink.innerHTML = docLinkHtml;\n",
              "        element.appendChild(docLink);\n",
              "      }\n",
              "    </script>\n",
              "  </div>\n",
              "\n",
              "\n",
              "    <div id=\"df-156e9613-6817-43d7-8ce6-9291da3ea757\">\n",
              "      <button class=\"colab-df-quickchart\" onclick=\"quickchart('df-156e9613-6817-43d7-8ce6-9291da3ea757')\"\n",
              "                title=\"Suggest charts\"\n",
              "                style=\"display:none;\">\n",
              "\n",
              "<svg xmlns=\"http://www.w3.org/2000/svg\" height=\"24px\"viewBox=\"0 0 24 24\"\n",
              "     width=\"24px\">\n",
              "    <g>\n",
              "        <path d=\"M19 3H5c-1.1 0-2 .9-2 2v14c0 1.1.9 2 2 2h14c1.1 0 2-.9 2-2V5c0-1.1-.9-2-2-2zM9 17H7v-7h2v7zm4 0h-2V7h2v10zm4 0h-2v-4h2v4z\"/>\n",
              "    </g>\n",
              "</svg>\n",
              "      </button>\n",
              "\n",
              "<style>\n",
              "  .colab-df-quickchart {\n",
              "      --bg-color: #E8F0FE;\n",
              "      --fill-color: #1967D2;\n",
              "      --hover-bg-color: #E2EBFA;\n",
              "      --hover-fill-color: #174EA6;\n",
              "      --disabled-fill-color: #AAA;\n",
              "      --disabled-bg-color: #DDD;\n",
              "  }\n",
              "\n",
              "  [theme=dark] .colab-df-quickchart {\n",
              "      --bg-color: #3B4455;\n",
              "      --fill-color: #D2E3FC;\n",
              "      --hover-bg-color: #434B5C;\n",
              "      --hover-fill-color: #FFFFFF;\n",
              "      --disabled-bg-color: #3B4455;\n",
              "      --disabled-fill-color: #666;\n",
              "  }\n",
              "\n",
              "  .colab-df-quickchart {\n",
              "    background-color: var(--bg-color);\n",
              "    border: none;\n",
              "    border-radius: 50%;\n",
              "    cursor: pointer;\n",
              "    display: none;\n",
              "    fill: var(--fill-color);\n",
              "    height: 32px;\n",
              "    padding: 0;\n",
              "    width: 32px;\n",
              "  }\n",
              "\n",
              "  .colab-df-quickchart:hover {\n",
              "    background-color: var(--hover-bg-color);\n",
              "    box-shadow: 0 1px 2px rgba(60, 64, 67, 0.3), 0 1px 3px 1px rgba(60, 64, 67, 0.15);\n",
              "    fill: var(--button-hover-fill-color);\n",
              "  }\n",
              "\n",
              "  .colab-df-quickchart-complete:disabled,\n",
              "  .colab-df-quickchart-complete:disabled:hover {\n",
              "    background-color: var(--disabled-bg-color);\n",
              "    fill: var(--disabled-fill-color);\n",
              "    box-shadow: none;\n",
              "  }\n",
              "\n",
              "  .colab-df-spinner {\n",
              "    border: 2px solid var(--fill-color);\n",
              "    border-color: transparent;\n",
              "    border-bottom-color: var(--fill-color);\n",
              "    animation:\n",
              "      spin 1s steps(1) infinite;\n",
              "  }\n",
              "\n",
              "  @keyframes spin {\n",
              "    0% {\n",
              "      border-color: transparent;\n",
              "      border-bottom-color: var(--fill-color);\n",
              "      border-left-color: var(--fill-color);\n",
              "    }\n",
              "    20% {\n",
              "      border-color: transparent;\n",
              "      border-left-color: var(--fill-color);\n",
              "      border-top-color: var(--fill-color);\n",
              "    }\n",
              "    30% {\n",
              "      border-color: transparent;\n",
              "      border-left-color: var(--fill-color);\n",
              "      border-top-color: var(--fill-color);\n",
              "      border-right-color: var(--fill-color);\n",
              "    }\n",
              "    40% {\n",
              "      border-color: transparent;\n",
              "      border-right-color: var(--fill-color);\n",
              "      border-top-color: var(--fill-color);\n",
              "    }\n",
              "    60% {\n",
              "      border-color: transparent;\n",
              "      border-right-color: var(--fill-color);\n",
              "    }\n",
              "    80% {\n",
              "      border-color: transparent;\n",
              "      border-right-color: var(--fill-color);\n",
              "      border-bottom-color: var(--fill-color);\n",
              "    }\n",
              "    90% {\n",
              "      border-color: transparent;\n",
              "      border-bottom-color: var(--fill-color);\n",
              "    }\n",
              "  }\n",
              "</style>\n",
              "\n",
              "      <script>\n",
              "        async function quickchart(key) {\n",
              "          const quickchartButtonEl =\n",
              "            document.querySelector('#' + key + ' button');\n",
              "          quickchartButtonEl.disabled = true;  // To prevent multiple clicks.\n",
              "          quickchartButtonEl.classList.add('colab-df-spinner');\n",
              "          try {\n",
              "            const charts = await google.colab.kernel.invokeFunction(\n",
              "                'suggestCharts', [key], {});\n",
              "          } catch (error) {\n",
              "            console.error('Error during call to suggestCharts:', error);\n",
              "          }\n",
              "          quickchartButtonEl.classList.remove('colab-df-spinner');\n",
              "          quickchartButtonEl.classList.add('colab-df-quickchart-complete');\n",
              "        }\n",
              "        (() => {\n",
              "          let quickchartButtonEl =\n",
              "            document.querySelector('#df-156e9613-6817-43d7-8ce6-9291da3ea757 button');\n",
              "          quickchartButtonEl.style.display =\n",
              "            google.colab.kernel.accessAllowed ? 'block' : 'none';\n",
              "        })();\n",
              "      </script>\n",
              "    </div>\n",
              "\n",
              "    </div>\n",
              "  </div>\n"
            ],
            "application/vnd.google.colaboratory.intrinsic+json": {
              "type": "dataframe",
              "variable_name": "df",
              "summary": "{\n  \"name\": \"df\",\n  \"rows\": 3300,\n  \"fields\": [\n    {\n      \"column\": \"filename\",\n      \"properties\": {\n        \"dtype\": \"string\",\n        \"num_unique_values\": 3300,\n        \"samples\": [\n          \"/content/drive/MyDrive/Indian_Food_Images_Dataset/basundi/0aa640e7e9.jpg\",\n          \"/content/drive/MyDrive/Indian_Food_Images_Dataset/chicken_tikka/50f4f89a6a.jpg\",\n          \"/content/drive/MyDrive/Indian_Food_Images_Dataset/gavvalu/0e208779a7.jpg\"\n        ],\n        \"semantic_type\": \"\",\n        \"description\": \"\"\n      }\n    },\n    {\n      \"column\": \"calories\",\n      \"properties\": {\n        \"dtype\": \"number\",\n        \"std\": 91,\n        \"min\": 70,\n        \"max\": 500,\n        \"num_unique_values\": 26,\n        \"samples\": [\n          160,\n          130,\n          180\n        ],\n        \"semantic_type\": \"\",\n        \"description\": \"\"\n      }\n    }\n  ]\n}"
            }
          },
          "metadata": {},
          "execution_count": 6
        }
      ],
      "source": [
        "import pandas as pd\n",
        "\n",
        "csv_path = \"/content/drive/MyDrive/Indian_Food_Images_Dataset/indian_food_calorie_labels.csv\"\n",
        "df = pd.read_csv(csv_path)\n",
        "print(df.columns)\n",
        "df.head()\n"
      ]
    },
    {
      "cell_type": "code",
      "execution_count": 7,
      "metadata": {
        "colab": {
          "base_uri": "https://localhost:8080/"
        },
        "id": "hANgXX7YDsBx",
        "outputId": "a76162d9-d2d6-4be8-c1e4-7fad61149126"
      },
      "outputs": [
        {
          "output_type": "stream",
          "name": "stdout",
          "text": [
            "⚠️ Folder missing: yangcha\n",
            "Total images collected: 3300\n",
            "✅ CSV saved at: /content/drive/MyDrive/Indian_Food_Images_Dataset/indian_food_calorie_labels.csv\n"
          ]
        }
      ],
      "source": [
        "import os\n",
        "import pandas as pd\n",
        "\n",
        "dataset_path = \"/content/drive/MyDrive/Indian_Food_Images_Dataset\"\n",
        "\n",
        "# Your calorie dictionary\n",
        "your_foods = {\n",
        "    \"bandar_laddu\": 180, \"basundi\": 300, \"bhatura\": 220, \"bhindi_masala\": 120,\n",
        "    \"biryani\": 400, \"boondi\": 140, \"butter_chicken\": 450, \"chak_hao_kheer\": 250,\n",
        "    \"cham_cham\": 160, \"chana_masala\": 200, \"chapati\": 70, \"chhena_kheeri\": 280,\n",
        "    \"chicken_razala\": 320, \"chicken_tikka\": 200, \"chicken_tikka_masala\": 380,\n",
        "    \"chikki\": 150, \"daal_baati_churma\": 500, \"daal_puri\": 200, \"dal_makhani\": 320,\n",
        "    \"dal_tadka\": 180, \"dharwad_pedha\": 130, \"doodhpak\": 220, \"double_ka_meetha\": 280,\n",
        "    \"dum_aloo\": 200, \"gajar_ka_halwa\": 280, \"gavvalu\": 100, \"ghevar\": 250,\n",
        "    \"gulab_jamun\": 150, \"imarti\": 170, \"jalebi\": 160, \"kalakand\": 180,\n",
        "    \"karela_bharta\": 80, \"kofta\": 220, \"kuzhi_paniyaram\": 80, \"lassi\": 160,\n",
        "    \"ledikeni\": 200, \"litti_chokha\": 300, \"maach_jhol\": 220,\n",
        "    \"makki_di_roti_sarson_da_saag\": 350, \"malapua\": 180, \"misi_roti\": 180,\n",
        "    \"misti_doi\": 150, \"modak\": 120, \"mysore_pak\": 220, \"naan\": 280,\n",
        "    \"navrattan_korma\": 320, \"palak_paneer\": 280, \"paneer_butter_masala\": 380,\n",
        "    \"phirni\": 200, \"pithe\": 150, \"poha\": 180, \"poornalu\": 140,\n",
        "    \"pootharekulu\": 130, \"qubani_ka_meetha\": 210, \"rabri\": 320, \"ras_malai\": 190,\n",
        "    \"rasgulla\": 150, \"sandesh\": 120, \"shankarpali\": 90, \"sheer_korma\": 350,\n",
        "    \"sheera\": 250, \"shrikhand\": 180, \"sohan_halwa\": 240, \"sohan_papdi\": 120,\n",
        "    \"sutar_feni\": 140, \"unni_appam\": 110, \"yangcha\": 160\n",
        "}\n",
        "\n",
        "# Collect all images and calories\n",
        "data = []\n",
        "for food_class, cal in your_foods.items():\n",
        "    folder_path = os.path.join(dataset_path, food_class)\n",
        "    if os.path.exists(folder_path):\n",
        "        for img_file in os.listdir(folder_path):\n",
        "            if img_file.lower().endswith(('.jpg', '.jpeg', '.png')):\n",
        "                full_path = os.path.join(folder_path, img_file)\n",
        "                data.append([full_path, cal])\n",
        "    else:\n",
        "        print(f\"⚠️ Folder missing: {food_class}\")\n",
        "\n",
        "# Create dataframe\n",
        "df = pd.DataFrame(data, columns=['filename', 'calories'])\n",
        "print(f\"Total images collected: {len(df)}\")\n",
        "\n",
        "# Save CSV inside dataset folder\n",
        "csv_save_path = os.path.join(dataset_path, 'indian_food_calorie_labels.csv')\n",
        "df.to_csv(csv_save_path, index=False)\n",
        "print(f\"✅ CSV saved at: {csv_save_path}\")\n"
      ]
    },
    {
      "cell_type": "code",
      "execution_count": 8,
      "metadata": {
        "colab": {
          "base_uri": "https://localhost:8080/"
        },
        "id": "QWbOTtFfEjA4",
        "outputId": "5076c418-2db2-4ce4-ea29-a62b57c12763"
      },
      "outputs": [
        {
          "output_type": "stream",
          "name": "stdout",
          "text": [
            "✅ CSV loaded, total images: 3300\n",
            "                                            filename  calories\n",
            "0  /content/drive/MyDrive/Indian_Food_Images_Data...       180\n",
            "1  /content/drive/MyDrive/Indian_Food_Images_Data...       180\n",
            "2  /content/drive/MyDrive/Indian_Food_Images_Data...       180\n",
            "3  /content/drive/MyDrive/Indian_Food_Images_Data...       180\n",
            "4  /content/drive/MyDrive/Indian_Food_Images_Data...       180\n"
          ]
        }
      ],
      "source": [
        "import os\n",
        "import pandas as pd\n",
        "\n",
        "dataset_path = \"/content/drive/MyDrive/Indian_Food_Images_Dataset\"\n",
        "csv_path = os.path.join(dataset_path, \"indian_food_calorie_labels.csv\")\n",
        "\n",
        "# Check if CSV exists and inspect\n",
        "if os.path.exists(csv_path):\n",
        "    df = pd.read_csv(csv_path)\n",
        "    print(f\"✅ CSV loaded, total images: {len(df)}\")\n",
        "    print(df.head())\n",
        "else:\n",
        "    print(\"❌ CSV not found. Please generate it first.\")\n"
      ]
    },
    {
      "cell_type": "code",
      "execution_count": 4,
      "metadata": {
        "id": "yLJQvgkcGX3X"
      },
      "outputs": [],
      "source": [
        "import pandas as pd\n",
        "import tensorflow as tf\n",
        "from tensorflow.keras.preprocessing.image import ImageDataGenerator\n",
        "from tensorflow.keras.applications import ResNet50\n",
        "from tensorflow.keras.models import Model\n",
        "from tensorflow.keras.layers import Dense, GlobalAveragePooling2D\n",
        "from tensorflow.keras.optimizers import Adam\n",
        "import matplotlib.pyplot as plt\n"
      ]
    },
    {
      "cell_type": "code",
      "execution_count": 5,
      "metadata": {
        "colab": {
          "base_uri": "https://localhost:8080/"
        },
        "id": "TnlOkZvkznDg",
        "outputId": "5e0024a9-5c73-4e7a-c542-f8c0e719e467"
      },
      "outputs": [
        {
          "output_type": "stream",
          "name": "stdout",
          "text": [
            "                                             filename  calories\n",
            "0   /content/drive/MyDrive/Indian_Food_Images_Data...       180\n",
            "1   /content/drive/MyDrive/Indian_Food_Images_Data...       180\n",
            "2   /content/drive/MyDrive/Indian_Food_Images_Data...       180\n",
            "3   /content/drive/MyDrive/Indian_Food_Images_Data...       180\n",
            "4   /content/drive/MyDrive/Indian_Food_Images_Data...       180\n",
            "5   /content/drive/MyDrive/Indian_Food_Images_Data...       180\n",
            "6   /content/drive/MyDrive/Indian_Food_Images_Data...       180\n",
            "7   /content/drive/MyDrive/Indian_Food_Images_Data...       180\n",
            "8   /content/drive/MyDrive/Indian_Food_Images_Data...       180\n",
            "9   /content/drive/MyDrive/Indian_Food_Images_Data...       180\n",
            "10  /content/drive/MyDrive/Indian_Food_Images_Data...       180\n",
            "11  /content/drive/MyDrive/Indian_Food_Images_Data...       180\n",
            "12  /content/drive/MyDrive/Indian_Food_Images_Data...       180\n",
            "13  /content/drive/MyDrive/Indian_Food_Images_Data...       180\n",
            "14  /content/drive/MyDrive/Indian_Food_Images_Data...       180\n",
            "15  /content/drive/MyDrive/Indian_Food_Images_Data...       180\n",
            "16  /content/drive/MyDrive/Indian_Food_Images_Data...       180\n",
            "17  /content/drive/MyDrive/Indian_Food_Images_Data...       180\n",
            "18  /content/drive/MyDrive/Indian_Food_Images_Data...       180\n",
            "19  /content/drive/MyDrive/Indian_Food_Images_Data...       180\n",
            "(3300, 2)\n"
          ]
        }
      ],
      "source": [
        "csv_path = \"/content/drive/MyDrive/Indian_Food_Images_Dataset/indian_food_calorie_labels.csv\"\n",
        "df = pd.read_csv(csv_path)\n",
        "print(df.head(20))\n",
        "print(df.shape)\n"
      ]
    },
    {
      "cell_type": "code",
      "source": [
        "import pandas as pd\n",
        "import tensorflow as tf\n",
        "from tensorflow.keras.preprocessing.image import ImageDataGenerator\n",
        "from tensorflow.keras.applications import ResNet50\n",
        "from tensorflow.keras.models import Model\n",
        "from tensorflow.keras.layers import Dense, GlobalAveragePooling2D, Dropout, BatchNormalization\n",
        "from tensorflow.keras.optimizers import Adam\n",
        "from tensorflow.keras.losses import Huber\n",
        "from tensorflow.keras.callbacks import ReduceLROnPlateau, EarlyStopping\n",
        "from sklearn.model_selection import train_test_split\n",
        "\n",
        "# =========================================\n",
        "# 📂 Step 2: Load and Prepare Data\n",
        "# =========================================\n",
        "# assuming df already loaded with filename and calories columns\n",
        "\n",
        "train_df, val_df = train_test_split(df, test_size=0.2, random_state=42)\n",
        "\n",
        "# normalize calories\n",
        "max_calories = train_df['calories'].max()\n",
        "train_df['calories'] = train_df['calories'] / max_calories\n",
        "val_df['calories'] = val_df['calories'] / max_calories\n"
      ],
      "metadata": {
        "id": "fwGjnPz7feJl"
      },
      "execution_count": 6,
      "outputs": []
    },
    {
      "cell_type": "code",
      "source": [
        "# Step 3: Data Generators with Augmentation\n",
        "# =========================================\n",
        "train_datagen = ImageDataGenerator(\n",
        "    rescale=1./255,\n",
        "    rotation_range=20,\n",
        "    width_shift_range=0.1,\n",
        "    height_shift_range=0.1,\n",
        "    zoom_range=0.2,\n",
        "    brightness_range=[0.8, 1.2],\n",
        "    horizontal_flip=True,\n",
        "    fill_mode='nearest'\n",
        ")\n",
        "\n",
        "val_datagen = ImageDataGenerator(rescale=1./255)\n",
        "\n",
        "train_generator = train_datagen.flow_from_dataframe(\n",
        "    dataframe=train_df,\n",
        "    x_col=\"filename\",\n",
        "    y_col=\"calories\",\n",
        "    target_size=(224, 224),\n",
        "    batch_size=32,\n",
        "    class_mode=\"raw\"\n",
        ")\n",
        "\n",
        "val_generator = val_datagen.flow_from_dataframe(\n",
        "    dataframe=val_df,\n",
        "    x_col=\"filename\",\n",
        "    y_col=\"calories\",\n",
        "    target_size=(224, 224),\n",
        "    batch_size=32,\n",
        "    class_mode=\"raw\"\n",
        ")\n"
      ],
      "metadata": {
        "colab": {
          "base_uri": "https://localhost:8080/"
        },
        "id": "jAmzWD6BtgtB",
        "outputId": "ddae72b9-babf-4fbc-9895-735894d57fff"
      },
      "execution_count": 7,
      "outputs": [
        {
          "output_type": "stream",
          "name": "stdout",
          "text": [
            "Found 2640 validated image filenames.\n",
            "Found 660 validated image filenames.\n"
          ]
        }
      ]
    },
    {
      "cell_type": "code",
      "source": [
        "# Step 4: Model Building (ResNet50)\n",
        "# =========================================\n",
        "base_model = ResNet50(weights='imagenet', include_top=False, input_shape=(224, 224, 3))\n",
        "\n",
        "x = GlobalAveragePooling2D()(base_model.output)\n",
        "x = Dense(256, activation='relu')(x)\n",
        "x = BatchNormalization()(x)\n",
        "x = Dropout(0.4)(x)\n",
        "\n",
        "x = Dense(128, activation='relu')(x)\n",
        "x = BatchNormalization()(x)\n",
        "x = Dropout(0.3)(x)\n",
        "\n",
        "output = Dense(1, activation='linear')(x)\n",
        "\n",
        "model = Model(inputs=base_model.input, outputs=output)\n",
        "\n",
        "# Unfreeze last 50 layers for fine-tuning\n",
        "for layer in base_model.layers[:-50]:\n",
        "    layer.trainable = False\n",
        "for layer in base_model.layers[-50:]:\n",
        "    layer.trainable = True\n",
        "\n",
        "# Step 5: Compile Model\n",
        "# =========================================\n",
        "model.compile(\n",
        "    optimizer=Adam(learning_rate=1e-4),\n",
        "    loss=Huber(),\n",
        "    metrics=['mae']\n",
        ")\n",
        "\n",
        "# =========================================\n",
        "# 🚀 Step 6: Callbacks\n",
        "# =========================================\n",
        "lr_scheduler = ReduceLROnPlateau(monitor='val_loss', factor=0.2, patience=3, min_lr=1e-6, verbose=1)\n",
        "early_stop = EarlyStopping(monitor='val_loss', patience=5, restore_best_weights=True, verbose=1)"
      ],
      "metadata": {
        "id": "jBmdrr1etqth"
      },
      "execution_count": 8,
      "outputs": []
    },
    {
      "cell_type": "code",
      "source": [
        "df.head()\n"
      ],
      "metadata": {
        "colab": {
          "base_uri": "https://localhost:8080/",
          "height": 206
        },
        "id": "oGXx_4fUetK2",
        "outputId": "54c92c67-04b6-4593-f225-5bf4edb3b84d"
      },
      "execution_count": 9,
      "outputs": [
        {
          "output_type": "execute_result",
          "data": {
            "text/plain": [
              "                                            filename  calories\n",
              "0  /content/drive/MyDrive/Indian_Food_Images_Data...       180\n",
              "1  /content/drive/MyDrive/Indian_Food_Images_Data...       180\n",
              "2  /content/drive/MyDrive/Indian_Food_Images_Data...       180\n",
              "3  /content/drive/MyDrive/Indian_Food_Images_Data...       180\n",
              "4  /content/drive/MyDrive/Indian_Food_Images_Data...       180"
            ],
            "text/html": [
              "\n",
              "  <div id=\"df-6e5e5b69-4258-478e-9a12-759b55a5be62\" class=\"colab-df-container\">\n",
              "    <div>\n",
              "<style scoped>\n",
              "    .dataframe tbody tr th:only-of-type {\n",
              "        vertical-align: middle;\n",
              "    }\n",
              "\n",
              "    .dataframe tbody tr th {\n",
              "        vertical-align: top;\n",
              "    }\n",
              "\n",
              "    .dataframe thead th {\n",
              "        text-align: right;\n",
              "    }\n",
              "</style>\n",
              "<table border=\"1\" class=\"dataframe\">\n",
              "  <thead>\n",
              "    <tr style=\"text-align: right;\">\n",
              "      <th></th>\n",
              "      <th>filename</th>\n",
              "      <th>calories</th>\n",
              "    </tr>\n",
              "  </thead>\n",
              "  <tbody>\n",
              "    <tr>\n",
              "      <th>0</th>\n",
              "      <td>/content/drive/MyDrive/Indian_Food_Images_Data...</td>\n",
              "      <td>180</td>\n",
              "    </tr>\n",
              "    <tr>\n",
              "      <th>1</th>\n",
              "      <td>/content/drive/MyDrive/Indian_Food_Images_Data...</td>\n",
              "      <td>180</td>\n",
              "    </tr>\n",
              "    <tr>\n",
              "      <th>2</th>\n",
              "      <td>/content/drive/MyDrive/Indian_Food_Images_Data...</td>\n",
              "      <td>180</td>\n",
              "    </tr>\n",
              "    <tr>\n",
              "      <th>3</th>\n",
              "      <td>/content/drive/MyDrive/Indian_Food_Images_Data...</td>\n",
              "      <td>180</td>\n",
              "    </tr>\n",
              "    <tr>\n",
              "      <th>4</th>\n",
              "      <td>/content/drive/MyDrive/Indian_Food_Images_Data...</td>\n",
              "      <td>180</td>\n",
              "    </tr>\n",
              "  </tbody>\n",
              "</table>\n",
              "</div>\n",
              "    <div class=\"colab-df-buttons\">\n",
              "\n",
              "  <div class=\"colab-df-container\">\n",
              "    <button class=\"colab-df-convert\" onclick=\"convertToInteractive('df-6e5e5b69-4258-478e-9a12-759b55a5be62')\"\n",
              "            title=\"Convert this dataframe to an interactive table.\"\n",
              "            style=\"display:none;\">\n",
              "\n",
              "  <svg xmlns=\"http://www.w3.org/2000/svg\" height=\"24px\" viewBox=\"0 -960 960 960\">\n",
              "    <path d=\"M120-120v-720h720v720H120Zm60-500h600v-160H180v160Zm220 220h160v-160H400v160Zm0 220h160v-160H400v160ZM180-400h160v-160H180v160Zm440 0h160v-160H620v160ZM180-180h160v-160H180v160Zm440 0h160v-160H620v160Z\"/>\n",
              "  </svg>\n",
              "    </button>\n",
              "\n",
              "  <style>\n",
              "    .colab-df-container {\n",
              "      display:flex;\n",
              "      gap: 12px;\n",
              "    }\n",
              "\n",
              "    .colab-df-convert {\n",
              "      background-color: #E8F0FE;\n",
              "      border: none;\n",
              "      border-radius: 50%;\n",
              "      cursor: pointer;\n",
              "      display: none;\n",
              "      fill: #1967D2;\n",
              "      height: 32px;\n",
              "      padding: 0 0 0 0;\n",
              "      width: 32px;\n",
              "    }\n",
              "\n",
              "    .colab-df-convert:hover {\n",
              "      background-color: #E2EBFA;\n",
              "      box-shadow: 0px 1px 2px rgba(60, 64, 67, 0.3), 0px 1px 3px 1px rgba(60, 64, 67, 0.15);\n",
              "      fill: #174EA6;\n",
              "    }\n",
              "\n",
              "    .colab-df-buttons div {\n",
              "      margin-bottom: 4px;\n",
              "    }\n",
              "\n",
              "    [theme=dark] .colab-df-convert {\n",
              "      background-color: #3B4455;\n",
              "      fill: #D2E3FC;\n",
              "    }\n",
              "\n",
              "    [theme=dark] .colab-df-convert:hover {\n",
              "      background-color: #434B5C;\n",
              "      box-shadow: 0px 1px 3px 1px rgba(0, 0, 0, 0.15);\n",
              "      filter: drop-shadow(0px 1px 2px rgba(0, 0, 0, 0.3));\n",
              "      fill: #FFFFFF;\n",
              "    }\n",
              "  </style>\n",
              "\n",
              "    <script>\n",
              "      const buttonEl =\n",
              "        document.querySelector('#df-6e5e5b69-4258-478e-9a12-759b55a5be62 button.colab-df-convert');\n",
              "      buttonEl.style.display =\n",
              "        google.colab.kernel.accessAllowed ? 'block' : 'none';\n",
              "\n",
              "      async function convertToInteractive(key) {\n",
              "        const element = document.querySelector('#df-6e5e5b69-4258-478e-9a12-759b55a5be62');\n",
              "        const dataTable =\n",
              "          await google.colab.kernel.invokeFunction('convertToInteractive',\n",
              "                                                    [key], {});\n",
              "        if (!dataTable) return;\n",
              "\n",
              "        const docLinkHtml = 'Like what you see? Visit the ' +\n",
              "          '<a target=\"_blank\" href=https://colab.research.google.com/notebooks/data_table.ipynb>data table notebook</a>'\n",
              "          + ' to learn more about interactive tables.';\n",
              "        element.innerHTML = '';\n",
              "        dataTable['output_type'] = 'display_data';\n",
              "        await google.colab.output.renderOutput(dataTable, element);\n",
              "        const docLink = document.createElement('div');\n",
              "        docLink.innerHTML = docLinkHtml;\n",
              "        element.appendChild(docLink);\n",
              "      }\n",
              "    </script>\n",
              "  </div>\n",
              "\n",
              "\n",
              "    <div id=\"df-260a03b7-abbe-4708-a3dd-09695a9c0317\">\n",
              "      <button class=\"colab-df-quickchart\" onclick=\"quickchart('df-260a03b7-abbe-4708-a3dd-09695a9c0317')\"\n",
              "                title=\"Suggest charts\"\n",
              "                style=\"display:none;\">\n",
              "\n",
              "<svg xmlns=\"http://www.w3.org/2000/svg\" height=\"24px\"viewBox=\"0 0 24 24\"\n",
              "     width=\"24px\">\n",
              "    <g>\n",
              "        <path d=\"M19 3H5c-1.1 0-2 .9-2 2v14c0 1.1.9 2 2 2h14c1.1 0 2-.9 2-2V5c0-1.1-.9-2-2-2zM9 17H7v-7h2v7zm4 0h-2V7h2v10zm4 0h-2v-4h2v4z\"/>\n",
              "    </g>\n",
              "</svg>\n",
              "      </button>\n",
              "\n",
              "<style>\n",
              "  .colab-df-quickchart {\n",
              "      --bg-color: #E8F0FE;\n",
              "      --fill-color: #1967D2;\n",
              "      --hover-bg-color: #E2EBFA;\n",
              "      --hover-fill-color: #174EA6;\n",
              "      --disabled-fill-color: #AAA;\n",
              "      --disabled-bg-color: #DDD;\n",
              "  }\n",
              "\n",
              "  [theme=dark] .colab-df-quickchart {\n",
              "      --bg-color: #3B4455;\n",
              "      --fill-color: #D2E3FC;\n",
              "      --hover-bg-color: #434B5C;\n",
              "      --hover-fill-color: #FFFFFF;\n",
              "      --disabled-bg-color: #3B4455;\n",
              "      --disabled-fill-color: #666;\n",
              "  }\n",
              "\n",
              "  .colab-df-quickchart {\n",
              "    background-color: var(--bg-color);\n",
              "    border: none;\n",
              "    border-radius: 50%;\n",
              "    cursor: pointer;\n",
              "    display: none;\n",
              "    fill: var(--fill-color);\n",
              "    height: 32px;\n",
              "    padding: 0;\n",
              "    width: 32px;\n",
              "  }\n",
              "\n",
              "  .colab-df-quickchart:hover {\n",
              "    background-color: var(--hover-bg-color);\n",
              "    box-shadow: 0 1px 2px rgba(60, 64, 67, 0.3), 0 1px 3px 1px rgba(60, 64, 67, 0.15);\n",
              "    fill: var(--button-hover-fill-color);\n",
              "  }\n",
              "\n",
              "  .colab-df-quickchart-complete:disabled,\n",
              "  .colab-df-quickchart-complete:disabled:hover {\n",
              "    background-color: var(--disabled-bg-color);\n",
              "    fill: var(--disabled-fill-color);\n",
              "    box-shadow: none;\n",
              "  }\n",
              "\n",
              "  .colab-df-spinner {\n",
              "    border: 2px solid var(--fill-color);\n",
              "    border-color: transparent;\n",
              "    border-bottom-color: var(--fill-color);\n",
              "    animation:\n",
              "      spin 1s steps(1) infinite;\n",
              "  }\n",
              "\n",
              "  @keyframes spin {\n",
              "    0% {\n",
              "      border-color: transparent;\n",
              "      border-bottom-color: var(--fill-color);\n",
              "      border-left-color: var(--fill-color);\n",
              "    }\n",
              "    20% {\n",
              "      border-color: transparent;\n",
              "      border-left-color: var(--fill-color);\n",
              "      border-top-color: var(--fill-color);\n",
              "    }\n",
              "    30% {\n",
              "      border-color: transparent;\n",
              "      border-left-color: var(--fill-color);\n",
              "      border-top-color: var(--fill-color);\n",
              "      border-right-color: var(--fill-color);\n",
              "    }\n",
              "    40% {\n",
              "      border-color: transparent;\n",
              "      border-right-color: var(--fill-color);\n",
              "      border-top-color: var(--fill-color);\n",
              "    }\n",
              "    60% {\n",
              "      border-color: transparent;\n",
              "      border-right-color: var(--fill-color);\n",
              "    }\n",
              "    80% {\n",
              "      border-color: transparent;\n",
              "      border-right-color: var(--fill-color);\n",
              "      border-bottom-color: var(--fill-color);\n",
              "    }\n",
              "    90% {\n",
              "      border-color: transparent;\n",
              "      border-bottom-color: var(--fill-color);\n",
              "    }\n",
              "  }\n",
              "</style>\n",
              "\n",
              "      <script>\n",
              "        async function quickchart(key) {\n",
              "          const quickchartButtonEl =\n",
              "            document.querySelector('#' + key + ' button');\n",
              "          quickchartButtonEl.disabled = true;  // To prevent multiple clicks.\n",
              "          quickchartButtonEl.classList.add('colab-df-spinner');\n",
              "          try {\n",
              "            const charts = await google.colab.kernel.invokeFunction(\n",
              "                'suggestCharts', [key], {});\n",
              "          } catch (error) {\n",
              "            console.error('Error during call to suggestCharts:', error);\n",
              "          }\n",
              "          quickchartButtonEl.classList.remove('colab-df-spinner');\n",
              "          quickchartButtonEl.classList.add('colab-df-quickchart-complete');\n",
              "        }\n",
              "        (() => {\n",
              "          let quickchartButtonEl =\n",
              "            document.querySelector('#df-260a03b7-abbe-4708-a3dd-09695a9c0317 button');\n",
              "          quickchartButtonEl.style.display =\n",
              "            google.colab.kernel.accessAllowed ? 'block' : 'none';\n",
              "        })();\n",
              "      </script>\n",
              "    </div>\n",
              "\n",
              "    </div>\n",
              "  </div>\n"
            ],
            "application/vnd.google.colaboratory.intrinsic+json": {
              "type": "dataframe",
              "variable_name": "df",
              "summary": "{\n  \"name\": \"df\",\n  \"rows\": 3300,\n  \"fields\": [\n    {\n      \"column\": \"filename\",\n      \"properties\": {\n        \"dtype\": \"string\",\n        \"num_unique_values\": 3300,\n        \"samples\": [\n          \"/content/drive/MyDrive/Indian_Food_Images_Dataset/basundi/0aa640e7e9.jpg\",\n          \"/content/drive/MyDrive/Indian_Food_Images_Dataset/chicken_tikka/50f4f89a6a.jpg\",\n          \"/content/drive/MyDrive/Indian_Food_Images_Dataset/gavvalu/0e208779a7.jpg\"\n        ],\n        \"semantic_type\": \"\",\n        \"description\": \"\"\n      }\n    },\n    {\n      \"column\": \"calories\",\n      \"properties\": {\n        \"dtype\": \"number\",\n        \"std\": 91,\n        \"min\": 70,\n        \"max\": 500,\n        \"num_unique_values\": 26,\n        \"samples\": [\n          160,\n          130,\n          180\n        ],\n        \"semantic_type\": \"\",\n        \"description\": \"\"\n      }\n    }\n  ]\n}"
            }
          },
          "metadata": {},
          "execution_count": 9
        }
      ]
    },
    {
      "cell_type": "code",
      "source": [
        "import os\n",
        "\n",
        "missing = [f for f in df['filename'] if not os.path.exists(f)]\n",
        "print(\"Missing files:\", len(missing))\n"
      ],
      "metadata": {
        "colab": {
          "base_uri": "https://localhost:8080/"
        },
        "id": "uEqxpp1VfGKQ",
        "outputId": "1b47dd78-3edb-4560-ca4e-ed91fff35717"
      },
      "execution_count": 10,
      "outputs": [
        {
          "output_type": "stream",
          "name": "stdout",
          "text": [
            "Missing files: 0\n"
          ]
        }
      ]
    },
    {
      "cell_type": "code",
      "source": [
        "print(\"Train shape:\", train_df.shape)\n",
        "print(\"Val shape:\", val_df.shape)\n"
      ],
      "metadata": {
        "colab": {
          "base_uri": "https://localhost:8080/"
        },
        "id": "_CmIVG2lfL-G",
        "outputId": "22b4e84d-a835-4452-90b8-353cab2acb08"
      },
      "execution_count": 11,
      "outputs": [
        {
          "output_type": "stream",
          "name": "stdout",
          "text": [
            "Train shape: (2640, 2)\n",
            "Val shape: (660, 2)\n"
          ]
        }
      ]
    },
    {
      "cell_type": "code",
      "source": [
        "from tensorflow.keras.preprocessing.image import ImageDataGenerator\n",
        "\n",
        "# Recreate the data generators\n",
        "train_datagen = ImageDataGenerator(\n",
        "    rescale=1./255,\n",
        "    rotation_range=15,\n",
        "    width_shift_range=0.1,\n",
        "    height_shift_range=0.1,\n",
        "    zoom_range=0.2,\n",
        "    brightness_range=[0.8, 1.2],\n",
        "    horizontal_flip=True,\n",
        "    fill_mode='nearest'\n",
        ")\n",
        "\n",
        "val_datagen = ImageDataGenerator(rescale=1./255)\n",
        "\n",
        "# Make sure train_df and val_df exist already\n",
        "train_generator = train_datagen.flow_from_dataframe(\n",
        "    dataframe=train_df,\n",
        "    x_col=\"filename\",\n",
        "    y_col=\"calories\",\n",
        "    target_size=(224, 224),\n",
        "    batch_size=32,\n",
        "    class_mode=\"raw\"\n",
        ")\n",
        "\n",
        "val_generator = val_datagen.flow_from_dataframe(\n",
        "    dataframe=val_df,\n",
        "    x_col=\"filename\",\n",
        "    y_col=\"calories\",\n",
        "    target_size=(224, 224),\n",
        "    batch_size=32,\n",
        "    class_mode=\"raw\"\n",
        ")\n"
      ],
      "metadata": {
        "colab": {
          "base_uri": "https://localhost:8080/"
        },
        "id": "KMl_sJTxxh4e",
        "outputId": "5bef74d6-9514-43b3-a09d-b75d92a1fedc"
      },
      "execution_count": 12,
      "outputs": [
        {
          "output_type": "stream",
          "name": "stdout",
          "text": [
            "Found 2640 validated image filenames.\n",
            "Found 660 validated image filenames.\n"
          ]
        }
      ]
    },
    {
      "cell_type": "code",
      "source": [
        "from tensorflow.keras.models import Sequential\n",
        "from tensorflow.keras.layers import Conv2D, MaxPooling2D, Flatten, Dense, Dropout\n",
        "from tensorflow.keras.optimizers import Adam\n",
        "from tensorflow.keras.callbacks import ReduceLROnPlateau, EarlyStopping\n",
        "\n",
        "model = Sequential([\n",
        "    Conv2D(32, (3,3), activation='relu', input_shape=(224,224,3)),\n",
        "    MaxPooling2D(2,2),\n",
        "    Dropout(0.2),\n",
        "\n",
        "    Conv2D(64, (3,3), activation='relu'),\n",
        "    MaxPooling2D(2,2),\n",
        "    Dropout(0.3),\n",
        "\n",
        "    Conv2D(128, (3,3), activation='relu'),\n",
        "    MaxPooling2D(2,2),\n",
        "    Flatten(),\n",
        "    Dense(128, activation='relu'),\n",
        "    Dropout(0.4),\n",
        "\n",
        "    Dense(1)  # regression output\n",
        "])\n",
        "\n",
        "optimizer = Adam(learning_rate=1e-5)\n",
        "\n",
        "model.compile(optimizer=optimizer, loss='mse', metrics=['mae'])\n",
        "\n",
        "reduce_lr = ReduceLROnPlateau(monitor='val_loss', factor=0.3, patience=3, min_lr=1e-6)\n",
        "early_stop = EarlyStopping(monitor='val_loss', patience=5, restore_best_weights=True)\n",
        "\n",
        "\n"
      ],
      "metadata": {
        "colab": {
          "base_uri": "https://localhost:8080/"
        },
        "id": "KWanfL6zxIZx",
        "outputId": "ad2655dd-2f6a-4a51-a919-6359fef0c40a"
      },
      "execution_count": 13,
      "outputs": [
        {
          "output_type": "stream",
          "name": "stderr",
          "text": [
            "/usr/local/lib/python3.12/dist-packages/keras/src/layers/convolutional/base_conv.py:113: UserWarning: Do not pass an `input_shape`/`input_dim` argument to a layer. When using Sequential models, prefer using an `Input(shape)` object as the first layer in the model instead.\n",
            "  super().__init__(activity_regularizer=activity_regularizer, **kwargs)\n"
          ]
        }
      ]
    },
    {
      "cell_type": "code",
      "source": [
        "# =========================================\n",
        "# 📦 Step 1: Import Libraries\n",
        "# =========================================\n",
        "import pandas as pd\n",
        "import tensorflow as tf\n",
        "from tensorflow.keras.preprocessing.image import ImageDataGenerator\n",
        "from tensorflow.keras.applications import ResNet50\n",
        "from tensorflow.keras.models import Model\n",
        "from tensorflow.keras.layers import Dense, GlobalAveragePooling2D, Dropout\n",
        "from tensorflow.keras.optimizers import Adam\n",
        "from tensorflow.keras.callbacks import ReduceLROnPlateau, EarlyStopping\n",
        "from tensorflow.keras.losses import Huber\n",
        "\n",
        "# =========================================\n",
        "# 📂 Step 2: Create Train/Validation Split\n",
        "# =========================================\n",
        "from sklearn.model_selection import train_test_split\n",
        "\n",
        "train_df, val_df = train_test_split(df, test_size=0.2, random_state=42)\n",
        "\n",
        "max_calories = train_df['calories'].max()\n",
        "train_df['calories'] = train_df['calories'] / max_calories\n",
        "val_df['calories'] = val_df['calories'] / max_calories\n",
        "\n",
        "# =========================================\n",
        "# 🧠 Step 3: Data Generators\n",
        "# =========================================\n",
        "train_datagen = ImageDataGenerator(\n",
        "    rescale=1./255,\n",
        "    rotation_range=15,\n",
        "    width_shift_range=0.1,\n",
        "    height_shift_range=0.1,\n",
        "    zoom_range=0.2,\n",
        "    brightness_range=[0.8, 1.2],\n",
        "    horizontal_flip=True,\n",
        "    fill_mode='nearest'\n",
        ")\n",
        "\n",
        "val_datagen = ImageDataGenerator(rescale=1./255)\n",
        "\n",
        "train_generator = train_datagen.flow_from_dataframe(\n",
        "    dataframe=train_df,\n",
        "    x_col=\"filename\",\n",
        "    y_col=\"calories\",\n",
        "    target_size=(224, 224),\n",
        "    batch_size=32,\n",
        "    class_mode=\"raw\"\n",
        ")\n",
        "\n",
        "val_generator = val_datagen.flow_from_dataframe(\n",
        "    dataframe=val_df,\n",
        "    x_col=\"filename\",\n",
        "    y_col=\"calories\",\n",
        "    target_size=(224, 224),\n",
        "    batch_size=32,\n",
        "    class_mode=\"raw\"\n",
        ")\n",
        "\n",
        "# =========================================\n",
        "# 🏗️ Step 4: Build Model (ResNet50)\n",
        "# =========================================\n",
        "base_model = ResNet50(weights='imagenet', include_top=False, input_shape=(224, 224, 3))\n",
        "x = GlobalAveragePooling2D()(base_model.output)\n",
        "x = Dense(256, activation='relu')(x)\n",
        "x = Dropout(0.3)(x)\n",
        "x = Dense(128, activation='relu')(x)\n",
        "x = Dropout(0.2)(x)\n",
        "output = Dense(1, activation='linear')(x)\n",
        "\n",
        "model = Model(inputs=base_model.input, outputs=output)\n",
        "\n",
        "# Freeze base layers initially\n",
        "for layer in base_model.layers:\n",
        "    layer.trainable = False\n",
        "\n",
        "# =========================================\n",
        "# ⚙️ Step 5: Compile Model\n",
        "# =========================================\n",
        "model.compile(optimizer=Adam(learning_rate=1e-4),\n",
        "              loss=Huber(),\n",
        "              metrics=['mae'])\n",
        "\n",
        "# =========================================\n",
        "# 🧩 Step 6: Callbacks\n",
        "# =========================================\n",
        "reduce_lr = ReduceLROnPlateau(\n",
        "    monitor='val_loss',\n",
        "    factor=0.3,\n",
        "    patience=3,\n",
        "    min_lr=1e-6,\n",
        "    verbose=1\n",
        ")\n",
        "\n",
        "early_stop = EarlyStopping(\n",
        "    monitor='val_mae',\n",
        "    patience=6,\n",
        "    restore_best_weights=True,\n",
        "    verbose=1\n",
        ")\n",
        "\n",
        "\n"
      ],
      "metadata": {
        "colab": {
          "base_uri": "https://localhost:8080/"
        },
        "id": "yn09UbGGx9Aj",
        "outputId": "2683926c-5894-41aa-c3f5-2e66d65733e5"
      },
      "execution_count": 14,
      "outputs": [
        {
          "output_type": "stream",
          "name": "stdout",
          "text": [
            "Found 2640 validated image filenames.\n",
            "Found 660 validated image filenames.\n"
          ]
        }
      ]
    },
    {
      "cell_type": "code",
      "source": [
        "history = model.fit(\n",
        "    train_generator,\n",
        "    validation_data=val_generator,\n",
        "    epochs=10,\n",
        "    callbacks=[reduce_lr, early_stop]\n",
        ")\n"
      ],
      "metadata": {
        "colab": {
          "base_uri": "https://localhost:8080/"
        },
        "id": "ytxYY1S6xLmD",
        "outputId": "e83f9a89-63f7-4e13-b05c-430455ed5c71"
      },
      "execution_count": 15,
      "outputs": [
        {
          "output_type": "stream",
          "name": "stderr",
          "text": [
            "/usr/local/lib/python3.12/dist-packages/keras/src/trainers/data_adapters/py_dataset_adapter.py:121: UserWarning: Your `PyDataset` class should call `super().__init__(**kwargs)` in its constructor. `**kwargs` can include `workers`, `use_multiprocessing`, `max_queue_size`. Do not pass these arguments to `fit()`, as they will be ignored.\n",
            "  self._warn_if_super_not_called()\n"
          ]
        },
        {
          "output_type": "stream",
          "name": "stdout",
          "text": [
            "Epoch 1/10\n",
            "\u001b[1m83/83\u001b[0m \u001b[32m━━━━━━━━━━━━━━━━━━━━\u001b[0m\u001b[37m\u001b[0m \u001b[1m605s\u001b[0m 7s/step - loss: 0.2558 - mae: 0.5728 - val_loss: 0.0348 - val_mae: 0.2321 - learning_rate: 1.0000e-04\n",
            "Epoch 2/10\n",
            "\u001b[1m83/83\u001b[0m \u001b[32m━━━━━━━━━━━━━━━━━━━━\u001b[0m\u001b[37m\u001b[0m \u001b[1m580s\u001b[0m 7s/step - loss: 0.0460 - mae: 0.2402 - val_loss: 0.0192 - val_mae: 0.1595 - learning_rate: 1.0000e-04\n",
            "Epoch 3/10\n",
            "\u001b[1m83/83\u001b[0m \u001b[32m━━━━━━━━━━━━━━━━━━━━\u001b[0m\u001b[37m\u001b[0m \u001b[1m579s\u001b[0m 7s/step - loss: 0.0308 - mae: 0.1958 - val_loss: 0.0190 - val_mae: 0.1458 - learning_rate: 1.0000e-04\n",
            "Epoch 4/10\n",
            "\u001b[1m83/83\u001b[0m \u001b[32m━━━━━━━━━━━━━━━━━━━━\u001b[0m\u001b[37m\u001b[0m \u001b[1m611s\u001b[0m 7s/step - loss: 0.0257 - mae: 0.1772 - val_loss: 0.0201 - val_mae: 0.1462 - learning_rate: 1.0000e-04\n",
            "Epoch 5/10\n",
            "\u001b[1m83/83\u001b[0m \u001b[32m━━━━━━━━━━━━━━━━━━━━\u001b[0m\u001b[37m\u001b[0m \u001b[1m578s\u001b[0m 7s/step - loss: 0.0227 - mae: 0.1696 - val_loss: 0.0189 - val_mae: 0.1446 - learning_rate: 1.0000e-04\n",
            "Epoch 6/10\n",
            "\u001b[1m83/83\u001b[0m \u001b[32m━━━━━━━━━━━━━━━━━━━━\u001b[0m\u001b[37m\u001b[0m \u001b[1m579s\u001b[0m 7s/step - loss: 0.0230 - mae: 0.1694 - val_loss: 0.0193 - val_mae: 0.1445 - learning_rate: 1.0000e-04\n",
            "Epoch 7/10\n",
            "\u001b[1m83/83\u001b[0m \u001b[32m━━━━━━━━━━━━━━━━━━━━\u001b[0m\u001b[37m\u001b[0m \u001b[1m583s\u001b[0m 7s/step - loss: 0.0212 - mae: 0.1612 - val_loss: 0.0201 - val_mae: 0.1462 - learning_rate: 1.0000e-04\n",
            "Epoch 8/10\n",
            "\u001b[1m83/83\u001b[0m \u001b[32m━━━━━━━━━━━━━━━━━━━━\u001b[0m\u001b[37m\u001b[0m \u001b[1m0s\u001b[0m 6s/step - loss: 0.0195 - mae: 0.1549\n",
            "Epoch 8: ReduceLROnPlateau reducing learning rate to 2.9999999242136255e-05.\n",
            "\u001b[1m83/83\u001b[0m \u001b[32m━━━━━━━━━━━━━━━━━━━━\u001b[0m\u001b[37m\u001b[0m \u001b[1m583s\u001b[0m 7s/step - loss: 0.0195 - mae: 0.1550 - val_loss: 0.0223 - val_mae: 0.1507 - learning_rate: 1.0000e-04\n",
            "Epoch 9/10\n",
            "\u001b[1m83/83\u001b[0m \u001b[32m━━━━━━━━━━━━━━━━━━━━\u001b[0m\u001b[37m\u001b[0m \u001b[1m577s\u001b[0m 7s/step - loss: 0.0190 - mae: 0.1530 - val_loss: 0.0212 - val_mae: 0.1484 - learning_rate: 3.0000e-05\n",
            "Epoch 10/10\n",
            "\u001b[1m83/83\u001b[0m \u001b[32m━━━━━━━━━━━━━━━━━━━━\u001b[0m\u001b[37m\u001b[0m \u001b[1m581s\u001b[0m 7s/step - loss: 0.0195 - mae: 0.1545 - val_loss: 0.0215 - val_mae: 0.1491 - learning_rate: 3.0000e-05\n",
            "Restoring model weights from the end of the best epoch: 6.\n"
          ]
        }
      ]
    },
    {
      "cell_type": "code",
      "source": [
        "# 🔹 Step 1: Make predictions on validation data\n",
        "predicted = model.predict(val_generator)\n",
        "\n",
        "# 🔹 Step 2: Convert predicted and true values back to actual calories\n",
        "predicted_actual = predicted.flatten() * max_calories\n",
        "true_actual = val_generator.labels * max_calories\n",
        "\n",
        "# 🔹 Step 3: Compare the first few predictions\n",
        "for i in range(5):\n",
        "    print(f\"Predicted: {predicted_actual[i]:.2f} | Actual: {true_actual[i]:.2f}\")\n"
      ],
      "metadata": {
        "colab": {
          "base_uri": "https://localhost:8080/"
        },
        "id": "D-_3USb3DQzg",
        "outputId": "8ad3ebf0-b40a-4c46-857f-1ea90ad934e8"
      },
      "execution_count": 18,
      "outputs": [
        {
          "output_type": "stream",
          "name": "stdout",
          "text": [
            "\u001b[1m21/21\u001b[0m \u001b[32m━━━━━━━━━━━━━━━━━━━━\u001b[0m\u001b[37m\u001b[0m \u001b[1m120s\u001b[0m 5s/step\n",
            "Predicted: 175.85 | Actual: 300.00\n",
            "Predicted: 205.22 | Actual: 200.00\n",
            "Predicted: 182.18 | Actual: 100.00\n",
            "Predicted: 222.11 | Actual: 120.00\n",
            "Predicted: 194.39 | Actual: 400.00\n"
          ]
        }
      ]
    },
    {
      "cell_type": "code",
      "source": [
        "for layer in model.layers[-40:]:  # Unfreeze last 40 layers\n",
        "    layer.trainable = True\n",
        "\n",
        "model.compile(optimizer=Adam(learning_rate=1e-5),\n",
        "              loss=Huber(),\n",
        "              metrics=['mae'])\n",
        "model.fit(train_generator,\n",
        "          validation_data=val_generator,\n",
        "          epochs=5,\n",
        "          callbacks=[reduce_lr, early_stop])\n"
      ],
      "metadata": {
        "colab": {
          "base_uri": "https://localhost:8080/"
        },
        "id": "H5eY_KYzK6Kr",
        "outputId": "4db0ccc2-4098-4664-e3da-ca1a536f4110"
      },
      "execution_count": 21,
      "outputs": [
        {
          "output_type": "stream",
          "name": "stdout",
          "text": [
            "Epoch 1/5\n",
            "\u001b[1m83/83\u001b[0m \u001b[32m━━━━━━━━━━━━━━━━━━━━\u001b[0m\u001b[37m\u001b[0m \u001b[1m839s\u001b[0m 10s/step - loss: 0.0197 - mae: 0.1555 - val_loss: 0.0175 - val_mae: 0.1449 - learning_rate: 1.0000e-05\n",
            "Epoch 2/5\n",
            "\u001b[1m83/83\u001b[0m \u001b[32m━━━━━━━━━━━━━━━━━━━━\u001b[0m\u001b[37m\u001b[0m \u001b[1m855s\u001b[0m 10s/step - loss: 0.0187 - mae: 0.1517 - val_loss: 0.0178 - val_mae: 0.1464 - learning_rate: 1.0000e-05\n",
            "Epoch 3/5\n",
            "\u001b[1m83/83\u001b[0m \u001b[32m━━━━━━━━━━━━━━━━━━━━\u001b[0m\u001b[37m\u001b[0m \u001b[1m835s\u001b[0m 10s/step - loss: 0.0190 - mae: 0.1532 - val_loss: 0.0170 - val_mae: 0.1439 - learning_rate: 1.0000e-05\n",
            "Epoch 4/5\n",
            "\u001b[1m83/83\u001b[0m \u001b[32m━━━━━━━━━━━━━━━━━━━━\u001b[0m\u001b[37m\u001b[0m \u001b[1m800s\u001b[0m 10s/step - loss: 0.0181 - mae: 0.1508 - val_loss: 0.0177 - val_mae: 0.1405 - learning_rate: 1.0000e-05\n",
            "Epoch 5/5\n",
            "\u001b[1m83/83\u001b[0m \u001b[32m━━━━━━━━━━━━━━━━━━━━\u001b[0m\u001b[37m\u001b[0m \u001b[1m806s\u001b[0m 10s/step - loss: 0.0188 - mae: 0.1531 - val_loss: 0.0178 - val_mae: 0.1458 - learning_rate: 1.0000e-05\n",
            "Restoring model weights from the end of the best epoch: 4.\n"
          ]
        },
        {
          "output_type": "execute_result",
          "data": {
            "text/plain": [
              "<keras.src.callbacks.history.History at 0x788029cdd790>"
            ]
          },
          "metadata": {},
          "execution_count": 21
        }
      ]
    },
    {
      "cell_type": "code",
      "source": [
        "import matplotlib.pyplot as plt\n",
        "\n",
        "plt.figure(figsize=(6,6))\n",
        "plt.scatter(true_actual, predicted_actual, alpha=0.7)\n",
        "plt.xlabel(\"Actual Calories\")\n",
        "plt.ylabel(\"Predicted Calories\")\n",
        "plt.title(\"Predicted vs Actual Calories\")\n",
        "plt.plot([0, 500], [0, 500], 'r--')  # Perfect prediction line\n",
        "plt.show()\n"
      ],
      "metadata": {
        "colab": {
          "base_uri": "https://localhost:8080/",
          "height": 564
        },
        "id": "oJhwQzYXqIBl",
        "outputId": "02e63b53-e4ab-480e-da38-3c2320799898"
      },
      "execution_count": 22,
      "outputs": [
        {
          "output_type": "display_data",
          "data": {
            "text/plain": [
              "<Figure size 600x600 with 1 Axes>"
            ],
            "image/png": "[encoded data removed]"
          },
          "metadata": {}
        }
      ]
    },
    {
      "cell_type": "code",
      "source": [
        "model.save(\"/content/drive/MyDrive/food_calorie_model_resnet50.h5\")\n"
      ],
      "metadata": {
        "colab": {
          "base_uri": "https://localhost:8080/"
        },
        "id": "acQAdwX_st2o",
        "outputId": "4d4cddc1-47a4-4fd1-b0d1-05f96c2d7c82"
      },
      "execution_count": 23,
      "outputs": [
        {
          "output_type": "stream",
          "name": "stderr",
          "text": [
            "WARNING:absl:You are saving your model as an HDF5 file via `model.save()` or `keras.saving.save_model(model)`. This file format is considered legacy. We recommend using instead the native Keras format, e.g. `model.save('my_model.keras')` or `keras.saving.save_model(model, 'my_model.keras')`. \n"
          ]
        }
      ]
    },
    {
      "cell_type": "code",
      "source": [
        "from tensorflow.keras.models import load_model\n",
        "model = load_model(\"/content/drive/MyDrive/food_calorie_model_resnet50.h5\", compile=False)\n"
      ],
      "metadata": {
        "id": "yjghXP9xs0kA"
      },
      "execution_count": 24,
      "outputs": []
    },
    {
      "cell_type": "code",
      "source": [
        "# from tensorflow.keras.applications import EfficientNetB3\n",
        "# base_model = EfficientNetB3(weights='imagenet', include_top=False, input_shape=(224,224,3))\n"
      ],
      "metadata": {
        "id": "1BAbwN2ys_p5"
      },
      "execution_count": null,
      "outputs": []
    },
    {
      "cell_type": "code",
      "execution_count": null,
      "metadata": {
        "id": "xMx4Sn7uUpb8"
      },
      "outputs": [],
      "source": [
        "# # =========================================\n",
        "# # 📦 Step 1: Import Libraries\n",
        "# # =========================================\n",
        "# import pandas as pd\n",
        "# import tensorflow as tf\n",
        "# from tensorflow.keras.preprocessing.image import ImageDataGenerator\n",
        "# from tensorflow.keras.applications import ResNet50\n",
        "# from tensorflow.keras.models import Model\n",
        "# from tensorflow.keras.layers import Dense, GlobalAveragePooling2D, Dropout   # ✅ Added Dropout\n",
        "# from tensorflow.keras.optimizers import Adam\n",
        "# from tensorflow.keras.callbacks import ReduceLROnPlateau\n",
        "# from tensorflow.keras.losses import Huber\n",
        "# import matplotlib.pyplot as plt\n",
        "# from sklearn.model_selection import train_test_split\n"
      ]
    },
    {
      "cell_type": "code",
      "execution_count": null,
      "metadata": {
        "colab": {
          "base_uri": "https://localhost:8080/"
        },
        "id": "SLs4iEpU0TcC",
        "outputId": "5c955d45-bcca-48b6-f947-1c204621133f"
      },
      "outputs": [
        {
          "name": "stdout",
          "output_type": "stream",
          "text": [
            "Found 2640 validated image filenames.\n",
            "Found 660 validated image filenames.\n"
          ]
        }
      ],
      "source": [
        "# from tensorflow.keras.layers import Dense, GlobalAveragePooling2D, Dropout\n",
        "# train_datagen = ImageDataGenerator(\n",
        "#     rescale=1./255,\n",
        "#     rotation_range=20,\n",
        "#     width_shift_range=0.1,\n",
        "#     height_shift_range=0.1,\n",
        "#     zoom_range=0.2,\n",
        "#     brightness_range=[0.8, 1.2],\n",
        "#     horizontal_flip=True,\n",
        "#     fill_mode='nearest'\n",
        "# )\n",
        "# val_datagen = ImageDataGenerator(rescale=1./255)\n",
        "\n",
        "# train_generator = train_datagen.flow_from_dataframe(\n",
        "#     dataframe=train_df,\n",
        "#     x_col=\"filename\",\n",
        "#     y_col=\"calories\",\n",
        "#     target_size=(224, 224),\n",
        "#     batch_size=32,\n",
        "#     class_mode=\"raw\"\n",
        "# )\n",
        "\n",
        "# val_generator = val_datagen.flow_from_dataframe(\n",
        "#     dataframe=val_df,\n",
        "#     x_col=\"filename\",\n",
        "#     y_col=\"calories\",\n",
        "#     target_size=(224, 224),\n",
        "#     batch_size=32,\n",
        "#     class_mode=\"raw\"\n",
        "# )\n",
        "\n",
        "# base_model = ResNet50(weights='imagenet', include_top=False, input_shape=(224, 224, 3))\n",
        "# x = GlobalAveragePooling2D()(base_model.output)\n",
        "# x = Dense(128, activation='relu')(x)\n",
        "# x = Dense(64, activation='relu')(x)\n",
        "# x = Dropout(0.3)(x)  # Add dropout\n",
        "# x = Dropout(0.2)(x)\n",
        "# output = Dense(1, activation='linear')(x)\n",
        "\n",
        "\n",
        "# model = Model(inputs=base_model.input, outputs=output)\n",
        "\n",
        "# for layer in base_model.layers:\n",
        "#     layer.trainable = False\n",
        "\n",
        "\n",
        "# # Unfreeze last 30 layers of ResNet50\n",
        "# # for layer in base_model.layers[-30:]:\n",
        "# #     layer.trainable = True\n",
        "\n",
        "# # model.compile(optimizer=Adam(learning_rate=1e-5), loss='mse', metrics=['mae'])\n",
        "# # model.compile(optimizer=Adam(learning_rate=1e-4),\n",
        "# #               loss=Huber(),\n",
        "# #               metrics=['mae'])\n",
        "\n",
        "# # model.summary()\n",
        "# train_datagen = ImageDataGenerator(\n",
        "#     rescale=1./255,\n",
        "#     rotation_range=20,\n",
        "#     width_shift_range=0.1,\n",
        "#     height_shift_range=0.1,\n",
        "#     zoom_range=0.2,\n",
        "#     brightness_range=[0.8, 1.2],\n",
        "#     horizontal_flip=True,\n",
        "#     fill_mode='nearest'\n",
        "# )\n",
        "\n",
        "# from tensorflow.keras.losses import Huber\n",
        "# model.compile(optimizer=Adam(learning_rate=1e-4), loss=Huber(), metrics=['mae'])\n",
        "\n",
        "# from tensorflow.keras.callbacks import ReduceLROnPlateau\n",
        "\n",
        "# lr_scheduler = ReduceLROnPlateau(\n",
        "#     monitor='val_loss',\n",
        "#     factor=0.2,\n",
        "#     patience=3,\n",
        "#     min_lr=1e-6,\n",
        "#     verbose=1\n",
        "# )"
      ]
    },
    {
      "cell_type": "code",
      "execution_count": null,
      "metadata": {
        "colab": {
          "base_uri": "https://localhost:8080/"
        },
        "id": "kWvyFUGiUI1I",
        "outputId": "03e3dd36-c691-4fa2-95bc-3b6f05d1f4bc"
      },
      "outputs": [
        {
          "name": "stderr",
          "output_type": "stream",
          "text": [
            "/usr/local/lib/python3.12/dist-packages/keras/src/trainers/data_adapters/py_dataset_adapter.py:121: UserWarning: Your `PyDataset` class should call `super().__init__(**kwargs)` in its constructor. `**kwargs` can include `workers`, `use_multiprocessing`, `max_queue_size`. Do not pass these arguments to `fit()`, as they will be ignored.\n",
            "  self._warn_if_super_not_called()\n"
          ]
        },
        {
          "name": "stdout",
          "output_type": "stream",
          "text": [
            "Epoch 1/15\n",
            "\u001b[1m83/83\u001b[0m \u001b[32m━━━━━━━━━━━━━━━━━━━━\u001b[0m\u001b[37m\u001b[0m \u001b[1m600s\u001b[0m 7s/step - loss: 212.1953 - mae: 212.6953 - val_loss: 201.7567 - val_mae: 202.2567 - learning_rate: 1.0000e-04\n",
            "Epoch 2/15\n",
            "\u001b[1m83/83\u001b[0m \u001b[32m━━━━━━━━━━━━━━━━━━━━\u001b[0m\u001b[37m\u001b[0m \u001b[1m586s\u001b[0m 7s/step - loss: 199.4309 - mae: 199.9309 - val_loss: 180.3422 - val_mae: 180.8422 - learning_rate: 1.0000e-04\n",
            "Epoch 3/15\n",
            "\u001b[1m83/83\u001b[0m \u001b[32m━━━━━━━━━━━━━━━━━━━━\u001b[0m\u001b[37m\u001b[0m \u001b[1m585s\u001b[0m 7s/step - loss: 171.7705 - mae: 172.2705 - val_loss: 141.0318 - val_mae: 141.5310 - learning_rate: 1.0000e-04\n",
            "Epoch 4/15\n",
            "\u001b[1m83/83\u001b[0m \u001b[32m━━━━━━━━━━━━━━━━━━━━\u001b[0m\u001b[37m\u001b[0m \u001b[1m619s\u001b[0m 7s/step - loss: 131.5260 - mae: 132.0253 - val_loss: 93.9132 - val_mae: 94.4111 - learning_rate: 1.0000e-04\n",
            "Epoch 5/15\n",
            "\u001b[1m83/83\u001b[0m \u001b[32m━━━━━━━━━━━━━━━━━━━━\u001b[0m\u001b[37m\u001b[0m \u001b[1m597s\u001b[0m 7s/step - loss: 92.0997 - mae: 92.5988 - val_loss: 73.9191 - val_mae: 74.4152 - learning_rate: 1.0000e-04\n",
            "Epoch 6/15\n",
            "\u001b[1m83/83\u001b[0m \u001b[32m━━━━━━━━━━━━━━━━━━━━\u001b[0m\u001b[37m\u001b[0m \u001b[1m585s\u001b[0m 7s/step - loss: 82.4020 - mae: 82.9009 - val_loss: 71.9543 - val_mae: 72.4520 - learning_rate: 1.0000e-04\n",
            "Epoch 7/15\n",
            "\u001b[1m83/83\u001b[0m \u001b[32m━━━━━━━━━━━━━━━━━━━━\u001b[0m\u001b[37m\u001b[0m \u001b[1m620s\u001b[0m 7s/step - loss: 80.7895 - mae: 81.2885 - val_loss: 71.8424 - val_mae: 72.3409 - learning_rate: 1.0000e-04\n",
            "Epoch 8/15\n",
            "\u001b[1m83/83\u001b[0m \u001b[32m━━━━━━━━━━━━━━━━━━━━\u001b[0m\u001b[37m\u001b[0m \u001b[1m585s\u001b[0m 7s/step - loss: 79.8753 - mae: 80.3740 - val_loss: 71.8216 - val_mae: 72.3186 - learning_rate: 1.0000e-04\n",
            "Epoch 9/15\n",
            "\u001b[1m83/83\u001b[0m \u001b[32m━━━━━━━━━━━━━━━━━━━━\u001b[0m\u001b[37m\u001b[0m \u001b[1m580s\u001b[0m 7s/step - loss: 79.7325 - mae: 80.2309 - val_loss: 71.8294 - val_mae: 72.3284 - learning_rate: 1.0000e-04\n",
            "Epoch 10/15\n",
            "\u001b[1m83/83\u001b[0m \u001b[32m━━━━━━━━━━━━━━━━━━━━\u001b[0m\u001b[37m\u001b[0m \u001b[1m581s\u001b[0m 7s/step - loss: 80.6465 - mae: 81.1453 - val_loss: 71.8046 - val_mae: 72.3025 - learning_rate: 1.0000e-04\n",
            "Epoch 11/15\n",
            "\u001b[1m83/83\u001b[0m \u001b[32m━━━━━━━━━━━━━━━━━━━━\u001b[0m\u001b[37m\u001b[0m \u001b[1m579s\u001b[0m 7s/step - loss: 78.1418 - mae: 78.6405 - val_loss: 71.8546 - val_mae: 72.3534 - learning_rate: 1.0000e-04\n",
            "Epoch 12/15\n",
            "\u001b[1m83/83\u001b[0m \u001b[32m━━━━━━━━━━━━━━━━━━━━\u001b[0m\u001b[37m\u001b[0m \u001b[1m586s\u001b[0m 7s/step - loss: 76.5658 - mae: 77.0648 - val_loss: 71.8187 - val_mae: 72.3182 - learning_rate: 1.0000e-04\n",
            "Epoch 13/15\n",
            "\u001b[1m83/83\u001b[0m \u001b[32m━━━━━━━━━━━━━━━━━━━━\u001b[0m\u001b[37m\u001b[0m \u001b[1m0s\u001b[0m 6s/step - loss: 77.7003 - mae: 78.1987\n",
            "Epoch 13: ReduceLROnPlateau reducing learning rate to 1.9999999494757503e-05.\n",
            "\u001b[1m83/83\u001b[0m \u001b[32m━━━━━━━━━━━━━━━━━━━━\u001b[0m\u001b[37m\u001b[0m \u001b[1m579s\u001b[0m 7s/step - loss: 77.7039 - mae: 78.2023 - val_loss: 71.9118 - val_mae: 72.4088 - learning_rate: 1.0000e-04\n",
            "Epoch 14/15\n",
            "\u001b[1m83/83\u001b[0m \u001b[32m━━━━━━━━━━━━━━━━━━━━\u001b[0m\u001b[37m\u001b[0m \u001b[1m577s\u001b[0m 7s/step - loss: 80.2943 - mae: 80.7938 - val_loss: 71.8537 - val_mae: 72.3527 - learning_rate: 2.0000e-05\n",
            "Epoch 15/15\n",
            "\u001b[1m83/83\u001b[0m \u001b[32m━━━━━━━━━━━━━━━━━━━━\u001b[0m\u001b[37m\u001b[0m \u001b[1m581s\u001b[0m 7s/step - loss: 77.0599 - mae: 77.5588 - val_loss: 71.8629 - val_mae: 72.3620 - learning_rate: 2.0000e-05\n"
          ]
        }
      ],
      "source": [
        "# history = model.fit(\n",
        "#     train_generator,\n",
        "#     validation_data=val_generator,\n",
        "#     epochs=15,\n",
        "#     callbacks=[lr_scheduler]\n",
        "# )\n"
      ]
    },
    {
      "cell_type": "code",
      "execution_count": null,
      "metadata": {
        "id": "s0WuI4bcupGY"
      },
      "outputs": [],
      "source": []
    }
  ],
  "metadata": {
    "colab": {
      "provenance": [],
      "authorship_tag": "ABX9TyNzCNhlVw5NNUepQRHZx5xD",
      "include_colab_link": true
    },
    "kernelspec": {
      "display_name": "Python 3",
      "name": "python3"
    },
    "language_info": {
      "name": "python"
    }
  },
  "nbformat": 4,
  "nbformat_minor": 0
}
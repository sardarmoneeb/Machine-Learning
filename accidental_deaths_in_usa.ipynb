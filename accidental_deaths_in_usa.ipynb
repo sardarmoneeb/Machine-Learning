{
 "cells": [
  {
   "cell_type": "code",
   "execution_count": 5,
   "id": "37392984-1056-4bed-b450-e7cbadb19e5e",
   "metadata": {},
   "outputs": [],
   "source": [
    "import pandas as pd\n",
    "import glob"
   ]
  },
  {
   "cell_type": "code",
   "execution_count": 9,
   "id": "67c29c84-d270-4162-9679-a8e1f1ac6e92",
   "metadata": {},
   "outputs": [
    {
     "name": "stderr",
     "output_type": "stream",
     "text": [
      "C:\\Users\\LENOVE\\AppData\\Local\\Temp\\ipykernel_2412\\3620647173.py:14: DtypeWarning: Columns (0,2,4,7,9,11,12,13,14,15,19,20,21,22,23,25,26,27,28,29,33,34) have mixed types. Specify dtype option on import or set low_memory=False.\n",
      "  df = pd.read_csv(file)\n"
     ]
    },
    {
     "name": "stdout",
     "output_type": "stream",
     "text": [
      "     Month  Accidental deaths in USA: monthly, 1973 ? 1978 Time  Ads Date  \\\n",
      "0  1973-01                                          9007.0  NaN  NaN  NaN   \n",
      "1  1973-02                                          8106.0  NaN  NaN  NaN   \n",
      "2  1973-03                                          8928.0  NaN  NaN  NaN   \n",
      "3  1973-04                                          9137.0  NaN  NaN  NaN   \n",
      "4  1973-05                                         10017.0  NaN  NaN  NaN   \n",
      "\n",
      "   ads  age workclass  fnlwgt education  ...  citric acid residual sugar  \\\n",
      "0  NaN  NaN       NaN     NaN       NaN  ...          NaN            NaN   \n",
      "1  NaN  NaN       NaN     NaN       NaN  ...          NaN            NaN   \n",
      "2  NaN  NaN       NaN     NaN       NaN  ...          NaN            NaN   \n",
      "3  NaN  NaN       NaN     NaN       NaN  ...          NaN            NaN   \n",
      "4  NaN  NaN       NaN     NaN       NaN  ...          NaN            NaN   \n",
      "\n",
      "  chlorides free sulfur dioxide total sulfur dioxide density  pH  sulphates  \\\n",
      "0       NaN                 NaN                  NaN     NaN NaN        NaN   \n",
      "1       NaN                 NaN                  NaN     NaN NaN        NaN   \n",
      "2       NaN                 NaN                  NaN     NaN NaN        NaN   \n",
      "3       NaN                 NaN                  NaN     NaN NaN        NaN   \n",
      "4       NaN                 NaN                  NaN     NaN NaN        NaN   \n",
      "\n",
      "   alcohol quality  \n",
      "0      NaN     NaN  \n",
      "1      NaN     NaN  \n",
      "2      NaN     NaN  \n",
      "3      NaN     NaN  \n",
      "4      NaN     NaN  \n",
      "\n",
      "[5 rows x 178 columns]\n"
     ]
    }
   ],
   "source": [
    "import pandas as pd\n",
    "\n",
    "csv_files = []\n",
    "for f in os.listdir(folder_path):\n",
    "    file_path = os.path.join(folder_path, f)\n",
    "    # Check if it is a file and ends with .csv\n",
    "    if os.path.isfile(file_path) and f.endswith('.csv'):\n",
    "        csv_files.append(file_path)\n",
    "\n",
    "# Read them safely\n",
    "dfs = []\n",
    "for file in csv_files:\n",
    "    try:\n",
    "        df = pd.read_csv(file)\n",
    "        dfs.append(df)\n",
    "    except Exception as e:\n",
    "        print(f\"Error reading {file}: {e}\")\n",
    "\n",
    "# Merge DataFrames\n",
    "if dfs:\n",
    "    merged_df = pd.concat(dfs, ignore_index=True)\n",
    "    print(merged_df.head())\n",
    "    merged_df.to_csv(os.path.join(folder_path, \"merged_accidental_deaths.csv\"), index=False)\n",
    "else:\n",
    "    print(\"No CSV files could be read.\")\n"
   ]
  },
  {
   "cell_type": "code",
   "execution_count": 12,
   "id": "aeeb875a-dc0f-4672-a8a6-194133ee9449",
   "metadata": {},
   "outputs": [
    {
     "name": "stdout",
     "output_type": "stream",
     "text": [
      "Shape of merged DataFrame: (987447, 178)\n"
     ]
    }
   ],
   "source": [
    "print(\"Shape of merged DataFrame:\", merged_df.shape)"
   ]
  },
  {
   "cell_type": "code",
   "execution_count": 14,
   "id": "a9755f0e-b575-4033-8171-a6995e7c9891",
   "metadata": {},
   "outputs": [
    {
     "name": "stdout",
     "output_type": "stream",
     "text": [
      "null values in  DataFrame: Month                                             787303\n",
      "Accidental deaths in USA: monthly, 1973 ? 1978    987303\n",
      "Time                                              986715\n",
      "Ads                                               987015\n",
      "Date                                              983277\n",
      "                                                   ...  \n",
      "density                                           982549\n",
      "pH                                                982549\n",
      "sulphates                                         982549\n",
      "alcohol                                           982549\n",
      "quality                                           982549\n",
      "Length: 178, dtype: int64\n"
     ]
    }
   ],
   "source": [
    "print(\"null values in  DataFrame:\", merged_df.isnull().sum())"
   ]
  },
  {
   "cell_type": "code",
   "execution_count": 15,
   "id": "f8966e96-31da-4f87-931e-83e485545fed",
   "metadata": {},
   "outputs": [
    {
     "name": "stdout",
     "output_type": "stream",
     "text": [
      "<class 'pandas.core.frame.DataFrame'>\n",
      "RangeIndex: 987447 entries, 0 to 987446\n",
      "Columns: 178 entries, Month to quality\n",
      "dtypes: float64(121), object(57)\n",
      "memory usage: 1.3+ GB\n"
     ]
    }
   ],
   "source": [
    "merged_df.info()"
   ]
  },
  {
   "cell_type": "code",
   "execution_count": 17,
   "id": "fbe1f8b7-d58c-4822-96f0-56f4c9ac648f",
   "metadata": {},
   "outputs": [
    {
     "data": {
      "text/plain": [
       "Month                                              object\n",
       "Accidental deaths in USA: monthly, 1973 ? 1978    float64\n",
       "Time                                               object\n",
       "Ads                                               float64\n",
       "Date                                               object\n",
       "                                                   ...   \n",
       "density                                           float64\n",
       "pH                                                float64\n",
       "sulphates                                         float64\n",
       "alcohol                                           float64\n",
       "quality                                           float64\n",
       "Length: 178, dtype: object"
      ]
     },
     "execution_count": 17,
     "metadata": {},
     "output_type": "execute_result"
    }
   ],
   "source": [
    "merged_df.dtypes"
   ]
  },
  {
   "cell_type": "code",
   "execution_count": 18,
   "id": "0cf4cdc5-58dd-4813-a412-e7a20eea007f",
   "metadata": {},
   "outputs": [
    {
     "name": "stderr",
     "output_type": "stream",
     "text": [
      "C:\\Users\\LENOVE\\AppData\\Local\\Temp\\ipykernel_2412\\3571181580.py:4: UserWarning: Could not infer format, so each element will be parsed individually, falling back to `dateutil`. To ensure parsing is consistent and as-expected, please specify a format.\n",
      "  merged_df['Date'] = pd.to_datetime(merged_df['Date'], errors='coerce')\n"
     ]
    },
    {
     "name": "stdout",
     "output_type": "stream",
     "text": [
      "0   NaT\n",
      "1   NaT\n",
      "2   NaT\n",
      "3   NaT\n",
      "4   NaT\n",
      "Name: Date, dtype: datetime64[ns]\n",
      "datetime64[ns]\n"
     ]
    }
   ],
   "source": [
    "import pandas as pd\n",
    "\n",
    "# Assuming your column is named 'Date'\n",
    "merged_df['Date'] = pd.to_datetime(merged_df['Date'], errors='coerce')\n",
    "\n",
    "# Check the result\n",
    "print(merged_df['Date'].head())\n",
    "print(merged_df['Date'].dtype)\n"
   ]
  },
  {
   "cell_type": "code",
   "execution_count": 19,
   "id": "f6aad847-170b-4b90-97be-9a2e004faaea",
   "metadata": {},
   "outputs": [
    {
     "name": "stdout",
     "output_type": "stream",
     "text": [
      "  Date  Month Month_name\n",
      "0  NaT    NaN        NaN\n",
      "1  NaT    NaN        NaN\n",
      "2  NaT    NaN        NaN\n",
      "3  NaT    NaN        NaN\n",
      "4  NaT    NaN        NaN\n"
     ]
    },
    {
     "name": "stderr",
     "output_type": "stream",
     "text": [
      "C:\\Users\\LENOVE\\AppData\\Local\\Temp\\ipykernel_2412\\71254335.py:4: PerformanceWarning: DataFrame is highly fragmented.  This is usually the result of calling `frame.insert` many times, which has poor performance.  Consider joining all columns at once using pd.concat(axis=1) instead. To get a de-fragmented frame, use `newframe = frame.copy()`\n",
      "  merged_df['Month_name'] = merged_df['Date'].dt.strftime('%B')\n"
     ]
    }
   ],
   "source": [
    "# Create a proper Month column from Date\n",
    "merged_df['Month'] = merged_df['Date'].dt.month\n",
    "# Optional: get month name\n",
    "merged_df['Month_name'] = merged_df['Date'].dt.strftime('%B')\n",
    "\n",
    "print(merged_df[['Date', 'Month', 'Month_name']].head())\n"
   ]
  },
  {
   "cell_type": "code",
   "execution_count": 20,
   "id": "26e51c4b-2901-4749-b844-3113e4f9b128",
   "metadata": {},
   "outputs": [
    {
     "name": "stdout",
     "output_type": "stream",
     "text": [
      "0   NaT\n",
      "1   NaT\n",
      "2   NaT\n",
      "3   NaT\n",
      "4   NaT\n",
      "Name: Time, dtype: datetime64[ns]\n"
     ]
    }
   ],
   "source": [
    "# Convert Time column (if it is like 'HH:MM:SS')\n",
    "merged_df['Time'] = pd.to_datetime(merged_df['Time'], format='%H:%M:%S', errors='coerce').dt.time\n",
    "\n",
    "print(merged_df['Time'].head())\n"
   ]
  },
  {
   "cell_type": "code",
   "execution_count": 21,
   "id": "625fdbfc-9e65-41da-878c-be7636039960",
   "metadata": {},
   "outputs": [
    {
     "data": {
      "text/plain": [
       "Month                                                    float64\n",
       "Accidental deaths in USA: monthly, 1973 ? 1978           float64\n",
       "Time                                              datetime64[ns]\n",
       "Ads                                                      float64\n",
       "Date                                              datetime64[ns]\n",
       "                                                       ...      \n",
       "pH                                                       float64\n",
       "sulphates                                                float64\n",
       "alcohol                                                  float64\n",
       "quality                                                  float64\n",
       "Month_name                                                object\n",
       "Length: 179, dtype: object"
      ]
     },
     "execution_count": 21,
     "metadata": {},
     "output_type": "execute_result"
    }
   ],
   "source": [
    "merged_df.dtypes"
   ]
  },
  {
   "cell_type": "code",
   "execution_count": 22,
   "id": "5e6d90cd-ca47-4e8d-9d6b-32179e0ab72a",
   "metadata": {},
   "outputs": [],
   "source": [
    "from sklearn.impute import SimpleImputer\n",
    "import pandas as pd\n"
   ]
  },
  {
   "cell_type": "code",
   "execution_count": 23,
   "id": "388dabf0-c175-4262-8052-80c908b4b98c",
   "metadata": {},
   "outputs": [],
   "source": [
    "# Numeric columns\n",
    "num_cols = merged_df.select_dtypes(include=['int64','float64']).columns\n",
    "\n",
    "# Categorical columns (object type)\n",
    "cat_cols = merged_df.select_dtypes(include=['object']).columns\n"
   ]
  },
  {
   "cell_type": "code",
   "execution_count": 24,
   "id": "1c0381e9-9d59-4873-b4f7-89b64880a6c9",
   "metadata": {},
   "outputs": [],
   "source": [
    "num_imputer = SimpleImputer(strategy='mean')\n",
    "merged_df[num_cols] = num_imputer.fit_transform(merged_df[num_cols])\n"
   ]
  },
  {
   "cell_type": "code",
   "execution_count": 25,
   "id": "ed1302ef-9998-4c0d-b71c-a92834d137d2",
   "metadata": {},
   "outputs": [],
   "source": [
    "cat_imputer = SimpleImputer(strategy='most_frequent')\n",
    "merged_df[cat_cols] = cat_imputer.fit_transform(merged_df[cat_cols])\n"
   ]
  },
  {
   "cell_type": "code",
   "execution_count": 26,
   "id": "8c93c692-39dc-4b0d-b8ee-23c88852d8e4",
   "metadata": {},
   "outputs": [
    {
     "name": "stdout",
     "output_type": "stream",
     "text": [
      "Month                                                  0\n",
      "Accidental deaths in USA: monthly, 1973 ? 1978         0\n",
      "Time                                              987447\n",
      "Ads                                                    0\n",
      "Date                                              983277\n",
      "                                                   ...  \n",
      "pH                                                     0\n",
      "sulphates                                              0\n",
      "alcohol                                                0\n",
      "quality                                                0\n",
      "Month_name                                             0\n",
      "Length: 179, dtype: int64\n"
     ]
    }
   ],
   "source": [
    "print(merged_df.isnull().sum())\n"
   ]
  },
  {
   "cell_type": "code",
   "execution_count": 27,
   "id": "4a8de686-6f53-4fe6-9b68-18656e67d1cb",
   "metadata": {},
   "outputs": [],
   "source": [
    "# Fill with the most frequent date\n",
    "most_freq_date = merged_df['Date'].mode()[0]\n",
    "merged_df['Date'] = merged_df['Date'].fillna(most_freq_date)\n",
    "\n",
    "# Or fill with a specific date\n",
    "# merged_df['Date'] = merged_df['Date'].fillna(pd.Timestamp('2000-01-01'))\n"
   ]
  },
  {
   "cell_type": "code",
   "execution_count": 30,
   "id": "9f4787c1-0c4e-4b28-befb-473c031db7fb",
   "metadata": {},
   "outputs": [
    {
     "name": "stdout",
     "output_type": "stream",
     "text": [
      "0   NaT\n",
      "1   NaT\n",
      "2   NaT\n",
      "3   NaT\n",
      "4   NaT\n",
      "Name: Time, dtype: datetime64[ns]\n"
     ]
    }
   ],
   "source": [
    "import pandas as pd\n",
    "\n",
    "# Convert Time to proper datetime, coerce invalid entries to NaT\n",
    "merged_df['Time'] = pd.to_datetime(merged_df['Time'], errors='coerce').dt.time\n",
    "\n",
    "# Check the first few values\n",
    "print(merged_df['Time'].head())\n"
   ]
  },
  {
   "cell_type": "code",
   "execution_count": 31,
   "id": "f21e74e2-350c-4b1d-9e92-b30569cb4951",
   "metadata": {},
   "outputs": [],
   "source": [
    "# Fill missing values with the most frequent valid time\n",
    "if merged_df['Time'].notnull().sum() > 0:   # make sure there are some valid times\n",
    "    most_freq_time = merged_df['Time'].mode()[0]\n",
    "    merged_df['Time'] = merged_df['Time'].fillna(most_freq_time)\n",
    "else:\n",
    "    # If all times are null, fill with default\n",
    "    merged_df['Time'] = pd.to_datetime('00:00:00').time()\n"
   ]
  },
  {
   "cell_type": "code",
   "execution_count": 32,
   "id": "0bdd8d74-9baf-4459-b122-f7b7e44d6825",
   "metadata": {},
   "outputs": [
    {
     "name": "stdout",
     "output_type": "stream",
     "text": [
      "0\n"
     ]
    }
   ],
   "source": [
    "print(merged_df['Time'].isnull().sum())\n"
   ]
  },
  {
   "cell_type": "code",
   "execution_count": 33,
   "id": "aafe7f6b-a07c-41b6-b202-11a902f1e119",
   "metadata": {},
   "outputs": [
    {
     "data": {
      "text/plain": [
       "Month                                             0\n",
       "Accidental deaths in USA: monthly, 1973 ? 1978    0\n",
       "Time                                              0\n",
       "Ads                                               0\n",
       "Date                                              0\n",
       "                                                 ..\n",
       "pH                                                0\n",
       "sulphates                                         0\n",
       "alcohol                                           0\n",
       "quality                                           0\n",
       "Month_name                                        0\n",
       "Length: 179, dtype: int64"
      ]
     },
     "execution_count": 33,
     "metadata": {},
     "output_type": "execute_result"
    }
   ],
   "source": [
    "merged_df.isnull().sum()"
   ]
  },
  {
   "cell_type": "code",
   "execution_count": null,
   "id": "b0724d30-33fd-4c52-bba5-26fe1a87737f",
   "metadata": {},
   "outputs": [],
   "source": [
    "import os\n",
    "import pandas as pd\n",
    "\n",
    "# Your folder path\n",
    "folder_path = r\"C:\\Users\\LENOVE\\Desktop\\Machine Learning\\Datasets\\accidental-deaths-in-usa-monthly\"\n",
    "\n",
    "# Make sure the folder exists (creates it if it doesn't)\n",
    "os.makedirs(folder_path, exist_ok=True)\n",
    "\n",
    "# File path for the cleaned merged CSV\n",
    "save_path = os.path.join(folder_path, \"cleaned_merged_file.csv\")\n",
    "\n",
    "# Save merged_df as cleaned CSV\n",
    "merged_df.to_csv(save_path, index=False)\n",
    "\n",
    "print(\"Cleaned merged file saved successfully at:\", save_path)\n"
   ]
  },
  {
   "cell_type": "code",
   "execution_count": 1,
   "id": "cf0d4e41-d135-4e7d-8e6c-8d9917ea3ebc",
   "metadata": {},
   "outputs": [],
   "source": [
    "import pandas as pd"
   ]
  },
  {
   "cell_type": "code",
   "execution_count": 4,
   "id": "19261b50-de68-4995-bf3e-1cb98e0f8cc2",
   "metadata": {},
   "outputs": [
    {
     "name": "stderr",
     "output_type": "stream",
     "text": [
      "C:\\Users\\LENOVE\\AppData\\Local\\Temp\\ipykernel_14296\\3574122428.py:1: DtypeWarning: Columns (12,21) have mixed types. Specify dtype option on import or set low_memory=False.\n",
      "  dataset = pd.read_csv(r\"C:/Users/LENOVE/Desktop/Machine Learning/Datasets/accidental-deaths-in-usa-monthly/cleaned_merged_file.csv\")\n"
     ]
    }
   ],
   "source": [
    "dataset = pd.read_csv(r\"C:/Users/LENOVE/Desktop/Machine Learning/Datasets/accidental-deaths-in-usa-monthly/cleaned_merged_file.csv\")"
   ]
  },
  {
   "cell_type": "code",
   "execution_count": 5,
   "id": "9015fa32-3ec4-4da3-82d0-a6c6f69b3067",
   "metadata": {},
   "outputs": [
    {
     "data": {
      "text/html": [
       "<div>\n",
       "<style scoped>\n",
       "    .dataframe tbody tr th:only-of-type {\n",
       "        vertical-align: middle;\n",
       "    }\n",
       "\n",
       "    .dataframe tbody tr th {\n",
       "        vertical-align: top;\n",
       "    }\n",
       "\n",
       "    .dataframe thead th {\n",
       "        text-align: right;\n",
       "    }\n",
       "</style>\n",
       "<table border=\"1\" class=\"dataframe\">\n",
       "  <thead>\n",
       "    <tr style=\"text-align: right;\">\n",
       "      <th></th>\n",
       "      <th>Month</th>\n",
       "      <th>Accidental deaths in USA: monthly, 1973 ? 1978</th>\n",
       "      <th>Time</th>\n",
       "      <th>Ads</th>\n",
       "      <th>Date</th>\n",
       "      <th>ads</th>\n",
       "      <th>age</th>\n",
       "      <th>workclass</th>\n",
       "      <th>fnlwgt</th>\n",
       "      <th>education</th>\n",
       "      <th>...</th>\n",
       "      <th>residual sugar</th>\n",
       "      <th>chlorides</th>\n",
       "      <th>free sulfur dioxide</th>\n",
       "      <th>total sulfur dioxide</th>\n",
       "      <th>density</th>\n",
       "      <th>pH</th>\n",
       "      <th>sulphates</th>\n",
       "      <th>alcohol</th>\n",
       "      <th>quality</th>\n",
       "      <th>Month_name</th>\n",
       "    </tr>\n",
       "  </thead>\n",
       "  <tbody>\n",
       "    <tr>\n",
       "      <th>0</th>\n",
       "      <td>8.98705</td>\n",
       "      <td>9007.0</td>\n",
       "      <td>00:00:00</td>\n",
       "      <td>121974.050926</td>\n",
       "      <td>2017-08-03 00:00:00</td>\n",
       "      <td>66313.917506</td>\n",
       "      <td>6775.10732</td>\n",
       "      <td>Private</td>\n",
       "      <td>189709.827083</td>\n",
       "      <td>HS-grad</td>\n",
       "      <td>...</td>\n",
       "      <td>6.391415</td>\n",
       "      <td>0.045772</td>\n",
       "      <td>35.308085</td>\n",
       "      <td>138.360657</td>\n",
       "      <td>0.994027</td>\n",
       "      <td>3.188267</td>\n",
       "      <td>0.489847</td>\n",
       "      <td>10.514267</td>\n",
       "      <td>5.877909</td>\n",
       "      <td>September</td>\n",
       "    </tr>\n",
       "    <tr>\n",
       "      <th>1</th>\n",
       "      <td>8.98705</td>\n",
       "      <td>8106.0</td>\n",
       "      <td>00:00:00</td>\n",
       "      <td>121974.050926</td>\n",
       "      <td>2017-08-03 00:00:00</td>\n",
       "      <td>66313.917506</td>\n",
       "      <td>6775.10732</td>\n",
       "      <td>Private</td>\n",
       "      <td>189709.827083</td>\n",
       "      <td>HS-grad</td>\n",
       "      <td>...</td>\n",
       "      <td>6.391415</td>\n",
       "      <td>0.045772</td>\n",
       "      <td>35.308085</td>\n",
       "      <td>138.360657</td>\n",
       "      <td>0.994027</td>\n",
       "      <td>3.188267</td>\n",
       "      <td>0.489847</td>\n",
       "      <td>10.514267</td>\n",
       "      <td>5.877909</td>\n",
       "      <td>September</td>\n",
       "    </tr>\n",
       "    <tr>\n",
       "      <th>2</th>\n",
       "      <td>8.98705</td>\n",
       "      <td>8928.0</td>\n",
       "      <td>00:00:00</td>\n",
       "      <td>121974.050926</td>\n",
       "      <td>2017-08-03 00:00:00</td>\n",
       "      <td>66313.917506</td>\n",
       "      <td>6775.10732</td>\n",
       "      <td>Private</td>\n",
       "      <td>189709.827083</td>\n",
       "      <td>HS-grad</td>\n",
       "      <td>...</td>\n",
       "      <td>6.391415</td>\n",
       "      <td>0.045772</td>\n",
       "      <td>35.308085</td>\n",
       "      <td>138.360657</td>\n",
       "      <td>0.994027</td>\n",
       "      <td>3.188267</td>\n",
       "      <td>0.489847</td>\n",
       "      <td>10.514267</td>\n",
       "      <td>5.877909</td>\n",
       "      <td>September</td>\n",
       "    </tr>\n",
       "    <tr>\n",
       "      <th>3</th>\n",
       "      <td>8.98705</td>\n",
       "      <td>9137.0</td>\n",
       "      <td>00:00:00</td>\n",
       "      <td>121974.050926</td>\n",
       "      <td>2017-08-03 00:00:00</td>\n",
       "      <td>66313.917506</td>\n",
       "      <td>6775.10732</td>\n",
       "      <td>Private</td>\n",
       "      <td>189709.827083</td>\n",
       "      <td>HS-grad</td>\n",
       "      <td>...</td>\n",
       "      <td>6.391415</td>\n",
       "      <td>0.045772</td>\n",
       "      <td>35.308085</td>\n",
       "      <td>138.360657</td>\n",
       "      <td>0.994027</td>\n",
       "      <td>3.188267</td>\n",
       "      <td>0.489847</td>\n",
       "      <td>10.514267</td>\n",
       "      <td>5.877909</td>\n",
       "      <td>September</td>\n",
       "    </tr>\n",
       "    <tr>\n",
       "      <th>4</th>\n",
       "      <td>8.98705</td>\n",
       "      <td>10017.0</td>\n",
       "      <td>00:00:00</td>\n",
       "      <td>121974.050926</td>\n",
       "      <td>2017-08-03 00:00:00</td>\n",
       "      <td>66313.917506</td>\n",
       "      <td>6775.10732</td>\n",
       "      <td>Private</td>\n",
       "      <td>189709.827083</td>\n",
       "      <td>HS-grad</td>\n",
       "      <td>...</td>\n",
       "      <td>6.391415</td>\n",
       "      <td>0.045772</td>\n",
       "      <td>35.308085</td>\n",
       "      <td>138.360657</td>\n",
       "      <td>0.994027</td>\n",
       "      <td>3.188267</td>\n",
       "      <td>0.489847</td>\n",
       "      <td>10.514267</td>\n",
       "      <td>5.877909</td>\n",
       "      <td>September</td>\n",
       "    </tr>\n",
       "  </tbody>\n",
       "</table>\n",
       "<p>5 rows × 179 columns</p>\n",
       "</div>"
      ],
      "text/plain": [
       "     Month  Accidental deaths in USA: monthly, 1973 ? 1978      Time  \\\n",
       "0  8.98705                                          9007.0  00:00:00   \n",
       "1  8.98705                                          8106.0  00:00:00   \n",
       "2  8.98705                                          8928.0  00:00:00   \n",
       "3  8.98705                                          9137.0  00:00:00   \n",
       "4  8.98705                                         10017.0  00:00:00   \n",
       "\n",
       "             Ads                 Date           ads         age workclass  \\\n",
       "0  121974.050926  2017-08-03 00:00:00  66313.917506  6775.10732   Private   \n",
       "1  121974.050926  2017-08-03 00:00:00  66313.917506  6775.10732   Private   \n",
       "2  121974.050926  2017-08-03 00:00:00  66313.917506  6775.10732   Private   \n",
       "3  121974.050926  2017-08-03 00:00:00  66313.917506  6775.10732   Private   \n",
       "4  121974.050926  2017-08-03 00:00:00  66313.917506  6775.10732   Private   \n",
       "\n",
       "          fnlwgt education  ...  residual sugar chlorides free sulfur dioxide  \\\n",
       "0  189709.827083   HS-grad  ...        6.391415  0.045772           35.308085   \n",
       "1  189709.827083   HS-grad  ...        6.391415  0.045772           35.308085   \n",
       "2  189709.827083   HS-grad  ...        6.391415  0.045772           35.308085   \n",
       "3  189709.827083   HS-grad  ...        6.391415  0.045772           35.308085   \n",
       "4  189709.827083   HS-grad  ...        6.391415  0.045772           35.308085   \n",
       "\n",
       "  total sulfur dioxide   density        pH  sulphates    alcohol   quality  \\\n",
       "0           138.360657  0.994027  3.188267   0.489847  10.514267  5.877909   \n",
       "1           138.360657  0.994027  3.188267   0.489847  10.514267  5.877909   \n",
       "2           138.360657  0.994027  3.188267   0.489847  10.514267  5.877909   \n",
       "3           138.360657  0.994027  3.188267   0.489847  10.514267  5.877909   \n",
       "4           138.360657  0.994027  3.188267   0.489847  10.514267  5.877909   \n",
       "\n",
       "  Month_name  \n",
       "0  September  \n",
       "1  September  \n",
       "2  September  \n",
       "3  September  \n",
       "4  September  \n",
       "\n",
       "[5 rows x 179 columns]"
      ]
     },
     "execution_count": 5,
     "metadata": {},
     "output_type": "execute_result"
    }
   ],
   "source": [
    "dataset.head()"
   ]
  },
  {
   "cell_type": "code",
   "execution_count": 7,
   "id": "bfa57bc1-87d2-4fad-9912-526ebbf945a9",
   "metadata": {},
   "outputs": [
    {
     "data": {
      "text/plain": [
       "(723726, 179)"
      ]
     },
     "execution_count": 7,
     "metadata": {},
     "output_type": "execute_result"
    }
   ],
   "source": [
    "dataset.shape"
   ]
  },
  {
   "cell_type": "code",
   "execution_count": null,
   "id": "d37feeb4-7366-445a-b682-4f9969f41117",
   "metadata": {},
   "outputs": [],
   "source": [
    "dataset.drop_duplicates().sum()"
   ]
  },
  {
   "cell_type": "code",
   "execution_count": 10,
   "id": "ef75481d-2c9c-489f-9339-8578760ab8f8",
   "metadata": {},
   "outputs": [
    {
     "data": {
      "text/plain": [
       "(723726, 179)"
      ]
     },
     "execution_count": 10,
     "metadata": {},
     "output_type": "execute_result"
    }
   ],
   "source": [
    "dataset.shape"
   ]
  },
  {
   "cell_type": "code",
   "execution_count": null,
   "id": "55c0ec6b-e73c-4237-be35-1a2b72c8df31",
   "metadata": {},
   "outputs": [],
   "source": []
  }
 ],
 "metadata": {
  "kernelspec": {
   "display_name": "Python 3 (ipykernel)",
   "language": "python",
   "name": "python3"
  },
  "language_info": {
   "codemirror_mode": {
    "name": "ipython",
    "version": 3
   },
   "file_extension": ".py",
   "mimetype": "text/x-python",
   "name": "python",
   "nbconvert_exporter": "python",
   "pygments_lexer": "ipython3",
   "version": "3.12.3"
  }
 },
 "nbformat": 4,
 "nbformat_minor": 5
}

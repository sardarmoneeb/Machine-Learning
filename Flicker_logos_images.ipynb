{
  "nbformat": 4,
  "nbformat_minor": 0,
  "metadata": {
    "colab": {
      "provenance": [],
      "authorship_tag": "ABX9TyMJnGmKBq5aLS08AMmBXrFe",
      "include_colab_link": true
    },
    "kernelspec": {
      "name": "python3",
      "display_name": "Python 3"
    },
    "language_info": {
      "name": "python"
    }
  },
  "cells": [
    {
      "cell_type": "markdown",
      "metadata": {
        "id": "view-in-github",
        "colab_type": "text"
      },
      "source": [
        "<a href=\"https://colab.research.google.com/github/sardarmoneeb/Machine-Learning/blob/main/Flicker_logos_images.ipynb\" target=\"_parent\"><img src=\"https://colab.research.google.com/assets/colab-badge.svg\" alt=\"Open In Colab\"/></a>"
      ]
    },
    {
      "cell_type": "code",
      "source": [
        "# {\"username\":\"moneebkhan\",\"key\":\"d2aa33b1df78e7cf6a74321bfd7d9248\"}"
      ],
      "metadata": {
        "id": "K52UtL2ofqyH"
      },
      "execution_count": null,
      "outputs": []
    },
    {
      "cell_type": "code",
      "source": [
        "from google.colab import drive\n",
        "drive.mount('/content/drive')\n"
      ],
      "metadata": {
        "colab": {
          "base_uri": "https://localhost:8080/"
        },
        "id": "uRu7VwPnTN-s",
        "outputId": "be7ce1a5-0682-4720-d362-22f832adc446"
      },
      "execution_count": 2,
      "outputs": [
        {
          "output_type": "stream",
          "name": "stdout",
          "text": [
            "Mounted at /content/drive\n"
          ]
        }
      ]
    },
    {
      "cell_type": "code",
      "execution_count": 1,
      "metadata": {
        "colab": {
          "base_uri": "https://localhost:8080/"
        },
        "id": "6Wrj8s5HSD2j",
        "outputId": "4460d312-8908-4908-8086-d419fcae81b3"
      },
      "outputs": [
        {
          "output_type": "stream",
          "name": "stdout",
          "text": [
            "Collecting opendatasets\n",
            "  Downloading opendatasets-0.1.22-py3-none-any.whl.metadata (9.2 kB)\n",
            "Requirement already satisfied: tqdm in /usr/local/lib/python3.12/dist-packages (from opendatasets) (4.67.1)\n",
            "Requirement already satisfied: kaggle in /usr/local/lib/python3.12/dist-packages (from opendatasets) (1.7.4.5)\n",
            "Requirement already satisfied: click in /usr/local/lib/python3.12/dist-packages (from opendatasets) (8.3.0)\n",
            "Requirement already satisfied: bleach in /usr/local/lib/python3.12/dist-packages (from kaggle->opendatasets) (6.2.0)\n",
            "Requirement already satisfied: certifi>=14.05.14 in /usr/local/lib/python3.12/dist-packages (from kaggle->opendatasets) (2025.10.5)\n",
            "Requirement already satisfied: charset-normalizer in /usr/local/lib/python3.12/dist-packages (from kaggle->opendatasets) (3.4.4)\n",
            "Requirement already satisfied: idna in /usr/local/lib/python3.12/dist-packages (from kaggle->opendatasets) (3.11)\n",
            "Requirement already satisfied: protobuf in /usr/local/lib/python3.12/dist-packages (from kaggle->opendatasets) (5.29.5)\n",
            "Requirement already satisfied: python-dateutil>=2.5.3 in /usr/local/lib/python3.12/dist-packages (from kaggle->opendatasets) (2.9.0.post0)\n",
            "Requirement already satisfied: python-slugify in /usr/local/lib/python3.12/dist-packages (from kaggle->opendatasets) (8.0.4)\n",
            "Requirement already satisfied: requests in /usr/local/lib/python3.12/dist-packages (from kaggle->opendatasets) (2.32.4)\n",
            "Requirement already satisfied: setuptools>=21.0.0 in /usr/local/lib/python3.12/dist-packages (from kaggle->opendatasets) (75.2.0)\n",
            "Requirement already satisfied: six>=1.10 in /usr/local/lib/python3.12/dist-packages (from kaggle->opendatasets) (1.17.0)\n",
            "Requirement already satisfied: text-unidecode in /usr/local/lib/python3.12/dist-packages (from kaggle->opendatasets) (1.3)\n",
            "Requirement already satisfied: urllib3>=1.15.1 in /usr/local/lib/python3.12/dist-packages (from kaggle->opendatasets) (2.5.0)\n",
            "Requirement already satisfied: webencodings in /usr/local/lib/python3.12/dist-packages (from kaggle->opendatasets) (0.5.1)\n",
            "Downloading opendatasets-0.1.22-py3-none-any.whl (15 kB)\n",
            "Installing collected packages: opendatasets\n",
            "Successfully installed opendatasets-0.1.22\n"
          ]
        }
      ],
      "source": [
        "!pip install opendatasets"
      ]
    },
    {
      "cell_type": "code",
      "source": [
        "import opendatasets as od\n",
        "\n",
        "dataset_url = 'https://www.kaggle.com/datasets/samikshakolhe/flicker-47-logo-images-dataset'\n",
        "target_path = '/content/drive/MyDrive/flicker_dataset'  # change if chaho\n",
        "\n",
        "od.download(dataset_url, data_dir=target_path)\n"
      ],
      "metadata": {
        "colab": {
          "base_uri": "https://localhost:8080/"
        },
        "id": "Ro4f7MuTSH5u",
        "outputId": "c14b13df-9b19-441f-b153-b55038b031db"
      },
      "execution_count": 3,
      "outputs": [
        {
          "output_type": "stream",
          "name": "stdout",
          "text": [
            "Please provide your Kaggle credentials to download this dataset. Learn more: http://bit.ly/kaggle-creds\n",
            "Your Kaggle username: moneebkhan\n",
            "Your Kaggle Key: ··········\n",
            "Dataset URL: https://www.kaggle.com/datasets/samikshakolhe/flicker-47-logo-images-dataset\n",
            "Downloading flicker-47-logo-images-dataset.zip to /content/drive/MyDrive/flicker_dataset/flicker-47-logo-images-dataset\n"
          ]
        },
        {
          "output_type": "stream",
          "name": "stderr",
          "text": [
            "100%|██████████| 5.50G/5.50G [01:00<00:00, 98.4MB/s]\n"
          ]
        },
        {
          "output_type": "stream",
          "name": "stdout",
          "text": [
            "\n"
          ]
        }
      ]
    },
    {
      "cell_type": "code",
      "source": [
        "train_dir = '/content/drive/MyDrive/flicker_dataset/flicker-47-logo-images-dataset/FlickrLogos_47/train'\n",
        "test_dir  = '/content/drive/MyDrive/flicker_dataset/flicker-47-logo-images-dataset/FlickrLogos_47/test'\n"
      ],
      "metadata": {
        "id": "rbnofoUNTcbu"
      },
      "execution_count": 4,
      "outputs": []
    },
    {
      "cell_type": "code",
      "source": [
        "import tensorflow as tf\n",
        "import matplotlib.pyplot as plt\n",
        "\n",
        "img_height, img_width = 224, 224\n",
        "batch_size = 32\n"
      ],
      "metadata": {
        "id": "MXy73-YbVhmo"
      },
      "execution_count": 5,
      "outputs": []
    },
    {
      "cell_type": "code",
      "source": [
        "import os\n",
        "\n",
        "train_dir = '/content/drive/MyDrive/flicker_dataset/flicker-47-logo-images-dataset/FlickrLogos_47/train'\n",
        "test_dir  = '/content/drive/MyDrive/flicker_dataset/flicker-47-logo-images-dataset/FlickrLogos_47/test'\n",
        "\n",
        "print(\"Train folders:\", os.listdir(train_dir))\n",
        "print(\"Test folders:\", os.listdir(test_dir))\n"
      ],
      "metadata": {
        "colab": {
          "base_uri": "https://localhost:8080/"
        },
        "id": "kBRKosCMVsYC",
        "outputId": "7ea5a0f4-8e8d-4289-ad30-1bd94536a74b"
      },
      "execution_count": 7,
      "outputs": [
        {
          "output_type": "stream",
          "name": "stdout",
          "text": [
            "Train folders: ['000000', '000001', '000002', 'filelist-logosonly.txt', 'filelist.txt', 'no-logo']\n",
            "Test folders: ['000000', '000001', '000002', 'filelist.txt']\n"
          ]
        }
      ]
    },
    {
      "cell_type": "code",
      "source": [
        "import os\n",
        "\n",
        "train_dir = '/content/drive/MyDrive/flicker_dataset/flicker-47-logo-images-dataset/FlickrLogos_47/train'\n",
        "test_dir  = '/content/drive/MyDrive/flicker_dataset/flicker-47-logo-images-dataset/FlickrLogos_47/test'\n",
        "\n",
        "# remove txt files accidentally detected as folders\n",
        "for path in [train_dir, test_dir]:\n",
        "    for item in os.listdir(path):\n",
        "        if item.endswith('.txt'):\n",
        "            file_path = os.path.join(path, item)\n",
        "            os.remove(file_path)\n",
        "            print(f\"Removed: {file_path}\")\n"
      ],
      "metadata": {
        "colab": {
          "base_uri": "https://localhost:8080/"
        },
        "id": "wodFKDdtWBuV",
        "outputId": "de384396-1ac8-423c-d7cc-05be5c9de1c1"
      },
      "execution_count": 8,
      "outputs": [
        {
          "output_type": "stream",
          "name": "stdout",
          "text": [
            "Removed: /content/drive/MyDrive/flicker_dataset/flicker-47-logo-images-dataset/FlickrLogos_47/train/filelist-logosonly.txt\n",
            "Removed: /content/drive/MyDrive/flicker_dataset/flicker-47-logo-images-dataset/FlickrLogos_47/train/filelist.txt\n",
            "Removed: /content/drive/MyDrive/flicker_dataset/flicker-47-logo-images-dataset/FlickrLogos_47/test/filelist.txt\n"
          ]
        }
      ]
    },
    {
      "cell_type": "code",
      "source": [
        "import shutil, random\n",
        "\n",
        "src = os.path.join(train_dir, 'no-logo')\n",
        "dst = os.path.join(test_dir, 'no-logo')\n",
        "os.makedirs(dst, exist_ok=True)\n",
        "\n",
        "# Copy 20 random images\n",
        "images = [img for img in os.listdir(src) if img.lower().endswith(('.jpg', '.png', '.jpeg'))]\n",
        "for img in random.sample(images, 20):\n",
        "    shutil.copy(os.path.join(src, img), os.path.join(dst, img))\n",
        "\n",
        "print(\"✅ Copied 20 random 'no-logo' images to test folder.\")\n"
      ],
      "metadata": {
        "colab": {
          "base_uri": "https://localhost:8080/"
        },
        "id": "EKiY-8siWL6g",
        "outputId": "11009920-fdeb-42ca-ec5d-35770e527f00"
      },
      "execution_count": 9,
      "outputs": [
        {
          "output_type": "stream",
          "name": "stdout",
          "text": [
            "✅ Copied 20 random 'no-logo' images to test folder.\n"
          ]
        }
      ]
    },
    {
      "cell_type": "code",
      "source": [
        "print(\"Train folders:\", os.listdir(train_dir))\n",
        "print(\"Test folders:\", os.listdir(test_dir))\n"
      ],
      "metadata": {
        "colab": {
          "base_uri": "https://localhost:8080/"
        },
        "id": "5TqlOJ7JWQEJ",
        "outputId": "1a7ba871-30b4-4750-e904-f44891d4b74e"
      },
      "execution_count": 10,
      "outputs": [
        {
          "output_type": "stream",
          "name": "stdout",
          "text": [
            "Train folders: ['000000', '000001', '000002', 'no-logo']\n",
            "Test folders: ['000000', '000001', '000002', 'no-logo']\n"
          ]
        }
      ]
    },
    {
      "cell_type": "code",
      "source": [
        "train_ds = tf.keras.preprocessing.image_dataset_from_directory(\n",
        "    train_dir, image_size=(224, 224), batch_size=32\n",
        ")\n",
        "test_ds = tf.keras.preprocessing.image_dataset_from_directory(\n",
        "    test_dir, image_size=(224, 224), batch_size=32\n",
        ")\n",
        "print(\"✅ Classes found:\", train_ds.class_names)\n"
      ],
      "metadata": {
        "colab": {
          "base_uri": "https://localhost:8080/"
        },
        "id": "Ct0BGUm0WTCp",
        "outputId": "25782e7c-89f7-4ece-a3bc-c77c78b5cbeb"
      },
      "execution_count": 11,
      "outputs": [
        {
          "output_type": "stream",
          "name": "stdout",
          "text": [
            "Found 5769 files belonging to 4 classes.\n",
            "Found 5473 files belonging to 4 classes.\n",
            "✅ Classes found: ['000000', '000001', '000002', 'no-logo']\n"
          ]
        }
      ]
    },
    {
      "cell_type": "code",
      "source": [
        "AUTOTUNE = tf.data.AUTOTUNE\n",
        "\n",
        "train_ds = train_ds.cache().shuffle(1000).prefetch(buffer_size=AUTOTUNE)\n",
        "test_ds  = test_ds.cache().prefetch(buffer_size=AUTOTUNE)\n"
      ],
      "metadata": {
        "id": "ptUB5jGpWWET"
      },
      "execution_count": 12,
      "outputs": []
    },
    {
      "cell_type": "code",
      "source": [
        "model = tf.keras.Sequential([\n",
        "    tf.keras.layers.Rescaling(1./255, input_shape=(224, 224, 3)),\n",
        "\n",
        "    tf.keras.layers.Conv2D(32, 3, activation='relu'),\n",
        "    tf.keras.layers.MaxPooling2D(),\n",
        "\n",
        "    tf.keras.layers.Conv2D(64, 3, activation='relu'),\n",
        "    tf.keras.layers.MaxPooling2D(),\n",
        "\n",
        "    tf.keras.layers.Conv2D(128, 3, activation='relu'),\n",
        "    tf.keras.layers.MaxPooling2D(),\n",
        "\n",
        "    tf.keras.layers.Flatten(),\n",
        "    tf.keras.layers.Dense(128, activation='relu'),\n",
        "\n",
        "    # 🔹 Dropout layer added to prevent overfitting\n",
        "    tf.keras.layers.Dropout(0.5),\n",
        "\n",
        "    # Output layer for 4 classes\n",
        "    tf.keras.layers.Dense(4, activation='softmax')\n",
        "])\n",
        "\n",
        "# Compile the model\n",
        "model.compile(\n",
        "    optimizer='adam',\n",
        "    loss='sparse_categorical_crossentropy',\n",
        "    metrics=['accuracy']\n",
        ")\n",
        "\n",
        "# Summary to verify structure\n",
        "model.summary()\n"
      ],
      "metadata": {
        "colab": {
          "base_uri": "https://localhost:8080/",
          "height": 481
        },
        "id": "IYbjPayhWeK7",
        "outputId": "aaceab67-4d03-4556-885e-9f5a29558398"
      },
      "execution_count": 15,
      "outputs": [
        {
          "output_type": "display_data",
          "data": {
            "text/plain": [
              "\u001b[1mModel: \"sequential_1\"\u001b[0m\n"
            ],
            "text/html": [
              "<pre style=\"white-space:pre;overflow-x:auto;line-height:normal;font-family:Menlo,'DejaVu Sans Mono',consolas,'Courier New',monospace\"><span style=\"font-weight: bold\">Model: \"sequential_1\"</span>\n",
              "</pre>\n"
            ]
          },
          "metadata": {}
        },
        {
          "output_type": "display_data",
          "data": {
            "text/plain": [
              "┏━━━━━━━━━━━━━━━━━━━━━━━━━━━━━━━━━┳━━━━━━━━━━━━━━━━━━━━━━━━┳━━━━━━━━━━━━━━━┓\n",
              "┃\u001b[1m \u001b[0m\u001b[1mLayer (type)                   \u001b[0m\u001b[1m \u001b[0m┃\u001b[1m \u001b[0m\u001b[1mOutput Shape          \u001b[0m\u001b[1m \u001b[0m┃\u001b[1m \u001b[0m\u001b[1m      Param #\u001b[0m\u001b[1m \u001b[0m┃\n",
              "┡━━━━━━━━━━━━━━━━━━━━━━━━━━━━━━━━━╇━━━━━━━━━━━━━━━━━━━━━━━━╇━━━━━━━━━━━━━━━┩\n",
              "│ rescaling_1 (\u001b[38;5;33mRescaling\u001b[0m)         │ (\u001b[38;5;45mNone\u001b[0m, \u001b[38;5;34m224\u001b[0m, \u001b[38;5;34m224\u001b[0m, \u001b[38;5;34m3\u001b[0m)    │             \u001b[38;5;34m0\u001b[0m │\n",
              "├─────────────────────────────────┼────────────────────────┼───────────────┤\n",
              "│ conv2d_3 (\u001b[38;5;33mConv2D\u001b[0m)               │ (\u001b[38;5;45mNone\u001b[0m, \u001b[38;5;34m222\u001b[0m, \u001b[38;5;34m222\u001b[0m, \u001b[38;5;34m32\u001b[0m)   │           \u001b[38;5;34m896\u001b[0m │\n",
              "├─────────────────────────────────┼────────────────────────┼───────────────┤\n",
              "│ max_pooling2d_3 (\u001b[38;5;33mMaxPooling2D\u001b[0m)  │ (\u001b[38;5;45mNone\u001b[0m, \u001b[38;5;34m111\u001b[0m, \u001b[38;5;34m111\u001b[0m, \u001b[38;5;34m32\u001b[0m)   │             \u001b[38;5;34m0\u001b[0m │\n",
              "├─────────────────────────────────┼────────────────────────┼───────────────┤\n",
              "│ conv2d_4 (\u001b[38;5;33mConv2D\u001b[0m)               │ (\u001b[38;5;45mNone\u001b[0m, \u001b[38;5;34m109\u001b[0m, \u001b[38;5;34m109\u001b[0m, \u001b[38;5;34m64\u001b[0m)   │        \u001b[38;5;34m18,496\u001b[0m │\n",
              "├─────────────────────────────────┼────────────────────────┼───────────────┤\n",
              "│ max_pooling2d_4 (\u001b[38;5;33mMaxPooling2D\u001b[0m)  │ (\u001b[38;5;45mNone\u001b[0m, \u001b[38;5;34m54\u001b[0m, \u001b[38;5;34m54\u001b[0m, \u001b[38;5;34m64\u001b[0m)     │             \u001b[38;5;34m0\u001b[0m │\n",
              "├─────────────────────────────────┼────────────────────────┼───────────────┤\n",
              "│ conv2d_5 (\u001b[38;5;33mConv2D\u001b[0m)               │ (\u001b[38;5;45mNone\u001b[0m, \u001b[38;5;34m52\u001b[0m, \u001b[38;5;34m52\u001b[0m, \u001b[38;5;34m128\u001b[0m)    │        \u001b[38;5;34m73,856\u001b[0m │\n",
              "├─────────────────────────────────┼────────────────────────┼───────────────┤\n",
              "│ max_pooling2d_5 (\u001b[38;5;33mMaxPooling2D\u001b[0m)  │ (\u001b[38;5;45mNone\u001b[0m, \u001b[38;5;34m26\u001b[0m, \u001b[38;5;34m26\u001b[0m, \u001b[38;5;34m128\u001b[0m)    │             \u001b[38;5;34m0\u001b[0m │\n",
              "├─────────────────────────────────┼────────────────────────┼───────────────┤\n",
              "│ flatten_1 (\u001b[38;5;33mFlatten\u001b[0m)             │ (\u001b[38;5;45mNone\u001b[0m, \u001b[38;5;34m86528\u001b[0m)          │             \u001b[38;5;34m0\u001b[0m │\n",
              "├─────────────────────────────────┼────────────────────────┼───────────────┤\n",
              "│ dense_2 (\u001b[38;5;33mDense\u001b[0m)                 │ (\u001b[38;5;45mNone\u001b[0m, \u001b[38;5;34m128\u001b[0m)            │    \u001b[38;5;34m11,075,712\u001b[0m │\n",
              "├─────────────────────────────────┼────────────────────────┼───────────────┤\n",
              "│ dropout (\u001b[38;5;33mDropout\u001b[0m)               │ (\u001b[38;5;45mNone\u001b[0m, \u001b[38;5;34m128\u001b[0m)            │             \u001b[38;5;34m0\u001b[0m │\n",
              "├─────────────────────────────────┼────────────────────────┼───────────────┤\n",
              "│ dense_3 (\u001b[38;5;33mDense\u001b[0m)                 │ (\u001b[38;5;45mNone\u001b[0m, \u001b[38;5;34m4\u001b[0m)              │           \u001b[38;5;34m516\u001b[0m │\n",
              "└─────────────────────────────────┴────────────────────────┴───────────────┘\n"
            ],
            "text/html": [
              "<pre style=\"white-space:pre;overflow-x:auto;line-height:normal;font-family:Menlo,'DejaVu Sans Mono',consolas,'Courier New',monospace\">┏━━━━━━━━━━━━━━━━━━━━━━━━━━━━━━━━━┳━━━━━━━━━━━━━━━━━━━━━━━━┳━━━━━━━━━━━━━━━┓\n",
              "┃<span style=\"font-weight: bold\"> Layer (type)                    </span>┃<span style=\"font-weight: bold\"> Output Shape           </span>┃<span style=\"font-weight: bold\">       Param # </span>┃\n",
              "┡━━━━━━━━━━━━━━━━━━━━━━━━━━━━━━━━━╇━━━━━━━━━━━━━━━━━━━━━━━━╇━━━━━━━━━━━━━━━┩\n",
              "│ rescaling_1 (<span style=\"color: #0087ff; text-decoration-color: #0087ff\">Rescaling</span>)         │ (<span style=\"color: #00d7ff; text-decoration-color: #00d7ff\">None</span>, <span style=\"color: #00af00; text-decoration-color: #00af00\">224</span>, <span style=\"color: #00af00; text-decoration-color: #00af00\">224</span>, <span style=\"color: #00af00; text-decoration-color: #00af00\">3</span>)    │             <span style=\"color: #00af00; text-decoration-color: #00af00\">0</span> │\n",
              "├─────────────────────────────────┼────────────────────────┼───────────────┤\n",
              "│ conv2d_3 (<span style=\"color: #0087ff; text-decoration-color: #0087ff\">Conv2D</span>)               │ (<span style=\"color: #00d7ff; text-decoration-color: #00d7ff\">None</span>, <span style=\"color: #00af00; text-decoration-color: #00af00\">222</span>, <span style=\"color: #00af00; text-decoration-color: #00af00\">222</span>, <span style=\"color: #00af00; text-decoration-color: #00af00\">32</span>)   │           <span style=\"color: #00af00; text-decoration-color: #00af00\">896</span> │\n",
              "├─────────────────────────────────┼────────────────────────┼───────────────┤\n",
              "│ max_pooling2d_3 (<span style=\"color: #0087ff; text-decoration-color: #0087ff\">MaxPooling2D</span>)  │ (<span style=\"color: #00d7ff; text-decoration-color: #00d7ff\">None</span>, <span style=\"color: #00af00; text-decoration-color: #00af00\">111</span>, <span style=\"color: #00af00; text-decoration-color: #00af00\">111</span>, <span style=\"color: #00af00; text-decoration-color: #00af00\">32</span>)   │             <span style=\"color: #00af00; text-decoration-color: #00af00\">0</span> │\n",
              "├─────────────────────────────────┼────────────────────────┼───────────────┤\n",
              "│ conv2d_4 (<span style=\"color: #0087ff; text-decoration-color: #0087ff\">Conv2D</span>)               │ (<span style=\"color: #00d7ff; text-decoration-color: #00d7ff\">None</span>, <span style=\"color: #00af00; text-decoration-color: #00af00\">109</span>, <span style=\"color: #00af00; text-decoration-color: #00af00\">109</span>, <span style=\"color: #00af00; text-decoration-color: #00af00\">64</span>)   │        <span style=\"color: #00af00; text-decoration-color: #00af00\">18,496</span> │\n",
              "├─────────────────────────────────┼────────────────────────┼───────────────┤\n",
              "│ max_pooling2d_4 (<span style=\"color: #0087ff; text-decoration-color: #0087ff\">MaxPooling2D</span>)  │ (<span style=\"color: #00d7ff; text-decoration-color: #00d7ff\">None</span>, <span style=\"color: #00af00; text-decoration-color: #00af00\">54</span>, <span style=\"color: #00af00; text-decoration-color: #00af00\">54</span>, <span style=\"color: #00af00; text-decoration-color: #00af00\">64</span>)     │             <span style=\"color: #00af00; text-decoration-color: #00af00\">0</span> │\n",
              "├─────────────────────────────────┼────────────────────────┼───────────────┤\n",
              "│ conv2d_5 (<span style=\"color: #0087ff; text-decoration-color: #0087ff\">Conv2D</span>)               │ (<span style=\"color: #00d7ff; text-decoration-color: #00d7ff\">None</span>, <span style=\"color: #00af00; text-decoration-color: #00af00\">52</span>, <span style=\"color: #00af00; text-decoration-color: #00af00\">52</span>, <span style=\"color: #00af00; text-decoration-color: #00af00\">128</span>)    │        <span style=\"color: #00af00; text-decoration-color: #00af00\">73,856</span> │\n",
              "├─────────────────────────────────┼────────────────────────┼───────────────┤\n",
              "│ max_pooling2d_5 (<span style=\"color: #0087ff; text-decoration-color: #0087ff\">MaxPooling2D</span>)  │ (<span style=\"color: #00d7ff; text-decoration-color: #00d7ff\">None</span>, <span style=\"color: #00af00; text-decoration-color: #00af00\">26</span>, <span style=\"color: #00af00; text-decoration-color: #00af00\">26</span>, <span style=\"color: #00af00; text-decoration-color: #00af00\">128</span>)    │             <span style=\"color: #00af00; text-decoration-color: #00af00\">0</span> │\n",
              "├─────────────────────────────────┼────────────────────────┼───────────────┤\n",
              "│ flatten_1 (<span style=\"color: #0087ff; text-decoration-color: #0087ff\">Flatten</span>)             │ (<span style=\"color: #00d7ff; text-decoration-color: #00d7ff\">None</span>, <span style=\"color: #00af00; text-decoration-color: #00af00\">86528</span>)          │             <span style=\"color: #00af00; text-decoration-color: #00af00\">0</span> │\n",
              "├─────────────────────────────────┼────────────────────────┼───────────────┤\n",
              "│ dense_2 (<span style=\"color: #0087ff; text-decoration-color: #0087ff\">Dense</span>)                 │ (<span style=\"color: #00d7ff; text-decoration-color: #00d7ff\">None</span>, <span style=\"color: #00af00; text-decoration-color: #00af00\">128</span>)            │    <span style=\"color: #00af00; text-decoration-color: #00af00\">11,075,712</span> │\n",
              "├─────────────────────────────────┼────────────────────────┼───────────────┤\n",
              "│ dropout (<span style=\"color: #0087ff; text-decoration-color: #0087ff\">Dropout</span>)               │ (<span style=\"color: #00d7ff; text-decoration-color: #00d7ff\">None</span>, <span style=\"color: #00af00; text-decoration-color: #00af00\">128</span>)            │             <span style=\"color: #00af00; text-decoration-color: #00af00\">0</span> │\n",
              "├─────────────────────────────────┼────────────────────────┼───────────────┤\n",
              "│ dense_3 (<span style=\"color: #0087ff; text-decoration-color: #0087ff\">Dense</span>)                 │ (<span style=\"color: #00d7ff; text-decoration-color: #00d7ff\">None</span>, <span style=\"color: #00af00; text-decoration-color: #00af00\">4</span>)              │           <span style=\"color: #00af00; text-decoration-color: #00af00\">516</span> │\n",
              "└─────────────────────────────────┴────────────────────────┴───────────────┘\n",
              "</pre>\n"
            ]
          },
          "metadata": {}
        },
        {
          "output_type": "display_data",
          "data": {
            "text/plain": [
              "\u001b[1m Total params: \u001b[0m\u001b[38;5;34m11,169,476\u001b[0m (42.61 MB)\n"
            ],
            "text/html": [
              "<pre style=\"white-space:pre;overflow-x:auto;line-height:normal;font-family:Menlo,'DejaVu Sans Mono',consolas,'Courier New',monospace\"><span style=\"font-weight: bold\"> Total params: </span><span style=\"color: #00af00; text-decoration-color: #00af00\">11,169,476</span> (42.61 MB)\n",
              "</pre>\n"
            ]
          },
          "metadata": {}
        },
        {
          "output_type": "display_data",
          "data": {
            "text/plain": [
              "\u001b[1m Trainable params: \u001b[0m\u001b[38;5;34m11,169,476\u001b[0m (42.61 MB)\n"
            ],
            "text/html": [
              "<pre style=\"white-space:pre;overflow-x:auto;line-height:normal;font-family:Menlo,'DejaVu Sans Mono',consolas,'Courier New',monospace\"><span style=\"font-weight: bold\"> Trainable params: </span><span style=\"color: #00af00; text-decoration-color: #00af00\">11,169,476</span> (42.61 MB)\n",
              "</pre>\n"
            ]
          },
          "metadata": {}
        },
        {
          "output_type": "display_data",
          "data": {
            "text/plain": [
              "\u001b[1m Non-trainable params: \u001b[0m\u001b[38;5;34m0\u001b[0m (0.00 B)\n"
            ],
            "text/html": [
              "<pre style=\"white-space:pre;overflow-x:auto;line-height:normal;font-family:Menlo,'DejaVu Sans Mono',consolas,'Courier New',monospace\"><span style=\"font-weight: bold\"> Non-trainable params: </span><span style=\"color: #00af00; text-decoration-color: #00af00\">0</span> (0.00 B)\n",
              "</pre>\n"
            ]
          },
          "metadata": {}
        }
      ]
    },
    {
      "cell_type": "code",
      "source": [
        "epochs = 10  # you can increase to 20–25 later for better accuracy\n",
        "\n",
        "history = model.fit(\n",
        "    train_ds,\n",
        "    validation_data=test_ds,\n",
        "    epochs=epochs\n",
        ")\n"
      ],
      "metadata": {
        "colab": {
          "base_uri": "https://localhost:8080/"
        },
        "id": "WzskeQvYWiMS",
        "outputId": "38609cd9-b227-4da1-d06c-f2ae1a46ac16"
      },
      "execution_count": 16,
      "outputs": [
        {
          "output_type": "stream",
          "name": "stdout",
          "text": [
            "Epoch 1/10\n",
            "\u001b[1m181/181\u001b[0m \u001b[32m━━━━━━━━━━━━━━━━━━━━\u001b[0m\u001b[37m\u001b[0m \u001b[1m839s\u001b[0m 5s/step - accuracy: 0.6271 - loss: 1.0580 - val_accuracy: 0.3378 - val_loss: 1.2359\n",
            "Epoch 2/10\n",
            "\u001b[1m181/181\u001b[0m \u001b[32m━━━━━━━━━━━━━━━━━━━━\u001b[0m\u001b[37m\u001b[0m \u001b[1m725s\u001b[0m 4s/step - accuracy: 0.6931 - loss: 0.8078 - val_accuracy: 0.3669 - val_loss: 1.3894\n",
            "Epoch 3/10\n",
            "\u001b[1m181/181\u001b[0m \u001b[32m━━━━━━━━━━━━━━━━━━━━\u001b[0m\u001b[37m\u001b[0m \u001b[1m741s\u001b[0m 4s/step - accuracy: 0.6999 - loss: 0.7377 - val_accuracy: 0.3705 - val_loss: 1.4374\n",
            "Epoch 4/10\n",
            "\u001b[1m181/181\u001b[0m \u001b[32m━━━━━━━━━━━━━━━━━━━━\u001b[0m\u001b[37m\u001b[0m \u001b[1m720s\u001b[0m 4s/step - accuracy: 0.7496 - loss: 0.6281 - val_accuracy: 0.3842 - val_loss: 1.2218\n",
            "Epoch 5/10\n",
            "\u001b[1m181/181\u001b[0m \u001b[32m━━━━━━━━━━━━━━━━━━━━\u001b[0m\u001b[37m\u001b[0m \u001b[1m721s\u001b[0m 4s/step - accuracy: 0.7895 - loss: 0.5257 - val_accuracy: 0.3638 - val_loss: 1.6434\n",
            "Epoch 6/10\n",
            "\u001b[1m181/181\u001b[0m \u001b[32m━━━━━━━━━━━━━━━━━━━━\u001b[0m\u001b[37m\u001b[0m \u001b[1m718s\u001b[0m 4s/step - accuracy: 0.8513 - loss: 0.3964 - val_accuracy: 0.3842 - val_loss: 1.6892\n",
            "Epoch 7/10\n",
            "\u001b[1m181/181\u001b[0m \u001b[32m━━━━━━━━━━━━━━━━━━━━\u001b[0m\u001b[37m\u001b[0m \u001b[1m718s\u001b[0m 4s/step - accuracy: 0.8963 - loss: 0.2866 - val_accuracy: 0.3848 - val_loss: 2.0707\n",
            "Epoch 8/10\n",
            "\u001b[1m181/181\u001b[0m \u001b[32m━━━━━━━━━━━━━━━━━━━━\u001b[0m\u001b[37m\u001b[0m \u001b[1m744s\u001b[0m 4s/step - accuracy: 0.9260 - loss: 0.2111 - val_accuracy: 0.3872 - val_loss: 2.4731\n",
            "Epoch 9/10\n",
            "\u001b[1m181/181\u001b[0m \u001b[32m━━━━━━━━━━━━━━━━━━━━\u001b[0m\u001b[37m\u001b[0m \u001b[1m745s\u001b[0m 4s/step - accuracy: 0.9369 - loss: 0.1885 - val_accuracy: 0.3864 - val_loss: 2.9008\n",
            "Epoch 10/10\n",
            "\u001b[1m181/181\u001b[0m \u001b[32m━━━━━━━━━━━━━━━━━━━━\u001b[0m\u001b[37m\u001b[0m \u001b[1m771s\u001b[0m 4s/step - accuracy: 0.9569 - loss: 0.1236 - val_accuracy: 0.3570 - val_loss: 3.6728\n"
          ]
        }
      ]
    },
    {
      "cell_type": "code",
      "source": [
        "import matplotlib.pyplot as plt\n",
        "\n",
        "acc = history.history['accuracy']\n",
        "val_acc = history.history['val_accuracy']\n",
        "loss = history.history['loss']\n",
        "val_loss = history.history['val_loss']\n",
        "\n",
        "plt.figure(figsize=(12,5))\n",
        "\n",
        "plt.subplot(1,2,1)\n",
        "plt.plot(acc, label='Train Accuracy')\n",
        "plt.plot(val_acc, label='Validation Accuracy')\n",
        "plt.legend()\n",
        "plt.title('Model Accuracy')\n",
        "\n",
        "plt.subplot(1,2,2)\n",
        "plt.plot(loss, label='Train Loss')\n",
        "plt.plot(val_loss, label='Validation Loss')\n",
        "plt.legend()\n",
        "plt.title('Model Loss')\n",
        "\n",
        "plt.show()\n"
      ],
      "metadata": {
        "colab": {
          "base_uri": "https://localhost:8080/",
          "height": 399
        },
        "id": "hzzssU76WnUh",
        "outputId": "1813fc75-66a0-40ae-c9d4-70b1a443ef12"
      },
      "execution_count": 17,
      "outputs": [
        {
          "output_type": "display_data",
          "data": {
            "text/plain": [
              "<Figure size 1200x500 with 2 Axes>"
            ],
            "image/png": "[encoded data removed]"
          },
          "metadata": {}
        }
      ]
    },
    {
      "cell_type": "code",
      "source": [
        "import os\n",
        "\n",
        "path = '/content/drive/MyDrive/flicker_dataset/flicker-47-logo-images-dataset/FlickrLogos_47/test'\n",
        "for root, dirs, files in os.walk(path):\n",
        "    print(root, files)\n",
        "    break  # only show the first level\n"
      ],
      "metadata": {
        "colab": {
          "base_uri": "https://localhost:8080/"
        },
        "id": "GHyFo9df4vN3",
        "outputId": "b02c4125-61f8-4b0f-83be-e722fb661732"
      },
      "execution_count": 21,
      "outputs": [
        {
          "output_type": "stream",
          "name": "stdout",
          "text": [
            "/content/drive/MyDrive/flicker_dataset/flicker-47-logo-images-dataset/FlickrLogos_47/test []\n"
          ]
        }
      ]
    },
    {
      "cell_type": "code",
      "source": [
        "import os\n",
        "\n",
        "base = '/content/drive/MyDrive/flicker_dataset/flicker-47-logo-images-dataset/FlickrLogos_47'\n",
        "for root, dirs, files in os.walk(base):\n",
        "    print(root, dirs, files)\n",
        "    break  # top level only\n"
      ],
      "metadata": {
        "colab": {
          "base_uri": "https://localhost:8080/"
        },
        "id": "QjZGIW5m46jy",
        "outputId": "0b0c6272-6569-4f27-fdb0-b3832b49a0e1"
      },
      "execution_count": 22,
      "outputs": [
        {
          "output_type": "stream",
          "name": "stdout",
          "text": [
            "/content/drive/MyDrive/flicker_dataset/flicker-47-logo-images-dataset/FlickrLogos_47 ['scripts', 'test', 'train'] ['README.txt', 'className2ClassID.txt']\n"
          ]
        }
      ]
    },
    {
      "cell_type": "code",
      "source": [
        "import os\n",
        "\n",
        "train_path = '/content/drive/MyDrive/flicker_dataset/flicker-47-logo-images-dataset/FlickrLogos_47/train'\n",
        "test_path = '/content/drive/MyDrive/flicker_dataset/flicker-47-logo-images-dataset/FlickrLogos_47/test'\n",
        "\n",
        "print(\"Train subfolders:\", os.listdir(train_path))\n",
        "print(\"Test subfolders:\", os.listdir(test_path))\n"
      ],
      "metadata": {
        "colab": {
          "base_uri": "https://localhost:8080/"
        },
        "id": "dzYUUAK25Fpn",
        "outputId": "72c2a757-db9d-4268-b6eb-ca13db37b47d"
      },
      "execution_count": 23,
      "outputs": [
        {
          "output_type": "stream",
          "name": "stdout",
          "text": [
            "Train subfolders: ['000000', '000001', '000002', 'no-logo']\n",
            "Test subfolders: ['000000', '000001', '000002', 'no-logo']\n"
          ]
        }
      ]
    },
    {
      "cell_type": "code",
      "source": [
        "import os\n",
        "\n",
        "sample_path = '/content/drive/MyDrive/flicker_dataset/flicker-47-logo-images-dataset/FlickrLogos_47/train/000000'\n",
        "print(\"Files in 000000:\", os.listdir(sample_path))\n"
      ],
      "metadata": {
        "colab": {
          "base_uri": "https://localhost:8080/"
        },
        "id": "meEro7_z5bzB",
        "outputId": "4cead27f-cf4a-442e-cb2b-81da8f72b73e"
      },
      "execution_count": 24,
      "outputs": [
        {
          "output_type": "stream",
          "name": "stdout",
          "text": [
            "Files in 000000: ['000000007.gt_data.txt', '000000007.mask00.png', '000000007.mask01.png', '000000007.mask02.png', '000000007.png', '000000010.gt_data.txt', '000000010.mask00.png', '000000010.mask01.png', '000000010.png', '000000014.gt_data.txt', '000000014.mask00.png', '000000014.mask01.png', '000000014.png', '000000015.gt_data.txt', '000000015.mask00.png', '000000015.mask01.png', '000000015.png', '000000017.gt_data.txt', '000000017.mask00.png', '000000017.mask01.png', '000000017.mask02.png', '000000017.mask03.png', '000000017.png', '000000019.gt_data.txt', '000000019.mask00.png', '000000019.mask01.png', '000000019.mask02.png', '000000019.mask03.png', '000000019.png', '000000020.gt_data.txt', '000000020.mask00.png', '000000020.mask01.png', '000000020.mask02.png', '000000020.png', '000000022.gt_data.txt', '000000022.mask00.png', '000000022.mask01.png', '000000022.mask02.png', '000000022.png', '000000025.gt_data.txt', '000000025.mask00.png', '000000025.mask01.png', '000000025.png', '000000028.gt_data.txt', '000000028.mask00.png', '000000028.mask01.png', '000000028.mask02.png', '000000028.mask03.png', '000000028.mask04.png', '000000028.mask05.png', '000000028.mask06.png', '000000028.mask07.png', '000000028.mask08.png', '000000028.png', '000000032.gt_data.txt', '000000032.mask00.png', '000000032.mask01.png', '000000032.png', '000000034.gt_data.txt', '000000034.mask00.png', '000000034.mask01.png', '000000034.png', '000000035.gt_data.txt', '000000035.mask00.png', '000000035.mask01.png', '000000035.png', '000000038.gt_data.txt', '000000038.mask00.png', '000000038.mask01.png', '000000038.mask02.png', '000000038.png', '000000051.gt_data.txt', '000000051.mask00.png', '000000051.mask01.png', '000000051.png', '000000053.gt_data.txt', '000000053.mask00.png', '000000053.mask01.png', '000000053.png', '000000056.gt_data.txt', '000000056.mask00.png', '000000056.mask01.png', '000000056.mask02.png', '000000056.mask03.png', '000000056.png', '000000057.gt_data.txt', '000000057.mask00.png', '000000057.mask01.png', '000000057.mask02.png', '000000057.mask03.png', '000000057.mask04.png', '000000057.png', '000000059.gt_data.txt', '000000059.mask00.png', '000000059.mask01.png', '000000059.mask02.png', '000000059.png', '000000065.gt_data.txt', '000000065.mask00.png', '000000065.mask01.png', '000000065.mask02.png', '000000065.mask03.png', '000000065.mask04.png', '000000065.mask05.png', '000000065.png', '000000066.gt_data.txt', '000000066.mask00.png', '000000066.mask01.png', '000000066.mask02.png', '000000066.mask03.png', '000000066.mask04.png', '000000066.mask05.png', '000000066.png', '000000067.gt_data.txt', '000000067.mask00.png', '000000067.mask01.png', '000000067.mask02.png', '000000067.png', '000000074.gt_data.txt', '000000074.mask00.png', '000000074.mask01.png', '000000074.mask02.png', '000000074.mask03.png', '000000074.mask04.png', '000000074.mask05.png', '000000074.mask06.png', '000000074.png', '000000075.gt_data.txt', '000000075.mask00.png', '000000075.mask01.png', '000000075.png', '000000077.gt_data.txt', '000000077.mask00.png', '000000077.mask01.png', '000000077.png', '000000081.gt_data.txt', '000000081.mask00.png', '000000081.mask01.png', '000000081.png', '000000083.gt_data.txt', '000000083.mask00.png', '000000083.png', '000000089.gt_data.txt', '000000089.mask00.png', '000000089.png', '000000093.gt_data.txt', '000000093.mask00.png', '000000093.mask01.png', '000000093.mask02.png', '000000093.mask03.png', '000000093.mask04.png', '000000093.mask05.png', '000000093.mask06.png', '000000093.mask07.png', '000000093.mask08.png', '000000093.mask09.png', '000000093.mask10.png', '000000093.mask11.png', '000000093.mask12.png', '000000093.mask13.png', '000000093.png', '000000099.gt_data.txt', '000000099.mask00.png', '000000099.mask01.png', '000000099.mask02.png', '000000099.mask03.png', '000000099.png', '000000100.gt_data.txt', '000000100.mask00.png', '000000100.mask01.png', '000000100.mask02.png', '000000100.mask03.png', '000000100.mask04.png', '000000100.mask05.png', '000000100.png', '000000102.gt_data.txt', '000000102.mask00.png', '000000102.mask01.png', '000000102.png', '000000103.gt_data.txt', '000000103.mask00.png', '000000103.png', '000000104.gt_data.txt', '000000104.mask00.png', '000000104.mask01.png', '000000104.mask02.png', '000000104.mask03.png', '000000104.mask04.png', '000000104.mask05.png', '000000104.mask06.png', '000000104.mask07.png', '000000104.mask08.png', '000000104.mask09.png', '000000104.mask10.png', '000000104.mask11.png', '000000104.mask12.png', '000000104.png', '000000106.gt_data.txt', '000000106.mask00.png', '000000106.mask01.png', '000000106.mask02.png', '000000106.mask03.png', '000000106.png', '000000109.gt_data.txt', '000000109.mask00.png', '000000109.mask01.png', '000000109.png', '000000110.gt_data.txt', '000000110.mask00.png', '000000110.mask01.png', '000000110.png', '000000119.gt_data.txt', '000000119.mask00.png', '000000119.mask01.png', '000000119.png', '000000128.gt_data.txt', '000000128.mask00.png', '000000128.mask01.png', '000000128.mask02.png', '000000128.mask03.png', '000000128.mask04.png', '000000128.png', '000000131.gt_data.txt', '000000131.mask00.png', '000000131.mask01.png', '000000131.png', '000000136.gt_data.txt', '000000136.mask00.png', '000000136.mask01.png', '000000136.png', '000000139.gt_data.txt', '000000139.mask00.png', '000000139.mask01.png', '000000139.png', '000000140.gt_data.txt', '000000140.mask00.png', '000000140.png', '000000148.gt_data.txt', '000000148.mask00.png', '000000148.png', '000000155.gt_data.txt', '000000155.mask00.png', '000000155.png', '000000156.gt_data.txt', '000000156.mask00.png', '000000156.png', '000000157.gt_data.txt', '000000157.mask00.png', '000000157.png', '000000163.gt_data.txt', '000000163.mask00.png', '000000163.mask01.png', '000000163.mask02.png', '000000163.png', '000000164.gt_data.txt', '000000164.mask00.png', '000000164.mask01.png', '000000164.png', '000000165.gt_data.txt', '000000165.mask00.png', '000000165.png', '000000166.gt_data.txt', '000000166.mask00.png', '000000166.png', '000000167.gt_data.txt', '000000167.mask00.png', '000000167.mask01.png', '000000167.mask02.png', '000000167.png', '000000169.gt_data.txt', '000000169.mask00.png', '000000169.mask01.png', '000000169.png', '000000170.gt_data.txt', '000000170.mask00.png', '000000170.png', '000000171.gt_data.txt', '000000171.mask00.png', '000000171.png', '000000173.gt_data.txt', '000000173.mask00.png', '000000173.png', '000000176.gt_data.txt', '000000176.mask00.png', '000000176.mask01.png', '000000176.mask02.png', '000000176.png', '000000180.gt_data.txt', '000000180.mask00.png', '000000180.mask01.png', '000000180.mask02.png', '000000180.png', '000000181.gt_data.txt', '000000181.mask00.png', '000000181.png', '000000183.gt_data.txt', '000000183.mask00.png', '000000183.png', '000000190.gt_data.txt', '000000190.mask00.png', '000000190.png', '000000191.gt_data.txt', '000000191.mask00.png', '000000191.png', '000000193.gt_data.txt', '000000193.mask00.png', '000000193.mask01.png', '000000193.mask02.png', '000000193.png', '000000194.gt_data.txt', '000000194.mask00.png', '000000194.png', '000000199.gt_data.txt', '000000199.mask00.png', '000000199.png', '000000201.gt_data.txt', '000000201.mask00.png', '000000201.png', '000000204.gt_data.txt', '000000204.mask00.png', '000000204.mask01.png', '000000204.png', '000000206.gt_data.txt', '000000206.mask00.png', '000000206.png', '000000210.gt_data.txt', '000000210.mask00.png', '000000210.png', '000000211.gt_data.txt', '000000211.mask00.png', '000000211.png', '000000213.gt_data.txt', '000000213.mask00.png', '000000213.png', '000000215.gt_data.txt', '000000215.mask00.png', '000000215.png', '000000217.gt_data.txt', '000000217.mask00.png', '000000217.png', '000000226.gt_data.txt', '000000226.mask00.png', '000000226.png', '000000227.gt_data.txt', '000000227.mask00.png', '000000227.png', '000000230.gt_data.txt', '000000230.mask00.png', '000000230.png', '000000235.gt_data.txt', '000000235.mask00.png', '000000235.png', '000000238.gt_data.txt', '000000238.mask00.png', '000000238.mask01.png', '000000238.png', '000000240.gt_data.txt', '000000240.mask00.png', '000000240.png', '000000245.gt_data.txt', '000000245.mask00.png', '000000245.png', '000000248.gt_data.txt', '000000248.mask00.png', '000000248.png', '000000250.gt_data.txt', '000000250.mask00.png', '000000250.png', '000000254.gt_data.txt', '000000254.mask00.png', '000000254.png', '000000255.gt_data.txt', '000000255.mask00.png', '000000255.png', '000000259.gt_data.txt', '000000259.mask00.png', '000000259.png', '000000260.gt_data.txt', '000000260.mask00.png', '000000260.png', '000000261.gt_data.txt', '000000261.mask00.png', '000000261.png', '000000262.gt_data.txt', '000000262.mask00.png', '000000262.mask01.png', '000000262.png', '000000263.gt_data.txt', '000000263.mask00.png', '000000263.png', '000000267.gt_data.txt', '000000267.mask00.png', '000000267.png', '000000270.gt_data.txt', '000000270.mask00.png', '000000270.png', '000000271.gt_data.txt', '000000271.mask00.png', '000000271.png', '000000272.gt_data.txt', '000000272.mask00.png', '000000272.png', '000000273.gt_data.txt', '000000273.mask00.png', '000000273.png', '000000276.gt_data.txt', '000000276.mask00.png', '000000276.png', '000000280.gt_data.txt', '000000280.mask00.png', '000000280.mask01.png', '000000280.mask02.png', '000000280.mask03.png', '000000280.mask04.png', '000000280.png', '000000283.gt_data.txt', '000000283.mask00.png', '000000283.mask01.png', '000000283.mask02.png', '000000283.mask03.png', '000000283.png', '000000284.gt_data.txt', '000000284.mask00.png', '000000284.mask01.png', '000000284.mask02.png', '000000284.mask03.png', '000000284.png', '000000285.gt_data.txt', '000000285.mask00.png', '000000285.mask01.png', '000000285.mask02.png', '000000285.mask03.png', '000000285.png', '000000287.gt_data.txt', '000000287.mask00.png', '000000287.mask01.png', '000000287.png', '000000295.gt_data.txt', '000000295.mask00.png', '000000295.mask01.png', '000000295.mask02.png', '000000295.png', '000000298.gt_data.txt', '000000298.mask00.png', '000000298.mask01.png', '000000298.png', '000000299.gt_data.txt', '000000299.mask00.png', '000000299.mask01.png', '000000299.png', '000000303.gt_data.txt', '000000303.mask00.png', '000000303.mask01.png', '000000303.png', '000000306.gt_data.txt', '000000306.mask00.png', '000000306.mask01.png', '000000306.mask02.png', '000000306.mask03.png', '000000306.png', '000000308.gt_data.txt', '000000308.mask00.png', '000000308.mask01.png', '000000308.png', '000000309.gt_data.txt', '000000309.mask00.png', '000000309.mask01.png', '000000309.mask02.png', '000000309.mask03.png', '000000309.png', '000000311.gt_data.txt', '000000311.mask00.png', '000000311.mask01.png', '000000311.mask02.png', '000000311.mask03.png', '000000311.png', '000000313.gt_data.txt', '000000313.mask00.png', '000000313.mask01.png', '000000313.mask02.png', '000000313.mask03.png', '000000313.png', '000000314.gt_data.txt', '000000314.mask00.png', '000000314.mask01.png', '000000314.png', '000000319.gt_data.txt', '000000319.mask00.png', '000000319.mask01.png', '000000319.mask02.png', '000000319.mask03.png', '000000319.png', '000000323.gt_data.txt', '000000323.mask00.png', '000000323.mask01.png', '000000323.mask02.png', '000000323.mask03.png', '000000323.png', '000000324.gt_data.txt', '000000324.mask00.png', '000000324.mask01.png', '000000324.png', '000000325.gt_data.txt', '000000325.mask00.png', '000000325.mask01.png', '000000325.mask02.png', '000000325.mask03.png', '000000325.png', '000000327.gt_data.txt', '000000327.mask00.png', '000000327.mask01.png', '000000327.png', '000000328.gt_data.txt', '000000328.mask00.png', '000000328.mask01.png', '000000328.mask02.png', '000000328.png', '000000330.gt_data.txt', '000000330.mask00.png', '000000330.mask01.png', '000000330.mask02.png', '000000330.mask03.png', '000000330.png', '000000333.gt_data.txt', '000000333.mask00.png', '000000333.mask01.png', '000000333.mask02.png', '000000333.mask03.png', '000000333.mask04.png', '000000333.mask05.png', '000000333.png', '000000335.gt_data.txt', '000000335.mask00.png', '000000335.mask01.png', '000000335.mask02.png', '000000335.mask03.png', '000000335.png', '000000336.gt_data.txt', '000000336.mask00.png', '000000336.mask01.png', '000000336.mask02.png', '000000336.mask03.png', '000000336.png', '000000339.gt_data.txt', '000000339.mask00.png', '000000339.mask01.png', '000000339.mask02.png', '000000339.mask03.png', '000000339.png', '000000340.gt_data.txt', '000000340.mask00.png', '000000340.mask01.png', '000000340.mask02.png', '000000340.mask03.png', '000000340.mask04.png', '000000340.mask05.png', '000000340.mask06.png', '000000340.mask07.png', '000000340.mask08.png', '000000340.mask09.png', '000000340.mask10.png', '000000340.mask11.png', '000000340.mask12.png', '000000340.mask13.png', '000000340.mask14.png', '000000340.mask15.png', '000000340.png', '000000345.gt_data.txt', '000000345.mask00.png', '000000345.mask01.png', '000000345.mask02.png', '000000345.mask03.png', '000000345.png', '000000348.gt_data.txt', '000000348.mask00.png', '000000348.mask01.png', '000000348.mask02.png', '000000348.mask03.png', '000000348.mask04.png', '000000348.mask05.png', '000000348.mask06.png', '000000348.png', '000000354.gt_data.txt', '000000354.mask00.png', '000000354.png', '000000355.gt_data.txt', '000000355.mask00.png', '000000355.png', '000000357.gt_data.txt', '000000357.mask00.png', '000000357.png', '000000359.gt_data.txt', '000000359.mask00.png', '000000359.png', '000000360.gt_data.txt', '000000360.mask00.png', '000000360.png', '000000365.gt_data.txt', '000000365.mask00.png', '000000365.png', '000000370.gt_data.txt', '000000370.mask00.png', '000000370.png', '000000373.gt_data.txt', '000000373.mask00.png', '000000373.png', '000000374.gt_data.txt', '000000374.mask00.png', '000000374.png', '000000379.gt_data.txt', '000000379.mask00.png', '000000379.png', '000000381.gt_data.txt', '000000381.mask00.png', '000000381.png', '000000385.gt_data.txt', '000000385.mask00.png', '000000385.png', '000000386.gt_data.txt', '000000386.mask00.png', '000000386.png', '000000387.gt_data.txt', '000000387.mask00.png', '000000387.png', '000000391.gt_data.txt', '000000391.mask00.png', '000000391.png', '000000397.gt_data.txt', '000000397.mask00.png', '000000397.png', '000000398.gt_data.txt', '000000398.mask00.png', '000000398.png', '000000399.gt_data.txt', '000000399.mask00.png', '000000399.png', '000000400.gt_data.txt', '000000400.mask00.png', '000000400.png', '000000407.gt_data.txt', '000000407.mask00.png', '000000407.png', '000000408.gt_data.txt', '000000408.mask00.png', '000000408.png', '000000410.gt_data.txt', '000000410.mask00.png', '000000410.png', '000000412.gt_data.txt', '000000412.mask00.png', '000000412.png', '000000414.gt_data.txt', '000000414.mask00.png', '000000414.png', '000000415.gt_data.txt', '000000415.mask00.png', '000000415.png', '000000416.gt_data.txt', '000000416.mask00.png', '000000416.png', '000000421.gt_data.txt', '000000421.mask00.png', '000000421.png', '000000422.gt_data.txt', '000000422.mask00.png', '000000422.png', '000000423.gt_data.txt', '000000423.mask00.png', '000000423.png', '000000426.gt_data.txt', '000000426.mask00.png', '000000426.mask01.png', '000000426.png', '000000428.gt_data.txt', '000000428.mask00.png', '000000428.mask01.png', '000000428.mask02.png', '000000428.mask03.png', '000000428.png', '000000430.gt_data.txt', '000000430.mask00.png', '000000430.mask01.png', '000000430.png', '000000431.gt_data.txt', '000000431.mask00.png', '000000431.mask01.png', '000000431.png', '000000432.gt_data.txt', '000000432.mask00.png', '000000432.mask01.png', '000000432.png', '000000433.gt_data.txt', '000000433.mask00.png', '000000433.mask01.png', '000000433.png', '000000436.gt_data.txt', '000000436.mask00.png', '000000436.mask01.png', '000000436.mask02.png', '000000436.mask03.png', '000000436.png', '000000438.gt_data.txt', '000000438.mask00.png', '000000438.mask01.png', '000000438.png', '000000441.gt_data.txt', '000000441.mask00.png', '000000441.mask01.png', '000000441.mask02.png', '000000441.mask03.png', '000000441.png', '000000449.gt_data.txt', '000000449.mask00.png', '000000449.mask01.png', '000000449.mask02.png', '000000449.png', '000000451.gt_data.txt', '000000451.mask00.png', '000000451.mask01.png', '000000451.png', '000000452.gt_data.txt', '000000452.mask00.png', '000000452.mask01.png', '000000452.png', '000000453.gt_data.txt', '000000453.mask00.png', '000000453.mask01.png', '000000453.png', '000000454.gt_data.txt', '000000454.mask00.png', '000000454.mask01.png', '000000454.mask02.png', '000000454.mask03.png', '000000454.png', '000000455.gt_data.txt', '000000455.mask00.png', '000000455.mask01.png', '000000455.mask02.png', '000000455.png', '000000456.gt_data.txt', '000000456.mask00.png', '000000456.mask01.png', '000000456.png', '000000461.gt_data.txt', '000000461.mask00.png', '000000461.mask01.png', '000000461.png', '000000462.gt_data.txt', '000000462.mask00.png', '000000462.mask01.png', '000000462.png', '000000468.gt_data.txt', '000000468.mask00.png', '000000468.mask01.png', '000000468.mask02.png', '000000468.mask03.png', '000000468.png', '000000473.gt_data.txt', '000000473.mask00.png', '000000473.mask01.png', '000000473.mask02.png', '000000473.mask03.png', '000000473.png', '000000475.gt_data.txt', '000000475.mask00.png', '000000475.mask01.png', '000000475.png', '000000476.gt_data.txt', '000000476.mask00.png', '000000476.mask01.png', '000000476.png', '000000478.gt_data.txt', '000000478.mask00.png', '000000478.mask01.png', '000000478.png', '000000485.gt_data.txt', '000000485.mask00.png', '000000485.mask01.png', '000000485.png', '000000487.gt_data.txt', '000000487.mask00.png', '000000487.mask01.png', '000000487.png', '000000490.gt_data.txt', '000000490.mask00.png', '000000490.mask01.png', '000000490.mask02.png', '000000490.mask03.png', '000000490.png', '000000491.gt_data.txt', '000000491.mask00.png', '000000491.png', '000000492.gt_data.txt', '000000492.mask00.png', '000000492.png', '000000504.gt_data.txt', '000000504.mask00.png', '000000504.mask01.png', '000000504.mask02.png', '000000504.png', '000000506.gt_data.txt', '000000506.mask00.png', '000000506.mask01.png', '000000506.mask02.png', '000000506.mask03.png', '000000506.png', '000000509.gt_data.txt', '000000509.mask00.png', '000000509.mask01.png', '000000509.mask02.png', '000000509.mask03.png', '000000509.mask04.png', '000000509.png', '000000510.gt_data.txt', '000000510.mask00.png', '000000510.mask01.png', '000000510.mask02.png', '000000510.png', '000000511.gt_data.txt', '000000511.mask00.png', '000000511.mask01.png', '000000511.mask02.png', '000000511.mask03.png', '000000511.mask04.png', '000000511.mask05.png', '000000511.mask06.png', '000000511.mask07.png', '000000511.mask08.png', '000000511.mask09.png', '000000511.mask10.png', '000000511.png', '000000512.gt_data.txt', '000000512.mask00.png', '000000512.mask01.png', '000000512.png', '000000520.gt_data.txt', '000000520.mask00.png', '000000520.mask01.png', '000000520.png', '000000523.gt_data.txt', '000000523.mask00.png', '000000523.mask01.png', '000000523.mask02.png', '000000523.mask03.png', '000000523.mask04.png', '000000523.mask05.png', '000000523.png', '000000525.gt_data.txt', '000000525.mask00.png', '000000525.mask01.png', '000000525.mask02.png', '000000525.mask03.png', '000000525.png', '000000527.gt_data.txt', '000000527.mask00.png', '000000527.mask01.png', '000000527.mask02.png', '000000527.png', '000000528.gt_data.txt', '000000528.mask00.png', '000000528.mask01.png', '000000528.png', '000000534.gt_data.txt', '000000534.mask00.png', '000000534.mask01.png', '000000534.png', '000000535.gt_data.txt', '000000535.mask00.png', '000000535.mask01.png', '000000535.mask02.png', '000000535.png', '000000537.gt_data.txt', '000000537.mask00.png', '000000537.mask01.png', '000000537.mask02.png', '000000537.png', '000000538.gt_data.txt', '000000538.mask00.png', '000000538.mask01.png', '000000538.mask02.png', '000000538.png', '000000539.gt_data.txt', '000000539.mask00.png', '000000539.mask01.png', '000000539.mask02.png', '000000539.mask03.png', '000000539.mask04.png', '000000539.mask05.png', '000000539.png', '000000544.gt_data.txt', '000000544.mask00.png', '000000544.mask01.png', '000000544.mask02.png', '000000544.mask03.png', '000000544.mask04.png', '000000544.png', '000000547.gt_data.txt', '000000547.mask00.png', '000000547.mask01.png', '000000547.png', '000000548.gt_data.txt', '000000548.mask00.png', '000000548.mask01.png', '000000548.mask02.png', '000000548.mask03.png', '000000548.png', '000000549.gt_data.txt', '000000549.mask00.png', '000000549.mask01.png', '000000549.mask02.png', '000000549.mask03.png', '000000549.mask04.png', '000000549.png', '000000552.gt_data.txt', '000000552.mask00.png', '000000552.mask01.png', '000000552.png', '000000555.gt_data.txt', '000000555.mask00.png', '000000555.mask01.png', '000000555.mask02.png', '000000555.png', '000000558.gt_data.txt', '000000558.mask00.png', '000000558.mask01.png', '000000558.png', '000000559.gt_data.txt', '000000559.mask00.png', '000000559.mask01.png', '000000559.mask02.png', '000000559.mask03.png', '000000559.mask04.png', '000000559.mask05.png', '000000559.png', '000000560.gt_data.txt', '000000560.mask00.png', '000000560.mask01.png', '000000560.mask02.png', '000000560.mask03.png', '000000560.mask04.png', '000000560.mask05.png', '000000560.mask06.png', '000000560.mask07.png', '000000560.mask08.png', '000000560.mask09.png', '000000560.png', '000000563.gt_data.txt', '000000563.mask00.png', '000000563.mask01.png', '000000563.png', '000000566.gt_data.txt', '000000566.mask00.png', '000000566.mask01.png', '000000566.png', '000000569.gt_data.txt', '000000569.mask00.png', '000000569.png', '000000574.gt_data.txt', '000000574.mask00.png', '000000574.png', '000000581.gt_data.txt', '000000581.mask00.png', '000000581.png', '000000584.gt_data.txt', '000000584.mask00.png', '000000584.png', '000000593.gt_data.txt', '000000593.mask00.png', '000000593.png', '000000598.gt_data.txt', '000000598.mask00.png', '000000598.mask01.png', '000000598.png', '000000602.gt_data.txt', '000000602.mask00.png', '000000602.png', '000000604.gt_data.txt', '000000604.mask00.png', '000000604.png', '000000606.gt_data.txt', '000000606.mask00.png', '000000606.png', '000000607.gt_data.txt', '000000607.mask00.png', '000000607.png', '000000610.gt_data.txt', '000000610.mask00.png', '000000610.mask01.png', '000000610.mask02.png', '000000610.mask03.png', '000000610.mask04.png', '000000610.png', '000000617.gt_data.txt', '000000617.mask00.png', '000000617.png', '000000620.gt_data.txt', '000000620.mask00.png', '000000620.png', '000000622.gt_data.txt', '000000622.mask00.png', '000000622.mask01.png', '000000622.mask02.png', '000000622.png', '000000627.gt_data.txt', '000000627.mask00.png', '000000627.mask01.png', '000000627.png', '000000633.gt_data.txt', '000000633.mask00.png', '000000633.png', '000000635.gt_data.txt', '000000635.mask00.png', '000000635.png', '000000639.gt_data.txt', '000000639.mask00.png', '000000639.mask01.png', '000000639.mask02.png', '000000639.png', '000000640.gt_data.txt', '000000640.mask00.png', '000000640.mask01.png', '000000640.png', '000000641.gt_data.txt', '000000641.mask00.png', '000000641.mask01.png', '000000641.mask02.png', '000000641.mask03.png', '000000641.mask04.png', '000000641.mask05.png', '000000641.mask06.png', '000000641.png', '000000646.gt_data.txt', '000000646.mask00.png', '000000646.mask01.png', '000000646.mask02.png', '000000646.mask03.png', '000000646.mask04.png', '000000646.mask05.png', '000000646.mask06.png', '000000646.mask07.png', '000000646.mask08.png', '000000646.mask09.png', '000000646.mask10.png', '000000646.mask11.png', '000000646.mask12.png', '000000646.mask13.png', '000000646.mask14.png', '000000646.mask15.png', '000000646.mask16.png', '000000646.mask17.png', '000000646.mask18.png', '000000646.mask19.png', '000000646.mask20.png', '000000646.mask21.png', '000000646.mask22.png', '000000646.mask23.png', '000000646.mask24.png', '000000646.mask25.png', '000000646.mask26.png', '000000646.mask27.png', '000000646.mask28.png', '000000646.mask29.png', '000000646.mask30.png', '000000646.mask31.png', '000000646.mask32.png', '000000646.mask33.png', '000000646.png', '000000649.gt_data.txt', '000000649.mask00.png', '000000649.mask01.png', '000000649.mask02.png', '000000649.png', '000000650.gt_data.txt', '000000650.mask00.png', '000000650.mask01.png', '000000650.mask02.png', '000000650.png', '000000652.gt_data.txt', '000000652.mask00.png', '000000652.mask01.png', '000000652.png', '000000657.gt_data.txt', '000000657.mask00.png', '000000657.mask01.png', '000000657.png', '000000660.gt_data.txt', '000000660.mask00.png', '000000660.mask01.png', '000000660.png', '000000662.gt_data.txt', '000000662.mask00.png', '000000662.mask01.png', '000000662.png', '000000663.gt_data.txt', '000000663.mask00.png', '000000663.mask01.png', '000000663.png', '000000664.gt_data.txt', '000000664.mask00.png', '000000664.mask01.png', '000000664.png', '000000665.gt_data.txt', '000000665.mask00.png', '000000665.mask01.png', '000000665.mask02.png', '000000665.mask03.png', '000000665.png', '000000668.gt_data.txt', '000000668.mask00.png', '000000668.mask01.png', '000000668.mask02.png', '000000668.mask03.png', '000000668.mask04.png', '000000668.mask05.png', '000000668.png', '000000669.gt_data.txt', '000000669.mask00.png', '000000669.mask01.png', '000000669.png', '000000670.gt_data.txt', '000000670.mask00.png', '000000670.mask01.png', '000000670.png', '000000673.gt_data.txt', '000000673.mask00.png', '000000673.mask01.png', '000000673.png', '000000674.gt_data.txt', '000000674.mask00.png', '000000674.mask01.png', '000000674.png', '000000677.gt_data.txt', '000000677.mask00.png', '000000677.mask01.png', '000000677.png', '000000679.gt_data.txt', '000000679.mask00.png', '000000679.mask01.png', '000000679.png', '000000681.gt_data.txt', '000000681.mask00.png', '000000681.mask01.png', '000000681.png', '000000684.gt_data.txt', '000000684.mask00.png', '000000684.mask01.png', '000000684.png', '000000688.gt_data.txt', '000000688.mask00.png', '000000688.mask01.png', '000000688.png', '000000692.gt_data.txt', '000000692.mask00.png', '000000692.mask01.png', '000000692.png', '000000693.gt_data.txt', '000000693.mask00.png', '000000693.mask01.png', '000000693.png', '000000696.gt_data.txt', '000000696.mask00.png', '000000696.mask01.png', '000000696.png', '000000699.gt_data.txt', '000000699.mask00.png', '000000699.mask01.png', '000000699.png', '000000706.gt_data.txt', '000000706.mask00.png', '000000706.mask01.png', '000000706.png', '000000707.gt_data.txt', '000000707.mask00.png', '000000707.mask01.png', '000000707.png', '000000712.gt_data.txt', '000000712.mask00.png', '000000712.mask01.png', '000000712.png', '000000715.gt_data.txt', '000000715.mask00.png', '000000715.mask01.png', '000000715.png', '000000716.gt_data.txt', '000000716.mask00.png', '000000716.mask01.png', '000000716.mask02.png', '000000716.mask03.png', '000000716.png', '000000717.gt_data.txt', '000000717.mask00.png', '000000717.png', '000000718.gt_data.txt', '000000718.mask00.png', '000000718.mask01.png', '000000718.png', '000000720.gt_data.txt', '000000720.mask00.png', '000000720.mask01.png', '000000720.png', '000000723.gt_data.txt', '000000723.mask00.png', '000000723.png', '000000726.gt_data.txt', '000000726.mask00.png', '000000726.mask01.png', '000000726.png', '000000730.gt_data.txt', '000000730.mask00.png', '000000730.mask01.png', '000000730.mask02.png', '000000730.mask03.png', '000000730.mask04.png', '000000730.png', '000000731.gt_data.txt', '000000731.mask00.png', '000000731.png', '000000734.gt_data.txt', '000000734.mask00.png', '000000734.mask01.png', '000000734.png', '000000736.gt_data.txt', '000000736.mask00.png', '000000736.png', '000000738.gt_data.txt', '000000738.mask00.png', '000000738.mask01.png', '000000738.png', '000000743.gt_data.txt', '000000743.mask00.png', '000000743.png', '000000744.gt_data.txt', '000000744.mask00.png', '000000744.png', '000000745.gt_data.txt', '000000745.mask00.png', '000000745.png', '000000750.gt_data.txt', '000000750.mask00.png', '000000750.png', '000000751.gt_data.txt', '000000751.mask00.png', '000000751.mask01.png', '000000751.png', '000000754.gt_data.txt', '000000754.mask00.png', '000000754.mask01.png', '000000754.mask02.png', '000000754.mask03.png', '000000754.png', '000000755.gt_data.txt', '000000755.mask00.png', '000000755.png', '000000756.gt_data.txt', '000000756.mask00.png', '000000756.png', '000000761.gt_data.txt', '000000761.mask00.png', '000000761.mask01.png', '000000761.png', '000000763.gt_data.txt', '000000763.mask00.png', '000000763.mask01.png', '000000763.png', '000000764.gt_data.txt', '000000764.mask00.png', '000000764.mask01.png', '000000764.png', '000000765.gt_data.txt', '000000765.mask00.png', '000000765.mask01.png', '000000765.png', '000000767.gt_data.txt', '000000767.mask00.png', '000000767.png', '000000768.gt_data.txt', '000000768.mask00.png', '000000768.mask01.png', '000000768.png', '000000771.gt_data.txt', '000000771.mask00.png', '000000771.png', '000000781.gt_data.txt', '000000781.mask00.png', '000000781.mask01.png', '000000781.png', '000000785.gt_data.txt', '000000785.mask00.png', '000000785.png', '000000787.gt_data.txt', '000000787.mask00.png', '000000787.mask01.png', '000000787.mask02.png', '000000787.png', '000000790.gt_data.txt', '000000790.mask00.png', '000000790.mask01.png', '000000790.png', '000000793.gt_data.txt', '000000793.mask00.png', '000000793.mask01.png', '000000793.mask02.png', '000000793.mask03.png', '000000793.png', '000000795.gt_data.txt', '000000795.mask00.png', '000000795.mask01.png', '000000795.mask02.png', '000000795.mask03.png', '000000795.png', '000000796.gt_data.txt', '000000796.mask00.png', '000000796.mask01.png', '000000796.png', '000000798.gt_data.txt', '000000798.mask00.png', '000000798.mask01.png', '000000798.png', '000000804.gt_data.txt', '000000804.mask00.png', '000000804.mask01.png', '000000804.mask02.png', '000000804.mask03.png', '000000804.png', '000000805.gt_data.txt', '000000805.mask00.png', '000000805.mask01.png', '000000805.mask02.png', '000000805.mask03.png', '000000805.mask04.png', '000000805.mask05.png', '000000805.mask06.png', '000000805.mask07.png', '000000805.mask08.png', '000000805.png', '000000807.gt_data.txt', '000000807.mask00.png', '000000807.mask01.png', '000000807.png', '000000809.gt_data.txt', '000000809.mask00.png', '000000809.mask01.png', '000000809.png', '000000815.gt_data.txt', '000000815.mask00.png', '000000815.mask01.png', '000000815.png', '000000816.gt_data.txt', '000000816.mask00.png', '000000816.mask01.png', '000000816.mask02.png', '000000816.mask03.png', '000000816.mask04.png', '000000816.png', '000000817.gt_data.txt', '000000817.mask00.png', '000000817.mask01.png', '000000817.png', '000000824.gt_data.txt', '000000824.mask00.png', '000000824.mask01.png', '000000824.png', '000000828.gt_data.txt', '000000828.mask00.png', '000000828.mask01.png', '000000828.mask02.png', '000000828.png', '000000831.gt_data.txt', '000000831.mask00.png', '000000831.mask01.png', '000000831.mask02.png', '000000831.mask03.png', '000000831.mask04.png', '000000831.png', '000000836.gt_data.txt', '000000836.mask00.png', '000000836.mask01.png', '000000836.png', '000000837.gt_data.txt', '000000837.mask00.png', '000000837.mask01.png', '000000837.mask02.png', '000000837.mask03.png', '000000837.png', '000000842.gt_data.txt', '000000842.mask00.png', '000000842.mask01.png', '000000842.mask02.png', '000000842.mask03.png', '000000842.mask04.png', '000000842.png', '000000845.gt_data.txt', '000000845.mask00.png', '000000845.mask01.png', '000000845.mask02.png', '000000845.png', '000000847.gt_data.txt', '000000847.mask00.png', '000000847.mask01.png', '000000847.png', '000000848.gt_data.txt', '000000848.mask00.png', '000000848.mask01.png', '000000848.png', '000000849.gt_data.txt', '000000849.mask00.png', '000000849.mask01.png', '000000849.mask02.png', '000000849.png', '000000851.gt_data.txt', '000000851.mask00.png', '000000851.mask01.png', '000000851.png', '000000853.gt_data.txt', '000000853.mask00.png', '000000853.mask01.png', '000000853.mask02.png', '000000853.png', '000000858.gt_data.txt', '000000858.mask00.png', '000000858.png', '000000864.gt_data.txt', '000000864.mask00.png', '000000864.png', '000000867.gt_data.txt', '000000867.mask00.png', '000000867.png', '000000873.gt_data.txt', '000000873.mask00.png', '000000873.png', '000000874.gt_data.txt', '000000874.mask00.png', '000000874.png', '000000878.gt_data.txt', '000000878.mask00.png', '000000878.mask01.png', '000000878.png', '000000879.gt_data.txt', '000000879.mask00.png', '000000879.mask01.png', '000000879.mask02.png', '000000879.png', '000000880.gt_data.txt', '000000880.mask00.png', '000000880.png', '000000882.gt_data.txt', '000000882.mask00.png', '000000882.png', '000000885.gt_data.txt', '000000885.mask00.png', '000000885.mask01.png', '000000885.png', '000000886.gt_data.txt', '000000886.mask00.png', '000000886.mask01.png', '000000886.png', '000000890.gt_data.txt', '000000890.mask00.png', '000000890.mask01.png', '000000890.mask02.png', '000000890.mask03.png', '000000890.png', '000000892.gt_data.txt', '000000892.mask00.png', '000000892.png', '000000893.gt_data.txt', '000000893.mask00.png', '000000893.mask01.png', '000000893.mask02.png', '000000893.mask03.png', '000000893.png', '000000898.gt_data.txt', '000000898.mask00.png', '000000898.png', '000000899.gt_data.txt', '000000899.mask00.png', '000000899.png', '000000904.gt_data.txt', '000000904.mask00.png', '000000904.mask01.png', '000000904.mask02.png', '000000904.mask03.png', '000000904.png', '000000907.gt_data.txt', '000000907.mask00.png', '000000907.png', '000000910.gt_data.txt', '000000910.mask00.png', '000000910.png', '000000911.gt_data.txt', '000000911.mask00.png', '000000911.png', '000000912.gt_data.txt', '000000912.mask00.png', '000000912.png', '000000915.gt_data.txt', '000000915.mask00.png', '000000915.png', '000000917.gt_data.txt', '000000917.mask00.png', '000000917.png', '000000924.gt_data.txt', '000000924.mask00.png', '000000924.png', '000000926.gt_data.txt', '000000926.mask00.png', '000000926.png', '000000927.gt_data.txt', '000000927.mask00.png', '000000927.png', '000000928.gt_data.txt', '000000928.mask00.png', '000000928.mask01.png', '000000928.mask02.png', '000000928.png', '000000930.gt_data.txt', '000000930.mask00.png', '000000930.png', '000000931.gt_data.txt', '000000931.mask00.png', '000000931.png', '000000934.gt_data.txt', '000000934.mask00.png', '000000934.png', '000000935.gt_data.txt', '000000935.mask00.png', '000000935.png', '000000936.gt_data.txt', '000000936.mask00.png', '000000936.mask01.png', '000000936.png', '000000940.gt_data.txt', '000000940.mask00.png', '000000940.png', '000000945.gt_data.txt', '000000945.mask00.png', '000000945.png', '000000947.gt_data.txt', '000000947.mask00.png', '000000947.mask01.png', '000000947.mask02.png', '000000947.png', '000000948.gt_data.txt', '000000948.mask00.png', '000000948.png', '000000955.gt_data.txt', '000000955.mask00.png', '000000955.png', '000000956.gt_data.txt', '000000956.mask00.png', '000000956.png', '000000958.gt_data.txt', '000000958.mask00.png', '000000958.png', '000000959.gt_data.txt', '000000959.mask00.png', '000000959.mask01.png', '000000959.png', '000000960.gt_data.txt', '000000960.mask00.png', '000000960.mask01.png', '000000960.png', '000000961.gt_data.txt', '000000961.mask00.png', '000000961.mask01.png', '000000961.png', '000000964.gt_data.txt', '000000964.mask00.png', '000000964.png', '000000965.gt_data.txt', '000000965.mask00.png', '000000965.png', '000000968.gt_data.txt', '000000968.mask00.png', '000000968.png', '000000970.gt_data.txt', '000000970.mask00.png', '000000970.png', '000000973.gt_data.txt', '000000973.mask00.png', '000000973.mask01.png', '000000973.png', '000000984.gt_data.txt', '000000984.mask00.png', '000000984.png', '000000985.gt_data.txt', '000000985.mask00.png', '000000985.png', '000000986.gt_data.txt', '000000986.mask00.png', '000000986.png', '000000989.gt_data.txt', '000000989.mask00.png', '000000989.png', '000000992.gt_data.txt', '000000992.mask00.png', '000000992.png', '000000995.gt_data.txt', '000000995.mask00.png', '000000995.png', '000000998.gt_data.txt', '000000998.mask00.png', '000000998.png', '000000999.gt_data.txt', '000000999.mask00.png', '000000999.png']\n"
          ]
        }
      ]
    },
    {
      "cell_type": "code",
      "source": [
        "import os\n",
        "\n",
        "base_path = '/content/drive/MyDrive/flicker_dataset/flicker-47-logo-images-dataset/FlickrLogos_47/test'\n",
        "\n",
        "for root, dirs, files in os.walk(base_path):\n",
        "    for f in files:\n",
        "        if f.lower().endswith(('.jpg', '.jpeg', '.png')):\n",
        "            print(\"✅ Found image:\", os.path.join(root, f))\n",
        "            raise SystemExit  # stop after first image is found\n",
        "print(\"❌ No image found in the test folder.\")\n"
      ],
      "metadata": {
        "colab": {
          "base_uri": "https://localhost:8080/",
          "height": 161
        },
        "id": "hANT9MiQ5_jO",
        "outputId": "782dd0f3-0495-4f44-88af-1dde198c8588"
      },
      "execution_count": 26,
      "outputs": [
        {
          "output_type": "stream",
          "name": "stdout",
          "text": [
            "✅ Found image: /content/drive/MyDrive/flicker_dataset/flicker-47-logo-images-dataset/FlickrLogos_47/test/000000/000000000.mask00.png\n"
          ]
        },
        {
          "output_type": "error",
          "ename": "SystemExit",
          "evalue": "",
          "traceback": [
            "An exception has occurred, use %tb to see the full traceback.\n",
            "\u001b[0;31mSystemExit\u001b[0m\n"
          ]
        },
        {
          "output_type": "stream",
          "name": "stderr",
          "text": [
            "/usr/local/lib/python3.12/dist-packages/IPython/core/interactiveshell.py:3561: UserWarning: To exit: use 'exit', 'quit', or Ctrl-D.\n",
            "  warn(\"To exit: use 'exit', 'quit', or Ctrl-D.\", stacklevel=1)\n"
          ]
        }
      ]
    },
    {
      "cell_type": "code",
      "source": [
        "def predict_image(img_path):\n",
        "    import numpy as np\n",
        "    import tensorflow as tf\n",
        "\n",
        "    # Load and preprocess\n",
        "    img = tf.keras.utils.load_img(img_path, target_size=(224, 224))\n",
        "    img_array = tf.keras.utils.img_to_array(img)\n",
        "    img_array = tf.expand_dims(img_array, 0)\n",
        "\n",
        "    # Predict\n",
        "    predictions = model.predict(img_array)\n",
        "    score = tf.nn.softmax(predictions[0])\n",
        "\n",
        "    # Display\n",
        "    print(f\"\\n🖼️ Image: {img_path}\")\n",
        "    print(f\"🎯 Predicted Class: {class_names[np.argmax(score)]}\")\n",
        "    print(f\"📊 Confidence: {100 * np.max(score):.2f}%\")\n",
        "\n",
        "    # Show all probabilities\n",
        "    print(\"\\nAll Class Probabilities:\")\n",
        "    for name, prob in zip(class_names, score):\n",
        "        print(f\"{name}: {prob*100:.2f}%\")\n"
      ],
      "metadata": {
        "id": "A7JE3CI-2u4v"
      },
      "execution_count": 29,
      "outputs": []
    },
    {
      "cell_type": "code",
      "source": [
        "predict_image('/content/drive/MyDrive/flicker_dataset/flicker-47-logo-images-dataset/FlickrLogos_47/test/000001/000001002.mask00.png')\n"
      ],
      "metadata": {
        "colab": {
          "base_uri": "https://localhost:8080/"
        },
        "id": "DitQZPGj3NkX",
        "outputId": "5d9049b9-9458-4ae0-934a-b40f6979beb0"
      },
      "execution_count": 30,
      "outputs": [
        {
          "output_type": "stream",
          "name": "stdout",
          "text": [
            "\u001b[1m1/1\u001b[0m \u001b[32m━━━━━━━━━━━━━━━━━━━━\u001b[0m\u001b[37m\u001b[0m \u001b[1m0s\u001b[0m 153ms/step\n",
            "\n",
            "🖼️ Image: /content/drive/MyDrive/flicker_dataset/flicker-47-logo-images-dataset/FlickrLogos_47/test/000001/000001002.mask00.png\n",
            "🎯 Predicted Class: 000000\n",
            "📊 Confidence: 45.34%\n",
            "\n",
            "All Class Probabilities:\n",
            "000000: 45.34%\n",
            "000001: 18.99%\n",
            "000002: 17.84%\n",
            "no-logo: 17.83%\n"
          ]
        }
      ]
    },
    {
      "cell_type": "code",
      "source": [
        "model.save('/content/drive/MyDrive/flicker_dataset/logo_cnn_model.h5')\n",
        "print(\"Model saved successfully ✅\")\n"
      ],
      "metadata": {
        "colab": {
          "base_uri": "https://localhost:8080/"
        },
        "id": "Y0YNe4a_8F2h",
        "outputId": "1a15c265-4114-4363-ded4-70e37f65286c"
      },
      "execution_count": 31,
      "outputs": [
        {
          "output_type": "stream",
          "name": "stderr",
          "text": [
            "WARNING:absl:You are saving your model as an HDF5 file via `model.save()` or `keras.saving.save_model(model)`. This file format is considered legacy. We recommend using instead the native Keras format, e.g. `model.save('my_model.keras')` or `keras.saving.save_model(model, 'my_model.keras')`. \n"
          ]
        },
        {
          "output_type": "stream",
          "name": "stdout",
          "text": [
            "Model saved successfully ✅\n"
          ]
        }
      ]
    },
    {
      "cell_type": "code",
      "source": [
        "# # from google.colab import drive\n",
        "# # drive.mount('/content/drive')\n",
        "# # import tensorflow as tf\n",
        "# import numpy as np\n",
        "\n",
        "# model = tf.keras.models.load_model('/content/drive/MyDrive/flicker_dataset/logo_cnn_model.h5')\n",
        "\n",
        "# train_ds = tf.keras.utils.image_dataset_from_directory(\n",
        "#     '/content/drive/MyDrive/flicker_dataset/flicker-47-logo-images-dataset/FlickrLogos_47/train',\n",
        "#     image_size=(224, 224),\n",
        "#     batch_size=1,\n",
        "#     shuffle=False\n",
        "# )\n",
        "# class_names = train_ds.class_names\n",
        "# print(\"✅ Class names loaded:\", class_names)\n",
        "\n",
        "# def predict_image(img_path):\n",
        "#     img = tf.keras.utils.load_img(img_path, target_size=(224, 224))\n",
        "#     img_array = tf.keras.utils.img_to_array(img)\n",
        "#     img_array = tf.expand_dims(img_array, 0)\n",
        "#     predictions = model.predict(img_array)\n",
        "#     score = tf.nn.softmax(predictions[0])\n",
        "#     print(f\"\\n🖼️ Image: {img_path}\")\n",
        "#     print(f\"🎯 Predicted Class: {class_names[np.argmax(score)]}\")\n",
        "#     print(f\"📊 Confidence: {100 * np.max(score):.2f}%\")\n"
      ],
      "metadata": {
        "id": "HHN5Fuue8Omv"
      },
      "execution_count": null,
      "outputs": []
    },
    {
      "cell_type": "code",
      "source": [
        "import shutil\n",
        "\n",
        "# Source folder (your dataset)\n",
        "src_folder = '/content/drive/MyDrive/flicker_dataset/flicker-47-logo-images-dataset/FlickrLogos_47'\n",
        "\n",
        "# Destination (zip file path)\n",
        "zip_path = '/content/drive/MyDrive/flicker_dataset/FlickrLogos_47_backup.zip'\n",
        "\n",
        "# Create ZIP file\n",
        "shutil.make_archive(zip_path.replace('.zip', ''), 'zip', src_folder)\n",
        "\n",
        "print(\"✅ Dataset successfully backed up as ZIP file:\")\n",
        "print(zip_path)\n"
      ],
      "metadata": {
        "colab": {
          "base_uri": "https://localhost:8080/"
        },
        "id": "KxaOrPbs-EnR",
        "outputId": "999335c1-f2b6-4b96-cf78-29dd59a048c0"
      },
      "execution_count": 32,
      "outputs": [
        {
          "output_type": "stream",
          "name": "stdout",
          "text": [
            "✅ Dataset successfully backed up as ZIP file:\n",
            "/content/drive/MyDrive/flicker_dataset/FlickrLogos_47_backup.zip\n"
          ]
        }
      ]
    },
    {
      "cell_type": "code",
      "source": [],
      "metadata": {
        "id": "6iz0TYSh-FQS"
      },
      "execution_count": null,
      "outputs": []
    }
  ]
}